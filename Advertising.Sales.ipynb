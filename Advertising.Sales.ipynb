{
 "cells": [
  {
   "cell_type": "markdown",
   "id": "3dae4535",
   "metadata": {},
   "source": [
    "Problem statement:\n",
    "    \n",
    "-To predict the total sales generated from all the sales channel from the given dataset."
   ]
  },
  {
   "cell_type": "code",
   "execution_count": 1,
   "id": "a927a9a6",
   "metadata": {},
   "outputs": [],
   "source": [
    "#loading the dataset\n",
    "\n",
    "import pandas as pd\n",
    "import numpy as np\n",
    "\n",
    "df=pd.read_csv(\"advertising.csv\")"
   ]
  },
  {
   "cell_type": "code",
   "execution_count": 2,
   "id": "6d6dbd8b",
   "metadata": {},
   "outputs": [
    {
     "data": {
      "text/html": [
       "<div>\n",
       "<style scoped>\n",
       "    .dataframe tbody tr th:only-of-type {\n",
       "        vertical-align: middle;\n",
       "    }\n",
       "\n",
       "    .dataframe tbody tr th {\n",
       "        vertical-align: top;\n",
       "    }\n",
       "\n",
       "    .dataframe thead th {\n",
       "        text-align: right;\n",
       "    }\n",
       "</style>\n",
       "<table border=\"1\" class=\"dataframe\">\n",
       "  <thead>\n",
       "    <tr style=\"text-align: right;\">\n",
       "      <th></th>\n",
       "      <th>Unnamed: 0</th>\n",
       "      <th>TV</th>\n",
       "      <th>radio</th>\n",
       "      <th>newspaper</th>\n",
       "      <th>sales</th>\n",
       "    </tr>\n",
       "  </thead>\n",
       "  <tbody>\n",
       "    <tr>\n",
       "      <th>0</th>\n",
       "      <td>1</td>\n",
       "      <td>230.1</td>\n",
       "      <td>37.8</td>\n",
       "      <td>69.2</td>\n",
       "      <td>22.1</td>\n",
       "    </tr>\n",
       "    <tr>\n",
       "      <th>1</th>\n",
       "      <td>2</td>\n",
       "      <td>44.5</td>\n",
       "      <td>39.3</td>\n",
       "      <td>45.1</td>\n",
       "      <td>10.4</td>\n",
       "    </tr>\n",
       "    <tr>\n",
       "      <th>2</th>\n",
       "      <td>3</td>\n",
       "      <td>17.2</td>\n",
       "      <td>45.9</td>\n",
       "      <td>69.3</td>\n",
       "      <td>9.3</td>\n",
       "    </tr>\n",
       "    <tr>\n",
       "      <th>3</th>\n",
       "      <td>4</td>\n",
       "      <td>151.5</td>\n",
       "      <td>41.3</td>\n",
       "      <td>58.5</td>\n",
       "      <td>18.5</td>\n",
       "    </tr>\n",
       "    <tr>\n",
       "      <th>4</th>\n",
       "      <td>5</td>\n",
       "      <td>180.8</td>\n",
       "      <td>10.8</td>\n",
       "      <td>58.4</td>\n",
       "      <td>12.9</td>\n",
       "    </tr>\n",
       "    <tr>\n",
       "      <th>...</th>\n",
       "      <td>...</td>\n",
       "      <td>...</td>\n",
       "      <td>...</td>\n",
       "      <td>...</td>\n",
       "      <td>...</td>\n",
       "    </tr>\n",
       "    <tr>\n",
       "      <th>195</th>\n",
       "      <td>196</td>\n",
       "      <td>38.2</td>\n",
       "      <td>3.7</td>\n",
       "      <td>13.8</td>\n",
       "      <td>7.6</td>\n",
       "    </tr>\n",
       "    <tr>\n",
       "      <th>196</th>\n",
       "      <td>197</td>\n",
       "      <td>94.2</td>\n",
       "      <td>4.9</td>\n",
       "      <td>8.1</td>\n",
       "      <td>9.7</td>\n",
       "    </tr>\n",
       "    <tr>\n",
       "      <th>197</th>\n",
       "      <td>198</td>\n",
       "      <td>177.0</td>\n",
       "      <td>9.3</td>\n",
       "      <td>6.4</td>\n",
       "      <td>12.8</td>\n",
       "    </tr>\n",
       "    <tr>\n",
       "      <th>198</th>\n",
       "      <td>199</td>\n",
       "      <td>283.6</td>\n",
       "      <td>42.0</td>\n",
       "      <td>66.2</td>\n",
       "      <td>25.5</td>\n",
       "    </tr>\n",
       "    <tr>\n",
       "      <th>199</th>\n",
       "      <td>200</td>\n",
       "      <td>232.1</td>\n",
       "      <td>8.6</td>\n",
       "      <td>8.7</td>\n",
       "      <td>13.4</td>\n",
       "    </tr>\n",
       "  </tbody>\n",
       "</table>\n",
       "<p>200 rows × 5 columns</p>\n",
       "</div>"
      ],
      "text/plain": [
       "     Unnamed: 0     TV  radio  newspaper  sales\n",
       "0             1  230.1   37.8       69.2   22.1\n",
       "1             2   44.5   39.3       45.1   10.4\n",
       "2             3   17.2   45.9       69.3    9.3\n",
       "3             4  151.5   41.3       58.5   18.5\n",
       "4             5  180.8   10.8       58.4   12.9\n",
       "..          ...    ...    ...        ...    ...\n",
       "195         196   38.2    3.7       13.8    7.6\n",
       "196         197   94.2    4.9        8.1    9.7\n",
       "197         198  177.0    9.3        6.4   12.8\n",
       "198         199  283.6   42.0       66.2   25.5\n",
       "199         200  232.1    8.6        8.7   13.4\n",
       "\n",
       "[200 rows x 5 columns]"
      ]
     },
     "execution_count": 2,
     "metadata": {},
     "output_type": "execute_result"
    }
   ],
   "source": [
    "df"
   ]
  },
  {
   "cell_type": "code",
   "execution_count": 3,
   "id": "a021beac",
   "metadata": {},
   "outputs": [],
   "source": [
    "df=df.set_index('Unnamed: 0')"
   ]
  },
  {
   "cell_type": "code",
   "execution_count": 4,
   "id": "76136808",
   "metadata": {},
   "outputs": [
    {
     "data": {
      "text/html": [
       "<div>\n",
       "<style scoped>\n",
       "    .dataframe tbody tr th:only-of-type {\n",
       "        vertical-align: middle;\n",
       "    }\n",
       "\n",
       "    .dataframe tbody tr th {\n",
       "        vertical-align: top;\n",
       "    }\n",
       "\n",
       "    .dataframe thead th {\n",
       "        text-align: right;\n",
       "    }\n",
       "</style>\n",
       "<table border=\"1\" class=\"dataframe\">\n",
       "  <thead>\n",
       "    <tr style=\"text-align: right;\">\n",
       "      <th></th>\n",
       "      <th>TV</th>\n",
       "      <th>radio</th>\n",
       "      <th>newspaper</th>\n",
       "      <th>sales</th>\n",
       "    </tr>\n",
       "    <tr>\n",
       "      <th>Unnamed: 0</th>\n",
       "      <th></th>\n",
       "      <th></th>\n",
       "      <th></th>\n",
       "      <th></th>\n",
       "    </tr>\n",
       "  </thead>\n",
       "  <tbody>\n",
       "    <tr>\n",
       "      <th>159</th>\n",
       "      <td>11.7</td>\n",
       "      <td>36.9</td>\n",
       "      <td>45.2</td>\n",
       "      <td>7.3</td>\n",
       "    </tr>\n",
       "    <tr>\n",
       "      <th>109</th>\n",
       "      <td>13.1</td>\n",
       "      <td>0.4</td>\n",
       "      <td>25.6</td>\n",
       "      <td>5.3</td>\n",
       "    </tr>\n",
       "    <tr>\n",
       "      <th>140</th>\n",
       "      <td>184.9</td>\n",
       "      <td>43.9</td>\n",
       "      <td>1.7</td>\n",
       "      <td>20.7</td>\n",
       "    </tr>\n",
       "    <tr>\n",
       "      <th>84</th>\n",
       "      <td>68.4</td>\n",
       "      <td>44.5</td>\n",
       "      <td>35.6</td>\n",
       "      <td>13.6</td>\n",
       "    </tr>\n",
       "    <tr>\n",
       "      <th>65</th>\n",
       "      <td>131.1</td>\n",
       "      <td>42.8</td>\n",
       "      <td>28.9</td>\n",
       "      <td>18.0</td>\n",
       "    </tr>\n",
       "  </tbody>\n",
       "</table>\n",
       "</div>"
      ],
      "text/plain": [
       "               TV  radio  newspaper  sales\n",
       "Unnamed: 0                                \n",
       "159          11.7   36.9       45.2    7.3\n",
       "109          13.1    0.4       25.6    5.3\n",
       "140         184.9   43.9        1.7   20.7\n",
       "84           68.4   44.5       35.6   13.6\n",
       "65          131.1   42.8       28.9   18.0"
      ]
     },
     "execution_count": 4,
     "metadata": {},
     "output_type": "execute_result"
    }
   ],
   "source": [
    "df.sample(5)"
   ]
  },
  {
   "cell_type": "code",
   "execution_count": 5,
   "id": "74e02ca6",
   "metadata": {},
   "outputs": [
    {
     "data": {
      "text/plain": [
       "TV           0\n",
       "radio        0\n",
       "newspaper    0\n",
       "sales        0\n",
       "dtype: int64"
      ]
     },
     "execution_count": 5,
     "metadata": {},
     "output_type": "execute_result"
    }
   ],
   "source": [
    "#checking for null values\n",
    "\n",
    "df.isnull().sum()"
   ]
  },
  {
   "cell_type": "code",
   "execution_count": 6,
   "id": "ca7d75e6",
   "metadata": {},
   "outputs": [],
   "source": [
    "import seaborn as sns\n",
    "import matplotlib.pyplot as plt\n",
    "import warnings\n",
    "warnings.filterwarnings('ignore')"
   ]
  },
  {
   "cell_type": "code",
   "execution_count": 7,
   "id": "22e69d5d",
   "metadata": {},
   "outputs": [
    {
     "data": {
      "text/plain": [
       "<AxesSubplot:ylabel='Unnamed: 0'>"
      ]
     },
     "execution_count": 7,
     "metadata": {},
     "output_type": "execute_result"
    },
    {
     "data": {
      "image/png": "[encoded data removed]",
      "text/plain": [
       "<Figure size 432x288 with 2 Axes>"
      ]
     },
     "metadata": {
      "needs_background": "light"
     },
     "output_type": "display_data"
    }
   ],
   "source": [
    "sns.heatmap(df.isnull())"
   ]
  },
  {
   "cell_type": "code",
   "execution_count": 8,
   "id": "1ef1b6e1",
   "metadata": {},
   "outputs": [
    {
     "data": {
      "text/plain": [
       "TV           float64\n",
       "radio        float64\n",
       "newspaper    float64\n",
       "sales        float64\n",
       "dtype: object"
      ]
     },
     "execution_count": 8,
     "metadata": {},
     "output_type": "execute_result"
    }
   ],
   "source": [
    "df.dtypes"
   ]
  },
  {
   "cell_type": "markdown",
   "id": "f1f71e4c",
   "metadata": {},
   "source": [
    "-so the dataset has no null values and float datatype in all columns.\n"
   ]
  },
  {
   "cell_type": "markdown",
   "id": "cf9e151b",
   "metadata": {},
   "source": [
    "-now we are going to do exploratory data analysis by data visualization."
   ]
  },
  {
   "cell_type": "markdown",
   "id": "38a0b4d8",
   "metadata": {},
   "source": [
    "# EDA"
   ]
  },
  {
   "cell_type": "code",
   "execution_count": 9,
   "id": "a4bc6cc5",
   "metadata": {},
   "outputs": [
    {
     "name": "stdout",
     "output_type": "stream",
     "text": [
      "<class 'pandas.core.frame.DataFrame'>\n",
      "Int64Index: 200 entries, 1 to 200\n",
      "Data columns (total 4 columns):\n",
      " #   Column     Non-Null Count  Dtype  \n",
      "---  ------     --------------  -----  \n",
      " 0   TV         200 non-null    float64\n",
      " 1   radio      200 non-null    float64\n",
      " 2   newspaper  200 non-null    float64\n",
      " 3   sales      200 non-null    float64\n",
      "dtypes: float64(4)\n",
      "memory usage: 7.8 KB\n"
     ]
    }
   ],
   "source": [
    "df.info()"
   ]
  },
  {
   "cell_type": "code",
   "execution_count": 10,
   "id": "73159932",
   "metadata": {},
   "outputs": [
    {
     "data": {
      "text/plain": [
       "<AxesSubplot:xlabel='TV', ylabel='sales'>"
      ]
     },
     "execution_count": 10,
     "metadata": {},
     "output_type": "execute_result"
    },
    {
     "data": {
      "image/png": "[encoded data removed]",
      "text/plain": [
       "<Figure size 432x288 with 1 Axes>"
      ]
     },
     "metadata": {
      "needs_background": "light"
     },
     "output_type": "display_data"
    }
   ],
   "source": [
    "#the target variable is sales columns.\n",
    "\n",
    "sns.regplot('TV','sales',data=df)"
   ]
  },
  {
   "cell_type": "markdown",
   "id": "3539f7c9",
   "metadata": {},
   "source": [
    "-it can be seen that TV sales is directly proprtional to total sales, as TV sales is increasing total sales are also increasing."
   ]
  },
  {
   "cell_type": "code",
   "execution_count": 11,
   "id": "d85e9d4d",
   "metadata": {},
   "outputs": [
    {
     "data": {
      "text/plain": [
       "<AxesSubplot:xlabel='radio', ylabel='sales'>"
      ]
     },
     "execution_count": 11,
     "metadata": {},
     "output_type": "execute_result"
    },
    {
     "data": {
      "image/png": "[encoded data removed]",
      "text/plain": [
       "<Figure size 432x288 with 1 Axes>"
      ]
     },
     "metadata": {
      "needs_background": "light"
     },
     "output_type": "display_data"
    }
   ],
   "source": [
    "sns.regplot('radio','sales',data=df)"
   ]
  },
  {
   "cell_type": "markdown",
   "id": "931bc647",
   "metadata": {},
   "source": [
    "-it can be seen that even though the radio sales is increasing it is not certain that total sales too are increasing and also data distribution is random for some extent."
   ]
  },
  {
   "cell_type": "code",
   "execution_count": 12,
   "id": "6d2b9224",
   "metadata": {},
   "outputs": [
    {
     "data": {
      "text/plain": [
       "<AxesSubplot:xlabel='newspaper', ylabel='sales'>"
      ]
     },
     "execution_count": 12,
     "metadata": {},
     "output_type": "execute_result"
    },
    {
     "data": {
      "image/png": "[encoded data removed]",
      "text/plain": [
       "<Figure size 432x288 with 1 Axes>"
      ]
     },
     "metadata": {
      "needs_background": "light"
     },
     "output_type": "display_data"
    }
   ],
   "source": [
    "sns.regplot('newspaper','sales',data=df)"
   ]
  },
  {
   "cell_type": "markdown",
   "id": "c736c29f",
   "metadata": {},
   "source": [
    "-newspaper too has not very good correlation with overall sales."
   ]
  },
  {
   "cell_type": "code",
   "execution_count": 13,
   "id": "ec92da44",
   "metadata": {},
   "outputs": [
    {
     "data": {
      "text/html": [
       "<div>\n",
       "<style scoped>\n",
       "    .dataframe tbody tr th:only-of-type {\n",
       "        vertical-align: middle;\n",
       "    }\n",
       "\n",
       "    .dataframe tbody tr th {\n",
       "        vertical-align: top;\n",
       "    }\n",
       "\n",
       "    .dataframe thead th {\n",
       "        text-align: right;\n",
       "    }\n",
       "</style>\n",
       "<table border=\"1\" class=\"dataframe\">\n",
       "  <thead>\n",
       "    <tr style=\"text-align: right;\">\n",
       "      <th></th>\n",
       "      <th>TV</th>\n",
       "      <th>radio</th>\n",
       "      <th>newspaper</th>\n",
       "      <th>sales</th>\n",
       "    </tr>\n",
       "  </thead>\n",
       "  <tbody>\n",
       "    <tr>\n",
       "      <th>TV</th>\n",
       "      <td>1.000000</td>\n",
       "      <td>0.054809</td>\n",
       "      <td>0.056648</td>\n",
       "      <td>0.782224</td>\n",
       "    </tr>\n",
       "    <tr>\n",
       "      <th>radio</th>\n",
       "      <td>0.054809</td>\n",
       "      <td>1.000000</td>\n",
       "      <td>0.354104</td>\n",
       "      <td>0.576223</td>\n",
       "    </tr>\n",
       "    <tr>\n",
       "      <th>newspaper</th>\n",
       "      <td>0.056648</td>\n",
       "      <td>0.354104</td>\n",
       "      <td>1.000000</td>\n",
       "      <td>0.228299</td>\n",
       "    </tr>\n",
       "    <tr>\n",
       "      <th>sales</th>\n",
       "      <td>0.782224</td>\n",
       "      <td>0.576223</td>\n",
       "      <td>0.228299</td>\n",
       "      <td>1.000000</td>\n",
       "    </tr>\n",
       "  </tbody>\n",
       "</table>\n",
       "</div>"
      ],
      "text/plain": [
       "                 TV     radio  newspaper     sales\n",
       "TV         1.000000  0.054809   0.056648  0.782224\n",
       "radio      0.054809  1.000000   0.354104  0.576223\n",
       "newspaper  0.056648  0.354104   1.000000  0.228299\n",
       "sales      0.782224  0.576223   0.228299  1.000000"
      ]
     },
     "execution_count": 13,
     "metadata": {},
     "output_type": "execute_result"
    }
   ],
   "source": [
    "#checking for correlation\n",
    "\n",
    "df.corr()"
   ]
  },
  {
   "cell_type": "code",
   "execution_count": 14,
   "id": "c3116897",
   "metadata": {},
   "outputs": [
    {
     "data": {
      "text/plain": [
       "sales        1.000000\n",
       "TV           0.782224\n",
       "radio        0.576223\n",
       "newspaper    0.228299\n",
       "Name: sales, dtype: float64"
      ]
     },
     "execution_count": 14,
     "metadata": {},
     "output_type": "execute_result"
    }
   ],
   "source": [
    "df.corr()['sales'].sort_values(ascending=False)"
   ]
  },
  {
   "cell_type": "code",
   "execution_count": 15,
   "id": "e0a9ad98",
   "metadata": {},
   "outputs": [
    {
     "data": {
      "text/plain": [
       "<AxesSubplot:>"
      ]
     },
     "execution_count": 15,
     "metadata": {},
     "output_type": "execute_result"
    },
    {
     "data": {
      "image/png": "[encoded data removed]",
      "text/plain": [
       "<Figure size 432x288 with 2 Axes>"
      ]
     },
     "metadata": {
      "needs_background": "light"
     },
     "output_type": "display_data"
    }
   ],
   "source": [
    "sns.heatmap(df.corr(),annot=True,cmap='YlGnBu',fmt='.2%')"
   ]
  },
  {
   "cell_type": "markdown",
   "id": "7e73b490",
   "metadata": {},
   "source": [
    "conclusion:\n",
    "- as it could be seen from scatterplots, correlation attribute is showing the same results.\n",
    "- 'TV' has the strongest correlation bond with the target variable while 'newspaper' has the weakest bond.\n",
    "- 'radio' has a good correlation bond with the target variable."
   ]
  },
  {
   "cell_type": "code",
   "execution_count": 16,
   "id": "c737b9b5",
   "metadata": {},
   "outputs": [
    {
     "data": {
      "text/html": [
       "<div>\n",
       "<style scoped>\n",
       "    .dataframe tbody tr th:only-of-type {\n",
       "        vertical-align: middle;\n",
       "    }\n",
       "\n",
       "    .dataframe tbody tr th {\n",
       "        vertical-align: top;\n",
       "    }\n",
       "\n",
       "    .dataframe thead th {\n",
       "        text-align: right;\n",
       "    }\n",
       "</style>\n",
       "<table border=\"1\" class=\"dataframe\">\n",
       "  <thead>\n",
       "    <tr style=\"text-align: right;\">\n",
       "      <th></th>\n",
       "      <th>TV</th>\n",
       "      <th>radio</th>\n",
       "      <th>newspaper</th>\n",
       "      <th>sales</th>\n",
       "    </tr>\n",
       "  </thead>\n",
       "  <tbody>\n",
       "    <tr>\n",
       "      <th>count</th>\n",
       "      <td>200.000000</td>\n",
       "      <td>200.000000</td>\n",
       "      <td>200.000000</td>\n",
       "      <td>200.000000</td>\n",
       "    </tr>\n",
       "    <tr>\n",
       "      <th>mean</th>\n",
       "      <td>147.042500</td>\n",
       "      <td>23.264000</td>\n",
       "      <td>30.554000</td>\n",
       "      <td>14.022500</td>\n",
       "    </tr>\n",
       "    <tr>\n",
       "      <th>std</th>\n",
       "      <td>85.854236</td>\n",
       "      <td>14.846809</td>\n",
       "      <td>21.778621</td>\n",
       "      <td>5.217457</td>\n",
       "    </tr>\n",
       "    <tr>\n",
       "      <th>min</th>\n",
       "      <td>0.700000</td>\n",
       "      <td>0.000000</td>\n",
       "      <td>0.300000</td>\n",
       "      <td>1.600000</td>\n",
       "    </tr>\n",
       "    <tr>\n",
       "      <th>25%</th>\n",
       "      <td>74.375000</td>\n",
       "      <td>9.975000</td>\n",
       "      <td>12.750000</td>\n",
       "      <td>10.375000</td>\n",
       "    </tr>\n",
       "    <tr>\n",
       "      <th>50%</th>\n",
       "      <td>149.750000</td>\n",
       "      <td>22.900000</td>\n",
       "      <td>25.750000</td>\n",
       "      <td>12.900000</td>\n",
       "    </tr>\n",
       "    <tr>\n",
       "      <th>75%</th>\n",
       "      <td>218.825000</td>\n",
       "      <td>36.525000</td>\n",
       "      <td>45.100000</td>\n",
       "      <td>17.400000</td>\n",
       "    </tr>\n",
       "    <tr>\n",
       "      <th>max</th>\n",
       "      <td>296.400000</td>\n",
       "      <td>49.600000</td>\n",
       "      <td>114.000000</td>\n",
       "      <td>27.000000</td>\n",
       "    </tr>\n",
       "  </tbody>\n",
       "</table>\n",
       "</div>"
      ],
      "text/plain": [
       "               TV       radio   newspaper       sales\n",
       "count  200.000000  200.000000  200.000000  200.000000\n",
       "mean   147.042500   23.264000   30.554000   14.022500\n",
       "std     85.854236   14.846809   21.778621    5.217457\n",
       "min      0.700000    0.000000    0.300000    1.600000\n",
       "25%     74.375000    9.975000   12.750000   10.375000\n",
       "50%    149.750000   22.900000   25.750000   12.900000\n",
       "75%    218.825000   36.525000   45.100000   17.400000\n",
       "max    296.400000   49.600000  114.000000   27.000000"
      ]
     },
     "execution_count": 16,
     "metadata": {},
     "output_type": "execute_result"
    }
   ],
   "source": [
    "# now let's, describe our dataset:\n",
    "\n",
    "df.describe()"
   ]
  },
  {
   "cell_type": "markdown",
   "id": "03f3a1ab",
   "metadata": {},
   "source": [
    "it can be seen that:\n",
    "- mean for 'TV' is less than it's median which means that the data is negatively skewed.\n",
    "- mean for both other columns is greater than their median resulting in positively skewed data.\n",
    "- much differnece present between 75 percentile and maximum values so outliers might be present."
   ]
  },
  {
   "cell_type": "code",
   "execution_count": 17,
   "id": "76a0ac6d",
   "metadata": {},
   "outputs": [
    {
     "data": {
      "text/plain": [
       "<AxesSubplot:xlabel='TV'>"
      ]
     },
     "execution_count": 17,
     "metadata": {},
     "output_type": "execute_result"
    },
    {
     "data": {
      "image/png": "[encoded data removed]",
      "text/plain": [
       "<Figure size 432x288 with 1 Axes>"
      ]
     },
     "metadata": {
      "needs_background": "light"
     },
     "output_type": "display_data"
    }
   ],
   "source": [
    "#let's check for outliers\n",
    "\n",
    "sns.boxplot(df['TV'],orient=\"h\")"
   ]
  },
  {
   "cell_type": "code",
   "execution_count": 18,
   "id": "0d4eec1e",
   "metadata": {},
   "outputs": [
    {
     "data": {
      "text/plain": [
       "<AxesSubplot:xlabel='radio'>"
      ]
     },
     "execution_count": 18,
     "metadata": {},
     "output_type": "execute_result"
    },
    {
     "data": {
      "image/png": "[encoded data removed]",
      "text/plain": [
       "<Figure size 432x288 with 1 Axes>"
      ]
     },
     "metadata": {
      "needs_background": "light"
     },
     "output_type": "display_data"
    }
   ],
   "source": [
    "sns.boxplot(df['radio'])"
   ]
  },
  {
   "cell_type": "code",
   "execution_count": 19,
   "id": "f949303c",
   "metadata": {},
   "outputs": [
    {
     "data": {
      "text/plain": [
       "<AxesSubplot:xlabel='newspaper'>"
      ]
     },
     "execution_count": 19,
     "metadata": {},
     "output_type": "execute_result"
    },
    {
     "data": {
      "image/png": "[encoded data removed]",
      "text/plain": [
       "<Figure size 432x288 with 1 Axes>"
      ]
     },
     "metadata": {
      "needs_background": "light"
     },
     "output_type": "display_data"
    }
   ],
   "source": [
    "sns.boxplot(df['newspaper'])"
   ]
  },
  {
   "cell_type": "markdown",
   "id": "979797ff",
   "metadata": {},
   "source": [
    "so, for 'TV' and 'radio' no outliers present and for 'newspaper' some outliers are present."
   ]
  },
  {
   "cell_type": "markdown",
   "id": "48d86179",
   "metadata": {},
   "source": [
    "# Data cleaning:\n",
    "- we will deal with outliers, skewness and other factors in this part."
   ]
  },
  {
   "cell_type": "code",
   "execution_count": 20,
   "id": "938f43ee",
   "metadata": {},
   "outputs": [],
   "source": [
    "#let's try zscore method for outliers removal\n",
    "\n",
    "from scipy.stats import zscore\n",
    "\n",
    "z=np.abs(zscore(df))"
   ]
  },
  {
   "cell_type": "code",
   "execution_count": 21,
   "id": "2b1dcdad",
   "metadata": {},
   "outputs": [
    {
     "data": {
      "text/plain": [
       "(array([ 16, 101], dtype=int64), array([2, 2], dtype=int64))"
      ]
     },
     "execution_count": 21,
     "metadata": {},
     "output_type": "execute_result"
    }
   ],
   "source": [
    "np.where(z>3)"
   ]
  },
  {
   "cell_type": "code",
   "execution_count": 22,
   "id": "0fc64d71",
   "metadata": {},
   "outputs": [],
   "source": [
    "#so only two outliers are present, so we will remove them or keep them, it won't affect our model majorily\n",
    "\n",
    "df_new=df[(z<3).all(axis=1)]"
   ]
  },
  {
   "cell_type": "code",
   "execution_count": 23,
   "id": "ab2382b3",
   "metadata": {},
   "outputs": [
    {
     "data": {
      "text/plain": [
       "(200, 4)"
      ]
     },
     "execution_count": 23,
     "metadata": {},
     "output_type": "execute_result"
    }
   ],
   "source": [
    "df.shape"
   ]
  },
  {
   "cell_type": "code",
   "execution_count": 24,
   "id": "6f5c119a",
   "metadata": {},
   "outputs": [
    {
     "data": {
      "text/plain": [
       "(198, 4)"
      ]
     },
     "execution_count": 24,
     "metadata": {},
     "output_type": "execute_result"
    }
   ],
   "source": [
    "df_new.shape"
   ]
  },
  {
   "cell_type": "code",
   "execution_count": 25,
   "id": "98682e2b",
   "metadata": {},
   "outputs": [
    {
     "name": "stdout",
     "output_type": "stream",
     "text": [
      "Data loss is: 1.0 %\n"
     ]
    }
   ],
   "source": [
    "print('Data loss is:',(200-198)/200*100,'%')"
   ]
  },
  {
   "cell_type": "code",
   "execution_count": 26,
   "id": "e04aac4d",
   "metadata": {},
   "outputs": [],
   "source": [
    "# now selecting our feature and target variable for further process\n",
    "\n",
    "x=df_new.drop('sales',axis=1)\n",
    "y=df_new['sales']"
   ]
  },
  {
   "cell_type": "code",
   "execution_count": 27,
   "id": "4a73349f",
   "metadata": {},
   "outputs": [
    {
     "data": {
      "text/plain": [
       "(198, 3)"
      ]
     },
     "execution_count": 27,
     "metadata": {},
     "output_type": "execute_result"
    }
   ],
   "source": [
    "x.shape"
   ]
  },
  {
   "cell_type": "code",
   "execution_count": 28,
   "id": "713f64cc",
   "metadata": {},
   "outputs": [
    {
     "data": {
      "text/plain": [
       "(198,)"
      ]
     },
     "execution_count": 28,
     "metadata": {},
     "output_type": "execute_result"
    }
   ],
   "source": [
    "y.shape"
   ]
  },
  {
   "cell_type": "code",
   "execution_count": 29,
   "id": "bc681bfc",
   "metadata": {},
   "outputs": [
    {
     "data": {
      "text/plain": [
       "TV          -0.082332\n",
       "radio        0.114842\n",
       "newspaper    0.650112\n",
       "dtype: float64"
      ]
     },
     "execution_count": 29,
     "metadata": {},
     "output_type": "execute_result"
    }
   ],
   "source": [
    "#checking for skewness\n",
    "\n",
    "x.skew()"
   ]
  },
  {
   "cell_type": "markdown",
   "id": "4ec694f2",
   "metadata": {},
   "source": [
    "-setting the threshold for skewness as +/- .65, so every column falls under this only."
   ]
  },
  {
   "cell_type": "code",
   "execution_count": 30,
   "id": "87849dbe",
   "metadata": {},
   "outputs": [
    {
     "data": {
      "text/plain": [
       "<AxesSubplot:xlabel='TV', ylabel='Density'>"
      ]
     },
     "execution_count": 30,
     "metadata": {},
     "output_type": "execute_result"
    },
    {
     "data": {
      "image/png": "[encoded data removed]",
      "text/plain": [
       "<Figure size 432x288 with 1 Axes>"
      ]
     },
     "metadata": {
      "needs_background": "light"
     },
     "output_type": "display_data"
    }
   ],
   "source": [
    "sns.distplot(df['TV'])"
   ]
  },
  {
   "cell_type": "code",
   "execution_count": 31,
   "id": "3aa9af87",
   "metadata": {},
   "outputs": [
    {
     "data": {
      "text/plain": [
       "<AxesSubplot:xlabel='radio', ylabel='Density'>"
      ]
     },
     "execution_count": 31,
     "metadata": {},
     "output_type": "execute_result"
    },
    {
     "data": {
      "image/png": "[encoded data removed]",
      "text/plain": [
       "<Figure size 432x288 with 1 Axes>"
      ]
     },
     "metadata": {
      "needs_background": "light"
     },
     "output_type": "display_data"
    }
   ],
   "source": [
    "sns.distplot(df['radio'])"
   ]
  },
  {
   "cell_type": "code",
   "execution_count": 32,
   "id": "6d08e201",
   "metadata": {},
   "outputs": [
    {
     "data": {
      "text/plain": [
       "<AxesSubplot:xlabel='newspaper', ylabel='Density'>"
      ]
     },
     "execution_count": 32,
     "metadata": {},
     "output_type": "execute_result"
    },
    {
     "data": {
      "image/png": "[encoded data removed]",
      "text/plain": [
       "<Figure size 432x288 with 1 Axes>"
      ]
     },
     "metadata": {
      "needs_background": "light"
     },
     "output_type": "display_data"
    }
   ],
   "source": [
    "sns.distplot(df['newspaper'])"
   ]
  },
  {
   "cell_type": "markdown",
   "id": "9dfe3306",
   "metadata": {},
   "source": [
    "-so, the building blocks are not much higher than normal distribution curve for all three feature columns."
   ]
  },
  {
   "cell_type": "code",
   "execution_count": 33,
   "id": "8889f580",
   "metadata": {},
   "outputs": [],
   "source": [
    "#checking for multicollinearity\n",
    "\n",
    "from statsmodels.stats.outliers_influence import variance_inflation_factor\n",
    "\n",
    "def vif_calc():\n",
    "    vif=pd.DataFrame()\n",
    "    vif['VIF Factor']=[variance_inflation_factor(x.values,i) for i in range(x.shape[1])]\n",
    "    vif['features']=x.columns\n",
    "    print(vif)"
   ]
  },
  {
   "cell_type": "code",
   "execution_count": 34,
   "id": "679b87ed",
   "metadata": {},
   "outputs": [
    {
     "name": "stdout",
     "output_type": "stream",
     "text": [
      "   VIF Factor   features\n",
      "0    2.502183         TV\n",
      "1    3.275285      radio\n",
      "2    3.126386  newspaper\n"
     ]
    }
   ],
   "source": [
    "vif_calc()"
   ]
  },
  {
   "cell_type": "markdown",
   "id": "27aa857e",
   "metadata": {},
   "source": [
    "-so it can be seen that the feature columns don't have high multicollinearity"
   ]
  },
  {
   "cell_type": "code",
   "execution_count": 35,
   "id": "1c994639",
   "metadata": {},
   "outputs": [],
   "source": [
    "#scaling the input data\n",
    "\n",
    "from sklearn.preprocessing import StandardScaler\n",
    "sc=StandardScaler()\n",
    "x=sc.fit_transform(x)"
   ]
  },
  {
   "cell_type": "markdown",
   "id": "0d449c94",
   "metadata": {},
   "source": [
    "since the target variable is of continuous type data and has got many classes too we will use simple linear regression algorithm for our model"
   ]
  },
  {
   "cell_type": "code",
   "execution_count": 36,
   "id": "0167d909",
   "metadata": {},
   "outputs": [],
   "source": [
    "from sklearn.model_selection import train_test_split,cross_val_score\n",
    "from sklearn.linear_model import LinearRegression \n",
    "from sklearn.metrics import r2_score,mean_squared_error,mean_absolute_error"
   ]
  },
  {
   "cell_type": "code",
   "execution_count": 37,
   "id": "89bac5e7",
   "metadata": {},
   "outputs": [],
   "source": [
    "lr=LinearRegression()"
   ]
  },
  {
   "cell_type": "code",
   "execution_count": 38,
   "id": "0eb6bde4",
   "metadata": {},
   "outputs": [
    {
     "name": "stdout",
     "output_type": "stream",
     "text": [
      "At random state 12 the model performs very well\n",
      "At random state 12 :\n",
      "Training accuracy score is 88.0374624280104\n",
      "Testing accuracy score is 88.42521093391646 \n",
      "\n",
      "At random state 16 the model performs very well\n",
      "At random state 16 :\n",
      "Training accuracy score is 87.69835988542066\n",
      "Testing accuracy score is 88.00766040430702 \n",
      "\n",
      "At random state 67 the model performs very well\n",
      "At random state 67 :\n",
      "Training accuracy score is 87.8430799256139\n",
      "Testing accuracy score is 88.35317744456937 \n",
      "\n",
      "At random state 79 the model performs very well\n",
      "At random state 79 :\n",
      "Training accuracy score is 87.8690749576197\n",
      "Testing accuracy score is 87.98018307855968 \n",
      "\n"
     ]
    }
   ],
   "source": [
    "for i in range(0,100):\n",
    "    x_train,x_test,y_train,y_test=train_test_split(x,y,random_state=i,test_size=.20)\n",
    "    lr.fit(x_train,y_train)\n",
    "    predtrain=lr.predict(x_train)\n",
    "    predtest=lr.predict(x_test)\n",
    "    if round(r2_score(predtest,y_test)*100)==round(r2_score(predtrain,y_train)*100):\n",
    "        print('At random state',i,'the model performs very well')\n",
    "        print('At random state',i,':')\n",
    "        print('Training accuracy score is',r2_score(predtrain,y_train)*100)\n",
    "        print('Testing accuracy score is',r2_score(predtest,y_test)*100,'\\n')"
   ]
  },
  {
   "cell_type": "code",
   "execution_count": 39,
   "id": "3a441fca",
   "metadata": {},
   "outputs": [],
   "source": [
    "#let's take 12 as the random state\n",
    "\n",
    "x_train,x_test,y_train,y_test=train_test_split(x,y,random_state=12,test_size=.20)\n",
    "lr.fit(x_train,y_train)\n",
    "predtrain=lr.predict(x_train)\n",
    "predtest=lr.predict(x_test)"
   ]
  },
  {
   "cell_type": "code",
   "execution_count": 40,
   "id": "15f4bb2b",
   "metadata": {},
   "outputs": [
    {
     "name": "stdout",
     "output_type": "stream",
     "text": [
      "At cv= 2\n",
      "Cross Validation Score is: 88.86177292201751\n",
      "Accuracy score is: 88.42521093391646 \n",
      "\n",
      "At cv= 3\n",
      "Cross Validation Score is: 88.90406332045909\n",
      "Accuracy score is: 88.42521093391646 \n",
      "\n",
      "At cv= 4\n",
      "Cross Validation Score is: 88.80501918930908\n",
      "Accuracy score is: 88.42521093391646 \n",
      "\n",
      "At cv= 5\n",
      "Cross Validation Score is: 88.53605756683912\n",
      "Accuracy score is: 88.42521093391646 \n",
      "\n",
      "At cv= 6\n",
      "Cross Validation Score is: 88.68174285063071\n",
      "Accuracy score is: 88.42521093391646 \n",
      "\n",
      "At cv= 7\n",
      "Cross Validation Score is: 88.3828289486476\n",
      "Accuracy score is: 88.42521093391646 \n",
      "\n",
      "At cv= 8\n",
      "Cross Validation Score is: 88.80334554150218\n",
      "Accuracy score is: 88.42521093391646 \n",
      "\n",
      "At cv= 9\n",
      "Cross Validation Score is: 88.10485430282272\n",
      "Accuracy score is: 88.42521093391646 \n",
      "\n"
     ]
    }
   ],
   "source": [
    "#checking for cross validation score\n",
    "\n",
    "for j in range(2,10):\n",
    "    lss=cross_val_score(lr,x,y,cv=j)\n",
    "    lsc=lss.mean()\n",
    "    print('At cv=',j)\n",
    "    print('Cross Validation Score is:',lsc*100)\n",
    "    print('Accuracy score is:',r2_score(predtest,y_test)*100,'\\n')"
   ]
  },
  {
   "cell_type": "code",
   "execution_count": 41,
   "id": "bf27b021",
   "metadata": {},
   "outputs": [
    {
     "name": "stdout",
     "output_type": "stream",
     "text": [
      "2.6533893382706477\n",
      "1.2659015260980557\n"
     ]
    }
   ],
   "source": [
    "#checking error for LinearRegression\n",
    "\n",
    "mselr=mean_squared_error(predtest,y_test)\n",
    "maelr=mean_absolute_error(predtest,y_test)\n",
    "print(mselr)\n",
    "print(maelr)"
   ]
  },
  {
   "cell_type": "code",
   "execution_count": 42,
   "id": "279f59d5",
   "metadata": {},
   "outputs": [],
   "source": [
    "#trying hyperparameter tuning and ensemble techniques for best model:"
   ]
  },
  {
   "cell_type": "code",
   "execution_count": 43,
   "id": "2b7c332d",
   "metadata": {},
   "outputs": [],
   "source": [
    "from sklearn.model_selection import GridSearchCV\n",
    "from sklearn.ensemble import RandomForestRegressor"
   ]
  },
  {
   "cell_type": "code",
   "execution_count": 44,
   "id": "d064ea5d",
   "metadata": {},
   "outputs": [],
   "source": [
    "#Regularization:"
   ]
  },
  {
   "cell_type": "code",
   "execution_count": 45,
   "id": "c24c71ca",
   "metadata": {},
   "outputs": [
    {
     "name": "stdout",
     "output_type": "stream",
     "text": [
      "{'alpha': 0.1, 'random_state': 0}\n"
     ]
    }
   ],
   "source": [
    "from sklearn.linear_model import Lasso,Ridge\n",
    "\n",
    "ls=Lasso()\n",
    "\n",
    "para={'alpha':[.0001,.001,.01,.1,1,10],'random_state':[i for i in range(11)]}\n",
    "clf=GridSearchCV(ls,para)\n",
    "x_train,x_test,y_train,y_test=train_test_split(x,y,random_state=12,test_size=.20)\n",
    "clf.fit(x_train,y_train)\n",
    "\n",
    "print(clf.best_params_)"
   ]
  },
  {
   "cell_type": "code",
   "execution_count": 47,
   "id": "133e4a41",
   "metadata": {},
   "outputs": [
    {
     "name": "stdout",
     "output_type": "stream",
     "text": [
      "87.6801853218436\n"
     ]
    }
   ],
   "source": [
    "ls=Lasso(alpha=.1,random_state=0)\n",
    "ls.fit(x_train,y_train)\n",
    "predls=ls.predict(x_test)\n",
    "print(r2_score(predls,y_test)*100)"
   ]
  },
  {
   "cell_type": "code",
   "execution_count": 48,
   "id": "df6dc101",
   "metadata": {},
   "outputs": [
    {
     "name": "stdout",
     "output_type": "stream",
     "text": [
      "2.6758753079016038\n",
      "1.276336627384746\n"
     ]
    }
   ],
   "source": [
    "msels=mean_squared_error(predls,y_test)\n",
    "maels=mean_absolute_error(predls,y_test)\n",
    "print(msels)\n",
    "print(maels)"
   ]
  },
  {
   "cell_type": "code",
   "execution_count": 49,
   "id": "f8a91ff6",
   "metadata": {},
   "outputs": [
    {
     "name": "stdout",
     "output_type": "stream",
     "text": [
      "{'alpha': 1, 'random_state': 0}\n"
     ]
    }
   ],
   "source": [
    "lrr=Ridge()\n",
    "\n",
    "para={'alpha':[.0001,.001,.01,.1,1,10],'random_state':[i for i in range(11)]}\n",
    "clf=GridSearchCV(lrr,para)\n",
    "x_train,x_test,y_train,y_test=train_test_split(x,y,random_state=12,test_size=.20)\n",
    "clf.fit(x_train,y_train)\n",
    "\n",
    "print(clf.best_params_)"
   ]
  },
  {
   "cell_type": "code",
   "execution_count": 50,
   "id": "ea002d6d",
   "metadata": {},
   "outputs": [
    {
     "name": "stdout",
     "output_type": "stream",
     "text": [
      "88.23689428140686\n"
     ]
    }
   ],
   "source": [
    "lrr=Ridge(alpha=1,random_state=0)\n",
    "lrr.fit(x_train,y_train)\n",
    "predlrr=lrr.predict(x_test)\n",
    "print(r2_score(predlrr,y_test)*100)"
   ]
  },
  {
   "cell_type": "code",
   "execution_count": 51,
   "id": "e2cdd063",
   "metadata": {},
   "outputs": [
    {
     "name": "stdout",
     "output_type": "stream",
     "text": [
      "2.66292482624686 1.268674191808778\n"
     ]
    }
   ],
   "source": [
    "mselrr=mean_squared_error(predlrr,y_test)\n",
    "maelrr=mean_absolute_error(predlrr,y_test)\n",
    "print(mselrr,maelrr)"
   ]
  },
  {
   "cell_type": "code",
   "execution_count": 52,
   "id": "1e9dc426",
   "metadata": {},
   "outputs": [],
   "source": [
    "#ensemble:"
   ]
  },
  {
   "cell_type": "code",
   "execution_count": 53,
   "id": "a27d1170",
   "metadata": {},
   "outputs": [
    {
     "name": "stdout",
     "output_type": "stream",
     "text": [
      "{'criterion': 'squared_error', 'max_features': 'auto'}\n"
     ]
    }
   ],
   "source": [
    "parameters={'criterion':[\"squared_error\", \"absolute_error\", \"poisson\"],'max_features':['sqrt','log2','auto']}\n",
    "rf=RandomForestRegressor()\n",
    "clf=GridSearchCV(rf,parameters)\n",
    "x_train,x_test,y_train,y_test=train_test_split(x,y,random_state=12,test_size=.20)\n",
    "clf.fit(x_train,y_train)\n",
    "\n",
    "print(clf.best_params_)"
   ]
  },
  {
   "cell_type": "code",
   "execution_count": 54,
   "id": "92c76cf1",
   "metadata": {},
   "outputs": [
    {
     "name": "stdout",
     "output_type": "stream",
     "text": [
      "Accuracy score for Random Forest is: 98.18970395809842\n"
     ]
    }
   ],
   "source": [
    "rf=RandomForestRegressor(criterion='squared_error',max_features='auto')\n",
    "x_train,x_test,y_train,y_test=train_test_split(x,y,random_state=12,test_size=.20)\n",
    "rf.fit(x_train,y_train)\n",
    "predrf=rf.predict(x_test)\n",
    "\n",
    "rfscore=r2_score(predrf,y_test)\n",
    "\n",
    "print('Accuracy score for Random Forest is:',rfscore*100)"
   ]
  },
  {
   "cell_type": "code",
   "execution_count": 55,
   "id": "52ab832e",
   "metadata": {},
   "outputs": [],
   "source": [
    "#finding best random_state:"
   ]
  },
  {
   "cell_type": "code",
   "execution_count": 57,
   "id": "0b6b4fd6",
   "metadata": {},
   "outputs": [
    {
     "name": "stdout",
     "output_type": "stream",
     "text": [
      "At random state i: 0\n",
      "Accuracy score: 98.12591695286588 \n",
      "\n",
      "At random state i: 1\n",
      "Accuracy score: 98.10643102108484 \n",
      "\n",
      "At random state i: 5\n",
      "Accuracy score: 98.11623812916716 \n",
      "\n",
      "At random state i: 7\n",
      "Accuracy score: 98.54125192951759 \n",
      "\n",
      "At random state i: 9\n",
      "Accuracy score: 98.23300741122381 \n",
      "\n",
      "At random state i: 11\n",
      "Accuracy score: 98.5398875195754 \n",
      "\n",
      "At random state i: 12\n",
      "Accuracy score: 98.37148705399363 \n",
      "\n",
      "At random state i: 14\n",
      "Accuracy score: 98.3880538525561 \n",
      "\n",
      "At random state i: 16\n",
      "Accuracy score: 97.97343771508396 \n",
      "\n",
      "At random state i: 17\n",
      "Accuracy score: 98.25265138138865 \n",
      "\n",
      "At random state i: 19\n",
      "Accuracy score: 98.15993659385398 \n",
      "\n",
      "At random state i: 20\n",
      "Accuracy score: 98.27541590787723 \n",
      "\n",
      "At random state i: 21\n",
      "Accuracy score: 98.2773508658887 \n",
      "\n",
      "At random state i: 22\n",
      "Accuracy score: 98.24656686257 \n",
      "\n",
      "At random state i: 23\n",
      "Accuracy score: 98.20044730042947 \n",
      "\n",
      "At random state i: 24\n",
      "Accuracy score: 97.94979262194627 \n",
      "\n",
      "At random state i: 32\n",
      "Accuracy score: 97.95498356692995 \n",
      "\n",
      "At random state i: 33\n",
      "Accuracy score: 97.93074889156404 \n",
      "\n",
      "At random state i: 34\n",
      "Accuracy score: 98.13252692106022 \n",
      "\n",
      "At random state i: 35\n",
      "Accuracy score: 98.3775242507708 \n",
      "\n",
      "At random state i: 36\n",
      "Accuracy score: 98.02888991466338 \n",
      "\n",
      "At random state i: 38\n",
      "Accuracy score: 98.51441672983262 \n",
      "\n",
      "At random state i: 39\n",
      "Accuracy score: 98.77804415700652 \n",
      "\n",
      "At random state i: 40\n",
      "Accuracy score: 99.01281510941222 \n",
      "\n",
      "At random state i: 42\n",
      "Accuracy score: 98.54565357697925 \n",
      "\n",
      "At random state i: 45\n",
      "Accuracy score: 97.93102141993153 \n",
      "\n",
      "At random state i: 50\n",
      "Accuracy score: 98.52397278735938 \n",
      "\n",
      "At random state i: 52\n",
      "Accuracy score: 98.7130155843204 \n",
      "\n",
      "At random state i: 55\n",
      "Accuracy score: 97.95394687089384 \n",
      "\n",
      "At random state i: 58\n",
      "Accuracy score: 97.97702953113463 \n",
      "\n",
      "At random state i: 60\n",
      "Accuracy score: 98.05954472232517 \n",
      "\n",
      "At random state i: 64\n",
      "Accuracy score: 97.88637359749744 \n",
      "\n",
      "At random state i: 65\n",
      "Accuracy score: 97.98292444011749 \n",
      "\n",
      "At random state i: 69\n",
      "Accuracy score: 98.6331352402764 \n",
      "\n",
      "At random state i: 71\n",
      "Accuracy score: 98.07991665688608 \n",
      "\n",
      "At random state i: 72\n",
      "Accuracy score: 97.93770225979081 \n",
      "\n",
      "At random state i: 74\n",
      "Accuracy score: 98.22816154793239 \n",
      "\n",
      "At random state i: 76\n",
      "Accuracy score: 97.96350293892225 \n",
      "\n",
      "At random state i: 77\n",
      "Accuracy score: 97.97831885171595 \n",
      "\n",
      "At random state i: 81\n",
      "Accuracy score: 98.73556081992412 \n",
      "\n",
      "At random state i: 84\n",
      "Accuracy score: 98.07538879437007 \n",
      "\n",
      "At random state i: 86\n",
      "Accuracy score: 98.04151888682651 \n",
      "\n",
      "At random state i: 88\n",
      "Accuracy score: 98.12828644507579 \n",
      "\n",
      "At random state i: 89\n",
      "Accuracy score: 98.46900462197111 \n",
      "\n",
      "At random state i: 90\n",
      "Accuracy score: 98.31702590950754 \n",
      "\n",
      "At random state i: 97\n",
      "Accuracy score: 98.36123474590129 \n",
      "\n"
     ]
    }
   ],
   "source": [
    "for i in range(0,100):\n",
    "    x_train,x_test,y_train,y_test=train_test_split(x,y,random_state=i,test_size=.20)\n",
    "    rf=RandomForestRegressor(criterion='absolute_error',max_features='auto')\n",
    "    rf.fit(x_train,y_train)\n",
    "    predrf=rf.predict(x_test)\n",
    "    if round(r2_score(predrf,y_test)*100,1)>97.8:\n",
    "        print('At random state i:',i)\n",
    "        print('Accuracy score:',r2_score(predrf,y_test)*100,'\\n')"
   ]
  },
  {
   "cell_type": "code",
   "execution_count": 56,
   "id": "edf0b067",
   "metadata": {},
   "outputs": [
    {
     "name": "stdout",
     "output_type": "stream",
     "text": [
      "At cv= 2\n",
      "Cross Validation Score is: 96.84933004203967 \n",
      "\n",
      "At cv= 3\n",
      "Cross Validation Score is: 97.37851612025536 \n",
      "\n",
      "At cv= 4\n",
      "Cross Validation Score is: 97.76737191198998 \n",
      "\n",
      "At cv= 5\n",
      "Cross Validation Score is: 97.53317956753492 \n",
      "\n",
      "At cv= 6\n",
      "Cross Validation Score is: 97.55959728099283 \n",
      "\n",
      "At cv= 7\n",
      "Cross Validation Score is: 97.6505298859428 \n",
      "\n",
      "At cv= 8\n",
      "Cross Validation Score is: 97.84606737943903 \n",
      "\n",
      "At cv= 9\n",
      "Cross Validation Score is: 97.70166477119821 \n",
      "\n",
      "At cv= 10\n",
      "Cross Validation Score is: 97.87941439339862 \n",
      "\n",
      "At cv= 11\n",
      "Cross Validation Score is: 97.5743966079336 \n",
      "\n",
      "At cv= 12\n",
      "Cross Validation Score is: 97.50533697843014 \n",
      "\n",
      "At cv= 13\n",
      "Cross Validation Score is: 97.75062632438798 \n",
      "\n",
      "At cv= 14\n",
      "Cross Validation Score is: 97.73978736359808 \n",
      "\n",
      "At cv= 15\n",
      "Cross Validation Score is: 97.71238943913997 \n",
      "\n",
      "At cv= 16\n",
      "Cross Validation Score is: 97.63253097381082 \n",
      "\n",
      "At cv= 17\n",
      "Cross Validation Score is: 97.75613481957004 \n",
      "\n",
      "At cv= 18\n",
      "Cross Validation Score is: 97.78650149622634 \n",
      "\n",
      "At cv= 19\n",
      "Cross Validation Score is: 97.85329690612605 \n",
      "\n"
     ]
    }
   ],
   "source": [
    "#now checking for cross validation score for random forest\n",
    "\n",
    "for j in range(2,20):\n",
    "    rf=RandomForestRegressor(criterion='squared_error',max_features='auto')\n",
    "    rfcvs=cross_val_score(rf,x,y,cv=j)\n",
    "    rfc=rfcvs.mean()\n",
    "    print('At cv=',j)\n",
    "    print('Cross Validation Score is:',rfc*100,'\\n')"
   ]
  },
  {
   "cell_type": "code",
   "execution_count": 65,
   "id": "fa0a6d1e",
   "metadata": {},
   "outputs": [
    {
     "name": "stdout",
     "output_type": "stream",
     "text": [
      "97.68374726833996\n"
     ]
    }
   ],
   "source": [
    "x_train,x_test,y_train,y_test=train_test_split(x,y,random_state=32,test_size=.20)\n",
    "rf=RandomForestRegressor(criterion='absolute_error',max_features='auto')\n",
    "rf.fit(x_train,y_train)\n",
    "predrf=rf.predict(x_test)\n",
    "print(r2_score(predrf,y_test)*100)"
   ]
  },
  {
   "cell_type": "code",
   "execution_count": 74,
   "id": "d09186b2",
   "metadata": {},
   "outputs": [
    {
     "name": "stdout",
     "output_type": "stream",
     "text": [
      "97.66591973239827\n"
     ]
    }
   ],
   "source": [
    "#cross validation at cv=7 for random forest\n",
    "\n",
    "rf=RandomForestRegressor(criterion='squared_error',max_features='auto')\n",
    "rfcvs=cross_val_score(rf,x,y,cv=6)\n",
    "rfc=rfcvs.mean()\n",
    "print(rfc*100)"
   ]
  },
  {
   "cell_type": "code",
   "execution_count": 75,
   "id": "be9508e3",
   "metadata": {},
   "outputs": [
    {
     "name": "stdout",
     "output_type": "stream",
     "text": [
      "0.6267688624999977\n",
      "0.6652249999999993\n"
     ]
    }
   ],
   "source": [
    "mserf=mean_squared_error(predrf,y_test)\n",
    "maerf=mean_absolute_error(predrf,y_test)\n",
    "print(mserf)\n",
    "print(maerf)"
   ]
  },
  {
   "cell_type": "raw",
   "id": "38c4d8e4",
   "metadata": {},
   "source": [
    "So our model is performing extremely well with random forest as our acuuracy score and cross validation score \n",
    "both are coming out to be 97.6"
   ]
  },
  {
   "cell_type": "code",
   "execution_count": 79,
   "id": "fd70ecbe",
   "metadata": {},
   "outputs": [
    {
     "data": {
      "text/html": [
       "<div>\n",
       "<style scoped>\n",
       "    .dataframe tbody tr th:only-of-type {\n",
       "        vertical-align: middle;\n",
       "    }\n",
       "\n",
       "    .dataframe tbody tr th {\n",
       "        vertical-align: top;\n",
       "    }\n",
       "\n",
       "    .dataframe thead th {\n",
       "        text-align: right;\n",
       "    }\n",
       "</style>\n",
       "<table border=\"1\" class=\"dataframe\">\n",
       "  <thead>\n",
       "    <tr style=\"text-align: right;\">\n",
       "      <th></th>\n",
       "      <th>Original Sales</th>\n",
       "      <th>Predicted Sales</th>\n",
       "    </tr>\n",
       "    <tr>\n",
       "      <th>Unnamed: 0</th>\n",
       "      <th></th>\n",
       "      <th></th>\n",
       "    </tr>\n",
       "  </thead>\n",
       "  <tbody>\n",
       "    <tr>\n",
       "      <th>133</th>\n",
       "      <td>5.7</td>\n",
       "      <td>5.1530</td>\n",
       "    </tr>\n",
       "    <tr>\n",
       "      <th>130</th>\n",
       "      <td>9.7</td>\n",
       "      <td>10.0300</td>\n",
       "    </tr>\n",
       "    <tr>\n",
       "      <th>75</th>\n",
       "      <td>17.0</td>\n",
       "      <td>17.3680</td>\n",
       "    </tr>\n",
       "    <tr>\n",
       "      <th>175</th>\n",
       "      <td>11.5</td>\n",
       "      <td>11.8350</td>\n",
       "    </tr>\n",
       "    <tr>\n",
       "      <th>48</th>\n",
       "      <td>23.2</td>\n",
       "      <td>22.8365</td>\n",
       "    </tr>\n",
       "    <tr>\n",
       "      <th>31</th>\n",
       "      <td>21.4</td>\n",
       "      <td>20.3490</td>\n",
       "    </tr>\n",
       "    <tr>\n",
       "      <th>146</th>\n",
       "      <td>10.3</td>\n",
       "      <td>10.5610</td>\n",
       "    </tr>\n",
       "    <tr>\n",
       "      <th>183</th>\n",
       "      <td>8.7</td>\n",
       "      <td>8.6840</td>\n",
       "    </tr>\n",
       "    <tr>\n",
       "      <th>28</th>\n",
       "      <td>15.9</td>\n",
       "      <td>15.3820</td>\n",
       "    </tr>\n",
       "    <tr>\n",
       "      <th>3</th>\n",
       "      <td>9.3</td>\n",
       "      <td>7.8970</td>\n",
       "    </tr>\n",
       "    <tr>\n",
       "      <th>158</th>\n",
       "      <td>10.1</td>\n",
       "      <td>10.5510</td>\n",
       "    </tr>\n",
       "    <tr>\n",
       "      <th>88</th>\n",
       "      <td>16.0</td>\n",
       "      <td>14.9640</td>\n",
       "    </tr>\n",
       "    <tr>\n",
       "      <th>120</th>\n",
       "      <td>6.6</td>\n",
       "      <td>7.3140</td>\n",
       "    </tr>\n",
       "    <tr>\n",
       "      <th>107</th>\n",
       "      <td>7.2</td>\n",
       "      <td>7.8260</td>\n",
       "    </tr>\n",
       "    <tr>\n",
       "      <th>116</th>\n",
       "      <td>12.6</td>\n",
       "      <td>12.9610</td>\n",
       "    </tr>\n",
       "    <tr>\n",
       "      <th>159</th>\n",
       "      <td>7.3</td>\n",
       "      <td>6.4350</td>\n",
       "    </tr>\n",
       "    <tr>\n",
       "      <th>30</th>\n",
       "      <td>10.5</td>\n",
       "      <td>11.0390</td>\n",
       "    </tr>\n",
       "    <tr>\n",
       "      <th>29</th>\n",
       "      <td>18.9</td>\n",
       "      <td>19.3025</td>\n",
       "    </tr>\n",
       "    <tr>\n",
       "      <th>81</th>\n",
       "      <td>11.8</td>\n",
       "      <td>11.5400</td>\n",
       "    </tr>\n",
       "    <tr>\n",
       "      <th>46</th>\n",
       "      <td>14.9</td>\n",
       "      <td>16.1870</td>\n",
       "    </tr>\n",
       "    <tr>\n",
       "      <th>69</th>\n",
       "      <td>18.9</td>\n",
       "      <td>19.5445</td>\n",
       "    </tr>\n",
       "    <tr>\n",
       "      <th>117</th>\n",
       "      <td>12.2</td>\n",
       "      <td>13.3160</td>\n",
       "    </tr>\n",
       "    <tr>\n",
       "      <th>58</th>\n",
       "      <td>13.2</td>\n",
       "      <td>13.6980</td>\n",
       "    </tr>\n",
       "    <tr>\n",
       "      <th>77</th>\n",
       "      <td>6.9</td>\n",
       "      <td>7.5910</td>\n",
       "    </tr>\n",
       "    <tr>\n",
       "      <th>93</th>\n",
       "      <td>19.4</td>\n",
       "      <td>19.1365</td>\n",
       "    </tr>\n",
       "    <tr>\n",
       "      <th>180</th>\n",
       "      <td>12.6</td>\n",
       "      <td>13.5440</td>\n",
       "    </tr>\n",
       "    <tr>\n",
       "      <th>20</th>\n",
       "      <td>14.6</td>\n",
       "      <td>15.8980</td>\n",
       "    </tr>\n",
       "    <tr>\n",
       "      <th>105</th>\n",
       "      <td>20.7</td>\n",
       "      <td>19.9445</td>\n",
       "    </tr>\n",
       "    <tr>\n",
       "      <th>23</th>\n",
       "      <td>5.6</td>\n",
       "      <td>6.2530</td>\n",
       "    </tr>\n",
       "    <tr>\n",
       "      <th>25</th>\n",
       "      <td>9.7</td>\n",
       "      <td>10.0110</td>\n",
       "    </tr>\n",
       "    <tr>\n",
       "      <th>36</th>\n",
       "      <td>12.8</td>\n",
       "      <td>12.3420</td>\n",
       "    </tr>\n",
       "    <tr>\n",
       "      <th>171</th>\n",
       "      <td>8.4</td>\n",
       "      <td>9.4990</td>\n",
       "    </tr>\n",
       "    <tr>\n",
       "      <th>147</th>\n",
       "      <td>13.2</td>\n",
       "      <td>12.3300</td>\n",
       "    </tr>\n",
       "    <tr>\n",
       "      <th>156</th>\n",
       "      <td>3.2</td>\n",
       "      <td>5.0420</td>\n",
       "    </tr>\n",
       "    <tr>\n",
       "      <th>182</th>\n",
       "      <td>12.2</td>\n",
       "      <td>12.0320</td>\n",
       "    </tr>\n",
       "    <tr>\n",
       "      <th>176</th>\n",
       "      <td>27.0</td>\n",
       "      <td>25.2830</td>\n",
       "    </tr>\n",
       "    <tr>\n",
       "      <th>41</th>\n",
       "      <td>16.6</td>\n",
       "      <td>16.7460</td>\n",
       "    </tr>\n",
       "    <tr>\n",
       "      <th>59</th>\n",
       "      <td>23.8</td>\n",
       "      <td>23.1820</td>\n",
       "    </tr>\n",
       "    <tr>\n",
       "      <th>35</th>\n",
       "      <td>9.5</td>\n",
       "      <td>9.4700</td>\n",
       "    </tr>\n",
       "    <tr>\n",
       "      <th>143</th>\n",
       "      <td>20.1</td>\n",
       "      <td>19.3475</td>\n",
       "    </tr>\n",
       "  </tbody>\n",
       "</table>\n",
       "</div>"
      ],
      "text/plain": [
       "            Original Sales  Predicted Sales\n",
       "Unnamed: 0                                 \n",
       "133                    5.7           5.1530\n",
       "130                    9.7          10.0300\n",
       "75                    17.0          17.3680\n",
       "175                   11.5          11.8350\n",
       "48                    23.2          22.8365\n",
       "31                    21.4          20.3490\n",
       "146                   10.3          10.5610\n",
       "183                    8.7           8.6840\n",
       "28                    15.9          15.3820\n",
       "3                      9.3           7.8970\n",
       "158                   10.1          10.5510\n",
       "88                    16.0          14.9640\n",
       "120                    6.6           7.3140\n",
       "107                    7.2           7.8260\n",
       "116                   12.6          12.9610\n",
       "159                    7.3           6.4350\n",
       "30                    10.5          11.0390\n",
       "29                    18.9          19.3025\n",
       "81                    11.8          11.5400\n",
       "46                    14.9          16.1870\n",
       "69                    18.9          19.5445\n",
       "117                   12.2          13.3160\n",
       "58                    13.2          13.6980\n",
       "77                     6.9           7.5910\n",
       "93                    19.4          19.1365\n",
       "180                   12.6          13.5440\n",
       "20                    14.6          15.8980\n",
       "105                   20.7          19.9445\n",
       "23                     5.6           6.2530\n",
       "25                     9.7          10.0110\n",
       "36                    12.8          12.3420\n",
       "171                    8.4           9.4990\n",
       "147                   13.2          12.3300\n",
       "156                    3.2           5.0420\n",
       "182                   12.2          12.0320\n",
       "176                   27.0          25.2830\n",
       "41                    16.6          16.7460\n",
       "59                    23.8          23.1820\n",
       "35                     9.5           9.4700\n",
       "143                   20.1          19.3475"
      ]
     },
     "execution_count": 79,
     "metadata": {},
     "output_type": "execute_result"
    }
   ],
   "source": [
    "preddf=pd.DataFrame({'Original Sales':y_test,'Predicted Sales':predrf})\n",
    "preddf"
   ]
  },
  {
   "cell_type": "code",
   "execution_count": 80,
   "id": "dd187001",
   "metadata": {},
   "outputs": [
    {
     "data": {
      "text/html": [
       "<div>\n",
       "<style scoped>\n",
       "    .dataframe tbody tr th:only-of-type {\n",
       "        vertical-align: middle;\n",
       "    }\n",
       "\n",
       "    .dataframe tbody tr th {\n",
       "        vertical-align: top;\n",
       "    }\n",
       "\n",
       "    .dataframe thead th {\n",
       "        text-align: right;\n",
       "    }\n",
       "</style>\n",
       "<table border=\"1\" class=\"dataframe\">\n",
       "  <thead>\n",
       "    <tr style=\"text-align: right;\">\n",
       "      <th></th>\n",
       "      <th>Mean Squared Error</th>\n",
       "      <th>Mean Absolute Error</th>\n",
       "    </tr>\n",
       "  </thead>\n",
       "  <tbody>\n",
       "    <tr>\n",
       "      <th>0</th>\n",
       "      <td>2.653389</td>\n",
       "      <td>1.265902</td>\n",
       "    </tr>\n",
       "    <tr>\n",
       "      <th>1</th>\n",
       "      <td>2.675875</td>\n",
       "      <td>1.276337</td>\n",
       "    </tr>\n",
       "    <tr>\n",
       "      <th>2</th>\n",
       "      <td>2.662925</td>\n",
       "      <td>1.268674</td>\n",
       "    </tr>\n",
       "    <tr>\n",
       "      <th>3</th>\n",
       "      <td>0.626769</td>\n",
       "      <td>0.665225</td>\n",
       "    </tr>\n",
       "  </tbody>\n",
       "</table>\n",
       "</div>"
      ],
      "text/plain": [
       "   Mean Squared Error  Mean Absolute Error\n",
       "0            2.653389             1.265902\n",
       "1            2.675875             1.276337\n",
       "2            2.662925             1.268674\n",
       "3            0.626769             0.665225"
      ]
     },
     "execution_count": 80,
     "metadata": {},
     "output_type": "execute_result"
    }
   ],
   "source": [
    "errordf=pd.DataFrame({'Mean Squared Error':[mselr,msels,mselrr,mserf],'Mean Absolute Error':[maelr,maels,maelrr,maerf]})\n",
    "errordf"
   ]
  },
  {
   "cell_type": "markdown",
   "id": "e59b79eb",
   "metadata": {},
   "source": [
    "-least error with RandomForestRegressor"
   ]
  },
  {
   "cell_type": "code",
   "execution_count": 82,
   "id": "2f715e50",
   "metadata": {},
   "outputs": [
    {
     "name": "stdout",
     "output_type": "stream",
     "text": [
      "Model is performing extremely well\n",
      "Accuracy score at random state 32 is: 97.7\n",
      "Cross validation score at cv 6 is: 97.7\n"
     ]
    }
   ],
   "source": [
    "print('Model is performing extremely well')\n",
    "print('Accuracy score at random state',32,'is:',round(r2_score(predrf,y_test)*100,1))\n",
    "print('Cross validation score at cv',6,'is:',round(rfc*100,1))"
   ]
  },
  {
   "cell_type": "code",
   "execution_count": 83,
   "id": "4e655e9d",
   "metadata": {},
   "outputs": [],
   "source": [
    "#saving the best model\n",
    "\n",
    "import pickle\n",
    "\n",
    "filename='advertising.pkl'\n",
    "pickle.dump(rf,open(filename,'wb'))"
   ]
  },
  {
   "cell_type": "code",
   "execution_count": null,
   "id": "aeebb1eb",
   "metadata": {},
   "outputs": [],
   "source": []
  }
 ],
 "metadata": {
  "kernelspec": {
   "display_name": "Python 3 (ipykernel)",
   "language": "python",
   "name": "python3"
  },
  "language_info": {
   "codemirror_mode": {
    "name": "ipython",
    "version": 3
   },
   "file_extension": ".py",
   "mimetype": "text/x-python",
   "name": "python",
   "nbconvert_exporter": "python",
   "pygments_lexer": "ipython3",
   "version": "3.9.7"
  }
 },
 "nbformat": 4,
 "nbformat_minor": 5
}
