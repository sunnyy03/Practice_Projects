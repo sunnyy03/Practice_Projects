{
 "cells": [
  {
   "cell_type": "markdown",
   "id": "1c8341f2",
   "metadata": {},
   "source": [
    "Problem statement:\n",
    "\n",
    "-to build a predictive model and find out the sales of each product at a particular store by using the given data."
   ]
  },
  {
   "cell_type": "code",
   "execution_count": 30,
   "id": "6784aa79",
   "metadata": {},
   "outputs": [],
   "source": [
    "#loading the dataset\n",
    "\n",
    "import pandas as pd\n",
    "import numpy as np\n",
    "\n",
    "df=pd.read_csv(\"bigdatamart_train.csv\")"
   ]
  },
  {
   "cell_type": "code",
   "execution_count": 2,
   "id": "971b0feb",
   "metadata": {},
   "outputs": [
    {
     "data": {
      "text/html": [
       "<div>\n",
       "<style scoped>\n",
       "    .dataframe tbody tr th:only-of-type {\n",
       "        vertical-align: middle;\n",
       "    }\n",
       "\n",
       "    .dataframe tbody tr th {\n",
       "        vertical-align: top;\n",
       "    }\n",
       "\n",
       "    .dataframe thead th {\n",
       "        text-align: right;\n",
       "    }\n",
       "</style>\n",
       "<table border=\"1\" class=\"dataframe\">\n",
       "  <thead>\n",
       "    <tr style=\"text-align: right;\">\n",
       "      <th></th>\n",
       "      <th>Item_Identifier</th>\n",
       "      <th>Item_Weight</th>\n",
       "      <th>Item_Fat_Content</th>\n",
       "      <th>Item_Visibility</th>\n",
       "      <th>Item_Type</th>\n",
       "      <th>Item_MRP</th>\n",
       "      <th>Outlet_Identifier</th>\n",
       "      <th>Outlet_Establishment_Year</th>\n",
       "      <th>Outlet_Size</th>\n",
       "      <th>Outlet_Location_Type</th>\n",
       "      <th>Outlet_Type</th>\n",
       "      <th>Item_Outlet_Sales</th>\n",
       "    </tr>\n",
       "  </thead>\n",
       "  <tbody>\n",
       "    <tr>\n",
       "      <th>0</th>\n",
       "      <td>FDA15</td>\n",
       "      <td>9.300</td>\n",
       "      <td>Low Fat</td>\n",
       "      <td>0.016047</td>\n",
       "      <td>Dairy</td>\n",
       "      <td>249.8092</td>\n",
       "      <td>OUT049</td>\n",
       "      <td>1999</td>\n",
       "      <td>Medium</td>\n",
       "      <td>Tier 1</td>\n",
       "      <td>Supermarket Type1</td>\n",
       "      <td>3735.1380</td>\n",
       "    </tr>\n",
       "    <tr>\n",
       "      <th>1</th>\n",
       "      <td>DRC01</td>\n",
       "      <td>5.920</td>\n",
       "      <td>Regular</td>\n",
       "      <td>0.019278</td>\n",
       "      <td>Soft Drinks</td>\n",
       "      <td>48.2692</td>\n",
       "      <td>OUT018</td>\n",
       "      <td>2009</td>\n",
       "      <td>Medium</td>\n",
       "      <td>Tier 3</td>\n",
       "      <td>Supermarket Type2</td>\n",
       "      <td>443.4228</td>\n",
       "    </tr>\n",
       "    <tr>\n",
       "      <th>2</th>\n",
       "      <td>FDN15</td>\n",
       "      <td>17.500</td>\n",
       "      <td>Low Fat</td>\n",
       "      <td>0.016760</td>\n",
       "      <td>Meat</td>\n",
       "      <td>141.6180</td>\n",
       "      <td>OUT049</td>\n",
       "      <td>1999</td>\n",
       "      <td>Medium</td>\n",
       "      <td>Tier 1</td>\n",
       "      <td>Supermarket Type1</td>\n",
       "      <td>2097.2700</td>\n",
       "    </tr>\n",
       "    <tr>\n",
       "      <th>3</th>\n",
       "      <td>FDX07</td>\n",
       "      <td>19.200</td>\n",
       "      <td>Regular</td>\n",
       "      <td>0.000000</td>\n",
       "      <td>Fruits and Vegetables</td>\n",
       "      <td>182.0950</td>\n",
       "      <td>OUT010</td>\n",
       "      <td>1998</td>\n",
       "      <td>NaN</td>\n",
       "      <td>Tier 3</td>\n",
       "      <td>Grocery Store</td>\n",
       "      <td>732.3800</td>\n",
       "    </tr>\n",
       "    <tr>\n",
       "      <th>4</th>\n",
       "      <td>NCD19</td>\n",
       "      <td>8.930</td>\n",
       "      <td>Low Fat</td>\n",
       "      <td>0.000000</td>\n",
       "      <td>Household</td>\n",
       "      <td>53.8614</td>\n",
       "      <td>OUT013</td>\n",
       "      <td>1987</td>\n",
       "      <td>High</td>\n",
       "      <td>Tier 3</td>\n",
       "      <td>Supermarket Type1</td>\n",
       "      <td>994.7052</td>\n",
       "    </tr>\n",
       "    <tr>\n",
       "      <th>...</th>\n",
       "      <td>...</td>\n",
       "      <td>...</td>\n",
       "      <td>...</td>\n",
       "      <td>...</td>\n",
       "      <td>...</td>\n",
       "      <td>...</td>\n",
       "      <td>...</td>\n",
       "      <td>...</td>\n",
       "      <td>...</td>\n",
       "      <td>...</td>\n",
       "      <td>...</td>\n",
       "      <td>...</td>\n",
       "    </tr>\n",
       "    <tr>\n",
       "      <th>8518</th>\n",
       "      <td>FDF22</td>\n",
       "      <td>6.865</td>\n",
       "      <td>Low Fat</td>\n",
       "      <td>0.056783</td>\n",
       "      <td>Snack Foods</td>\n",
       "      <td>214.5218</td>\n",
       "      <td>OUT013</td>\n",
       "      <td>1987</td>\n",
       "      <td>High</td>\n",
       "      <td>Tier 3</td>\n",
       "      <td>Supermarket Type1</td>\n",
       "      <td>2778.3834</td>\n",
       "    </tr>\n",
       "    <tr>\n",
       "      <th>8519</th>\n",
       "      <td>FDS36</td>\n",
       "      <td>8.380</td>\n",
       "      <td>Regular</td>\n",
       "      <td>0.046982</td>\n",
       "      <td>Baking Goods</td>\n",
       "      <td>108.1570</td>\n",
       "      <td>OUT045</td>\n",
       "      <td>2002</td>\n",
       "      <td>NaN</td>\n",
       "      <td>Tier 2</td>\n",
       "      <td>Supermarket Type1</td>\n",
       "      <td>549.2850</td>\n",
       "    </tr>\n",
       "    <tr>\n",
       "      <th>8520</th>\n",
       "      <td>NCJ29</td>\n",
       "      <td>10.600</td>\n",
       "      <td>Low Fat</td>\n",
       "      <td>0.035186</td>\n",
       "      <td>Health and Hygiene</td>\n",
       "      <td>85.1224</td>\n",
       "      <td>OUT035</td>\n",
       "      <td>2004</td>\n",
       "      <td>Small</td>\n",
       "      <td>Tier 2</td>\n",
       "      <td>Supermarket Type1</td>\n",
       "      <td>1193.1136</td>\n",
       "    </tr>\n",
       "    <tr>\n",
       "      <th>8521</th>\n",
       "      <td>FDN46</td>\n",
       "      <td>7.210</td>\n",
       "      <td>Regular</td>\n",
       "      <td>0.145221</td>\n",
       "      <td>Snack Foods</td>\n",
       "      <td>103.1332</td>\n",
       "      <td>OUT018</td>\n",
       "      <td>2009</td>\n",
       "      <td>Medium</td>\n",
       "      <td>Tier 3</td>\n",
       "      <td>Supermarket Type2</td>\n",
       "      <td>1845.5976</td>\n",
       "    </tr>\n",
       "    <tr>\n",
       "      <th>8522</th>\n",
       "      <td>DRG01</td>\n",
       "      <td>14.800</td>\n",
       "      <td>Low Fat</td>\n",
       "      <td>0.044878</td>\n",
       "      <td>Soft Drinks</td>\n",
       "      <td>75.4670</td>\n",
       "      <td>OUT046</td>\n",
       "      <td>1997</td>\n",
       "      <td>Small</td>\n",
       "      <td>Tier 1</td>\n",
       "      <td>Supermarket Type1</td>\n",
       "      <td>765.6700</td>\n",
       "    </tr>\n",
       "  </tbody>\n",
       "</table>\n",
       "<p>8523 rows × 12 columns</p>\n",
       "</div>"
      ],
      "text/plain": [
       "     Item_Identifier  Item_Weight Item_Fat_Content  Item_Visibility  \\\n",
       "0              FDA15        9.300          Low Fat         0.016047   \n",
       "1              DRC01        5.920          Regular         0.019278   \n",
       "2              FDN15       17.500          Low Fat         0.016760   \n",
       "3              FDX07       19.200          Regular         0.000000   \n",
       "4              NCD19        8.930          Low Fat         0.000000   \n",
       "...              ...          ...              ...              ...   \n",
       "8518           FDF22        6.865          Low Fat         0.056783   \n",
       "8519           FDS36        8.380          Regular         0.046982   \n",
       "8520           NCJ29       10.600          Low Fat         0.035186   \n",
       "8521           FDN46        7.210          Regular         0.145221   \n",
       "8522           DRG01       14.800          Low Fat         0.044878   \n",
       "\n",
       "                  Item_Type  Item_MRP Outlet_Identifier  \\\n",
       "0                     Dairy  249.8092            OUT049   \n",
       "1               Soft Drinks   48.2692            OUT018   \n",
       "2                      Meat  141.6180            OUT049   \n",
       "3     Fruits and Vegetables  182.0950            OUT010   \n",
       "4                 Household   53.8614            OUT013   \n",
       "...                     ...       ...               ...   \n",
       "8518            Snack Foods  214.5218            OUT013   \n",
       "8519           Baking Goods  108.1570            OUT045   \n",
       "8520     Health and Hygiene   85.1224            OUT035   \n",
       "8521            Snack Foods  103.1332            OUT018   \n",
       "8522            Soft Drinks   75.4670            OUT046   \n",
       "\n",
       "      Outlet_Establishment_Year Outlet_Size Outlet_Location_Type  \\\n",
       "0                          1999      Medium               Tier 1   \n",
       "1                          2009      Medium               Tier 3   \n",
       "2                          1999      Medium               Tier 1   \n",
       "3                          1998         NaN               Tier 3   \n",
       "4                          1987        High               Tier 3   \n",
       "...                         ...         ...                  ...   \n",
       "8518                       1987        High               Tier 3   \n",
       "8519                       2002         NaN               Tier 2   \n",
       "8520                       2004       Small               Tier 2   \n",
       "8521                       2009      Medium               Tier 3   \n",
       "8522                       1997       Small               Tier 1   \n",
       "\n",
       "            Outlet_Type  Item_Outlet_Sales  \n",
       "0     Supermarket Type1          3735.1380  \n",
       "1     Supermarket Type2           443.4228  \n",
       "2     Supermarket Type1          2097.2700  \n",
       "3         Grocery Store           732.3800  \n",
       "4     Supermarket Type1           994.7052  \n",
       "...                 ...                ...  \n",
       "8518  Supermarket Type1          2778.3834  \n",
       "8519  Supermarket Type1           549.2850  \n",
       "8520  Supermarket Type1          1193.1136  \n",
       "8521  Supermarket Type2          1845.5976  \n",
       "8522  Supermarket Type1           765.6700  \n",
       "\n",
       "[8523 rows x 12 columns]"
      ]
     },
     "execution_count": 2,
     "metadata": {},
     "output_type": "execute_result"
    }
   ],
   "source": [
    "df"
   ]
  },
  {
   "cell_type": "code",
   "execution_count": 3,
   "id": "92422360",
   "metadata": {},
   "outputs": [
    {
     "data": {
      "text/html": [
       "<div>\n",
       "<style scoped>\n",
       "    .dataframe tbody tr th:only-of-type {\n",
       "        vertical-align: middle;\n",
       "    }\n",
       "\n",
       "    .dataframe tbody tr th {\n",
       "        vertical-align: top;\n",
       "    }\n",
       "\n",
       "    .dataframe thead th {\n",
       "        text-align: right;\n",
       "    }\n",
       "</style>\n",
       "<table border=\"1\" class=\"dataframe\">\n",
       "  <thead>\n",
       "    <tr style=\"text-align: right;\">\n",
       "      <th></th>\n",
       "      <th>Item_Identifier</th>\n",
       "      <th>Item_Weight</th>\n",
       "      <th>Item_Fat_Content</th>\n",
       "      <th>Item_Visibility</th>\n",
       "      <th>Item_Type</th>\n",
       "      <th>Item_MRP</th>\n",
       "      <th>Outlet_Identifier</th>\n",
       "      <th>Outlet_Establishment_Year</th>\n",
       "      <th>Outlet_Size</th>\n",
       "      <th>Outlet_Location_Type</th>\n",
       "      <th>Outlet_Type</th>\n",
       "      <th>Item_Outlet_Sales</th>\n",
       "    </tr>\n",
       "  </thead>\n",
       "  <tbody>\n",
       "    <tr>\n",
       "      <th>0</th>\n",
       "      <td>FDA15</td>\n",
       "      <td>9.30</td>\n",
       "      <td>Low Fat</td>\n",
       "      <td>0.016047</td>\n",
       "      <td>Dairy</td>\n",
       "      <td>249.8092</td>\n",
       "      <td>OUT049</td>\n",
       "      <td>1999</td>\n",
       "      <td>Medium</td>\n",
       "      <td>Tier 1</td>\n",
       "      <td>Supermarket Type1</td>\n",
       "      <td>3735.1380</td>\n",
       "    </tr>\n",
       "    <tr>\n",
       "      <th>1</th>\n",
       "      <td>DRC01</td>\n",
       "      <td>5.92</td>\n",
       "      <td>Regular</td>\n",
       "      <td>0.019278</td>\n",
       "      <td>Soft Drinks</td>\n",
       "      <td>48.2692</td>\n",
       "      <td>OUT018</td>\n",
       "      <td>2009</td>\n",
       "      <td>Medium</td>\n",
       "      <td>Tier 3</td>\n",
       "      <td>Supermarket Type2</td>\n",
       "      <td>443.4228</td>\n",
       "    </tr>\n",
       "    <tr>\n",
       "      <th>2</th>\n",
       "      <td>FDN15</td>\n",
       "      <td>17.50</td>\n",
       "      <td>Low Fat</td>\n",
       "      <td>0.016760</td>\n",
       "      <td>Meat</td>\n",
       "      <td>141.6180</td>\n",
       "      <td>OUT049</td>\n",
       "      <td>1999</td>\n",
       "      <td>Medium</td>\n",
       "      <td>Tier 1</td>\n",
       "      <td>Supermarket Type1</td>\n",
       "      <td>2097.2700</td>\n",
       "    </tr>\n",
       "    <tr>\n",
       "      <th>3</th>\n",
       "      <td>FDX07</td>\n",
       "      <td>19.20</td>\n",
       "      <td>Regular</td>\n",
       "      <td>0.000000</td>\n",
       "      <td>Fruits and Vegetables</td>\n",
       "      <td>182.0950</td>\n",
       "      <td>OUT010</td>\n",
       "      <td>1998</td>\n",
       "      <td>NaN</td>\n",
       "      <td>Tier 3</td>\n",
       "      <td>Grocery Store</td>\n",
       "      <td>732.3800</td>\n",
       "    </tr>\n",
       "    <tr>\n",
       "      <th>4</th>\n",
       "      <td>NCD19</td>\n",
       "      <td>8.93</td>\n",
       "      <td>Low Fat</td>\n",
       "      <td>0.000000</td>\n",
       "      <td>Household</td>\n",
       "      <td>53.8614</td>\n",
       "      <td>OUT013</td>\n",
       "      <td>1987</td>\n",
       "      <td>High</td>\n",
       "      <td>Tier 3</td>\n",
       "      <td>Supermarket Type1</td>\n",
       "      <td>994.7052</td>\n",
       "    </tr>\n",
       "  </tbody>\n",
       "</table>\n",
       "</div>"
      ],
      "text/plain": [
       "  Item_Identifier  Item_Weight Item_Fat_Content  Item_Visibility  \\\n",
       "0           FDA15         9.30          Low Fat         0.016047   \n",
       "1           DRC01         5.92          Regular         0.019278   \n",
       "2           FDN15        17.50          Low Fat         0.016760   \n",
       "3           FDX07        19.20          Regular         0.000000   \n",
       "4           NCD19         8.93          Low Fat         0.000000   \n",
       "\n",
       "               Item_Type  Item_MRP Outlet_Identifier  \\\n",
       "0                  Dairy  249.8092            OUT049   \n",
       "1            Soft Drinks   48.2692            OUT018   \n",
       "2                   Meat  141.6180            OUT049   \n",
       "3  Fruits and Vegetables  182.0950            OUT010   \n",
       "4              Household   53.8614            OUT013   \n",
       "\n",
       "   Outlet_Establishment_Year Outlet_Size Outlet_Location_Type  \\\n",
       "0                       1999      Medium               Tier 1   \n",
       "1                       2009      Medium               Tier 3   \n",
       "2                       1999      Medium               Tier 1   \n",
       "3                       1998         NaN               Tier 3   \n",
       "4                       1987        High               Tier 3   \n",
       "\n",
       "         Outlet_Type  Item_Outlet_Sales  \n",
       "0  Supermarket Type1          3735.1380  \n",
       "1  Supermarket Type2           443.4228  \n",
       "2  Supermarket Type1          2097.2700  \n",
       "3      Grocery Store           732.3800  \n",
       "4  Supermarket Type1           994.7052  "
      ]
     },
     "execution_count": 3,
     "metadata": {},
     "output_type": "execute_result"
    }
   ],
   "source": [
    "df.head()"
   ]
  },
  {
   "cell_type": "code",
   "execution_count": 4,
   "id": "6110744c",
   "metadata": {},
   "outputs": [
    {
     "data": {
      "text/html": [
       "<div>\n",
       "<style scoped>\n",
       "    .dataframe tbody tr th:only-of-type {\n",
       "        vertical-align: middle;\n",
       "    }\n",
       "\n",
       "    .dataframe tbody tr th {\n",
       "        vertical-align: top;\n",
       "    }\n",
       "\n",
       "    .dataframe thead th {\n",
       "        text-align: right;\n",
       "    }\n",
       "</style>\n",
       "<table border=\"1\" class=\"dataframe\">\n",
       "  <thead>\n",
       "    <tr style=\"text-align: right;\">\n",
       "      <th></th>\n",
       "      <th>Item_Identifier</th>\n",
       "      <th>Item_Weight</th>\n",
       "      <th>Item_Fat_Content</th>\n",
       "      <th>Item_Visibility</th>\n",
       "      <th>Item_Type</th>\n",
       "      <th>Item_MRP</th>\n",
       "      <th>Outlet_Identifier</th>\n",
       "      <th>Outlet_Establishment_Year</th>\n",
       "      <th>Outlet_Size</th>\n",
       "      <th>Outlet_Location_Type</th>\n",
       "      <th>Outlet_Type</th>\n",
       "      <th>Item_Outlet_Sales</th>\n",
       "    </tr>\n",
       "  </thead>\n",
       "  <tbody>\n",
       "    <tr>\n",
       "      <th>8518</th>\n",
       "      <td>FDF22</td>\n",
       "      <td>6.865</td>\n",
       "      <td>Low Fat</td>\n",
       "      <td>0.056783</td>\n",
       "      <td>Snack Foods</td>\n",
       "      <td>214.5218</td>\n",
       "      <td>OUT013</td>\n",
       "      <td>1987</td>\n",
       "      <td>High</td>\n",
       "      <td>Tier 3</td>\n",
       "      <td>Supermarket Type1</td>\n",
       "      <td>2778.3834</td>\n",
       "    </tr>\n",
       "    <tr>\n",
       "      <th>8519</th>\n",
       "      <td>FDS36</td>\n",
       "      <td>8.380</td>\n",
       "      <td>Regular</td>\n",
       "      <td>0.046982</td>\n",
       "      <td>Baking Goods</td>\n",
       "      <td>108.1570</td>\n",
       "      <td>OUT045</td>\n",
       "      <td>2002</td>\n",
       "      <td>NaN</td>\n",
       "      <td>Tier 2</td>\n",
       "      <td>Supermarket Type1</td>\n",
       "      <td>549.2850</td>\n",
       "    </tr>\n",
       "    <tr>\n",
       "      <th>8520</th>\n",
       "      <td>NCJ29</td>\n",
       "      <td>10.600</td>\n",
       "      <td>Low Fat</td>\n",
       "      <td>0.035186</td>\n",
       "      <td>Health and Hygiene</td>\n",
       "      <td>85.1224</td>\n",
       "      <td>OUT035</td>\n",
       "      <td>2004</td>\n",
       "      <td>Small</td>\n",
       "      <td>Tier 2</td>\n",
       "      <td>Supermarket Type1</td>\n",
       "      <td>1193.1136</td>\n",
       "    </tr>\n",
       "    <tr>\n",
       "      <th>8521</th>\n",
       "      <td>FDN46</td>\n",
       "      <td>7.210</td>\n",
       "      <td>Regular</td>\n",
       "      <td>0.145221</td>\n",
       "      <td>Snack Foods</td>\n",
       "      <td>103.1332</td>\n",
       "      <td>OUT018</td>\n",
       "      <td>2009</td>\n",
       "      <td>Medium</td>\n",
       "      <td>Tier 3</td>\n",
       "      <td>Supermarket Type2</td>\n",
       "      <td>1845.5976</td>\n",
       "    </tr>\n",
       "    <tr>\n",
       "      <th>8522</th>\n",
       "      <td>DRG01</td>\n",
       "      <td>14.800</td>\n",
       "      <td>Low Fat</td>\n",
       "      <td>0.044878</td>\n",
       "      <td>Soft Drinks</td>\n",
       "      <td>75.4670</td>\n",
       "      <td>OUT046</td>\n",
       "      <td>1997</td>\n",
       "      <td>Small</td>\n",
       "      <td>Tier 1</td>\n",
       "      <td>Supermarket Type1</td>\n",
       "      <td>765.6700</td>\n",
       "    </tr>\n",
       "  </tbody>\n",
       "</table>\n",
       "</div>"
      ],
      "text/plain": [
       "     Item_Identifier  Item_Weight Item_Fat_Content  Item_Visibility  \\\n",
       "8518           FDF22        6.865          Low Fat         0.056783   \n",
       "8519           FDS36        8.380          Regular         0.046982   \n",
       "8520           NCJ29       10.600          Low Fat         0.035186   \n",
       "8521           FDN46        7.210          Regular         0.145221   \n",
       "8522           DRG01       14.800          Low Fat         0.044878   \n",
       "\n",
       "               Item_Type  Item_MRP Outlet_Identifier  \\\n",
       "8518         Snack Foods  214.5218            OUT013   \n",
       "8519        Baking Goods  108.1570            OUT045   \n",
       "8520  Health and Hygiene   85.1224            OUT035   \n",
       "8521         Snack Foods  103.1332            OUT018   \n",
       "8522         Soft Drinks   75.4670            OUT046   \n",
       "\n",
       "      Outlet_Establishment_Year Outlet_Size Outlet_Location_Type  \\\n",
       "8518                       1987        High               Tier 3   \n",
       "8519                       2002         NaN               Tier 2   \n",
       "8520                       2004       Small               Tier 2   \n",
       "8521                       2009      Medium               Tier 3   \n",
       "8522                       1997       Small               Tier 1   \n",
       "\n",
       "            Outlet_Type  Item_Outlet_Sales  \n",
       "8518  Supermarket Type1          2778.3834  \n",
       "8519  Supermarket Type1           549.2850  \n",
       "8520  Supermarket Type1          1193.1136  \n",
       "8521  Supermarket Type2          1845.5976  \n",
       "8522  Supermarket Type1           765.6700  "
      ]
     },
     "execution_count": 4,
     "metadata": {},
     "output_type": "execute_result"
    }
   ],
   "source": [
    "df.tail()"
   ]
  },
  {
   "cell_type": "code",
   "execution_count": 5,
   "id": "ff1cfdd7",
   "metadata": {},
   "outputs": [
    {
     "data": {
      "text/html": [
       "<div>\n",
       "<style scoped>\n",
       "    .dataframe tbody tr th:only-of-type {\n",
       "        vertical-align: middle;\n",
       "    }\n",
       "\n",
       "    .dataframe tbody tr th {\n",
       "        vertical-align: top;\n",
       "    }\n",
       "\n",
       "    .dataframe thead th {\n",
       "        text-align: right;\n",
       "    }\n",
       "</style>\n",
       "<table border=\"1\" class=\"dataframe\">\n",
       "  <thead>\n",
       "    <tr style=\"text-align: right;\">\n",
       "      <th></th>\n",
       "      <th>Item_Identifier</th>\n",
       "      <th>Item_Weight</th>\n",
       "      <th>Item_Fat_Content</th>\n",
       "      <th>Item_Visibility</th>\n",
       "      <th>Item_Type</th>\n",
       "      <th>Item_MRP</th>\n",
       "      <th>Outlet_Identifier</th>\n",
       "      <th>Outlet_Establishment_Year</th>\n",
       "      <th>Outlet_Size</th>\n",
       "      <th>Outlet_Location_Type</th>\n",
       "      <th>Outlet_Type</th>\n",
       "      <th>Item_Outlet_Sales</th>\n",
       "    </tr>\n",
       "  </thead>\n",
       "  <tbody>\n",
       "    <tr>\n",
       "      <th>4271</th>\n",
       "      <td>FDJ45</td>\n",
       "      <td>17.750</td>\n",
       "      <td>Low Fat</td>\n",
       "      <td>0.073350</td>\n",
       "      <td>Seafood</td>\n",
       "      <td>34.2216</td>\n",
       "      <td>OUT013</td>\n",
       "      <td>1987</td>\n",
       "      <td>High</td>\n",
       "      <td>Tier 3</td>\n",
       "      <td>Supermarket Type1</td>\n",
       "      <td>934.7832</td>\n",
       "    </tr>\n",
       "    <tr>\n",
       "      <th>6350</th>\n",
       "      <td>NCL55</td>\n",
       "      <td>12.150</td>\n",
       "      <td>Low Fat</td>\n",
       "      <td>0.064792</td>\n",
       "      <td>Others</td>\n",
       "      <td>254.0040</td>\n",
       "      <td>OUT045</td>\n",
       "      <td>2002</td>\n",
       "      <td>NaN</td>\n",
       "      <td>Tier 2</td>\n",
       "      <td>Supermarket Type1</td>\n",
       "      <td>2277.0360</td>\n",
       "    </tr>\n",
       "    <tr>\n",
       "      <th>3189</th>\n",
       "      <td>FDD48</td>\n",
       "      <td>10.395</td>\n",
       "      <td>Low Fat</td>\n",
       "      <td>0.030220</td>\n",
       "      <td>Baking Goods</td>\n",
       "      <td>114.7176</td>\n",
       "      <td>OUT045</td>\n",
       "      <td>2002</td>\n",
       "      <td>NaN</td>\n",
       "      <td>Tier 2</td>\n",
       "      <td>Supermarket Type1</td>\n",
       "      <td>2748.4224</td>\n",
       "    </tr>\n",
       "    <tr>\n",
       "      <th>4192</th>\n",
       "      <td>FDC60</td>\n",
       "      <td>NaN</td>\n",
       "      <td>Regular</td>\n",
       "      <td>0.200426</td>\n",
       "      <td>Baking Goods</td>\n",
       "      <td>88.8514</td>\n",
       "      <td>OUT019</td>\n",
       "      <td>1985</td>\n",
       "      <td>Small</td>\n",
       "      <td>Tier 1</td>\n",
       "      <td>Grocery Store</td>\n",
       "      <td>265.6542</td>\n",
       "    </tr>\n",
       "    <tr>\n",
       "      <th>6319</th>\n",
       "      <td>FDP58</td>\n",
       "      <td>11.100</td>\n",
       "      <td>Low Fat</td>\n",
       "      <td>0.135693</td>\n",
       "      <td>Snack Foods</td>\n",
       "      <td>220.0482</td>\n",
       "      <td>OUT018</td>\n",
       "      <td>2009</td>\n",
       "      <td>Medium</td>\n",
       "      <td>Tier 3</td>\n",
       "      <td>Supermarket Type2</td>\n",
       "      <td>2628.5784</td>\n",
       "    </tr>\n",
       "  </tbody>\n",
       "</table>\n",
       "</div>"
      ],
      "text/plain": [
       "     Item_Identifier  Item_Weight Item_Fat_Content  Item_Visibility  \\\n",
       "4271           FDJ45       17.750          Low Fat         0.073350   \n",
       "6350           NCL55       12.150          Low Fat         0.064792   \n",
       "3189           FDD48       10.395          Low Fat         0.030220   \n",
       "4192           FDC60          NaN          Regular         0.200426   \n",
       "6319           FDP58       11.100          Low Fat         0.135693   \n",
       "\n",
       "         Item_Type  Item_MRP Outlet_Identifier  Outlet_Establishment_Year  \\\n",
       "4271       Seafood   34.2216            OUT013                       1987   \n",
       "6350        Others  254.0040            OUT045                       2002   \n",
       "3189  Baking Goods  114.7176            OUT045                       2002   \n",
       "4192  Baking Goods   88.8514            OUT019                       1985   \n",
       "6319   Snack Foods  220.0482            OUT018                       2009   \n",
       "\n",
       "     Outlet_Size Outlet_Location_Type        Outlet_Type  Item_Outlet_Sales  \n",
       "4271        High               Tier 3  Supermarket Type1           934.7832  \n",
       "6350         NaN               Tier 2  Supermarket Type1          2277.0360  \n",
       "3189         NaN               Tier 2  Supermarket Type1          2748.4224  \n",
       "4192       Small               Tier 1      Grocery Store           265.6542  \n",
       "6319      Medium               Tier 3  Supermarket Type2          2628.5784  "
      ]
     },
     "execution_count": 5,
     "metadata": {},
     "output_type": "execute_result"
    }
   ],
   "source": [
    "df.sample(5)"
   ]
  },
  {
   "cell_type": "markdown",
   "id": "6b397cc6",
   "metadata": {},
   "source": [
    "Observations:\n",
    "- missing values are present\n",
    "- 'Item_Visibility' column has values as 0 for some rows which is technically incorrect, since nothing in a store has a visibility of 0\n",
    "- 'Itam_Identifier' and 'Item_Type' are realted to each other, as 'FD' is for food category, 'DR' is for drinks and 'NC' is for Non consumables\n",
    "- 'Outlet_Establishment_Year' has values as year, this might become complex for our model to predict sales, in simple means it might end up decreasing the accuracy, we will deal with it later"
   ]
  },
  {
   "cell_type": "code",
   "execution_count": 6,
   "id": "c85b59e8",
   "metadata": {},
   "outputs": [
    {
     "data": {
      "text/plain": [
       "Item_Identifier                 0\n",
       "Item_Weight                  1463\n",
       "Item_Fat_Content                0\n",
       "Item_Visibility                 0\n",
       "Item_Type                       0\n",
       "Item_MRP                        0\n",
       "Outlet_Identifier               0\n",
       "Outlet_Establishment_Year       0\n",
       "Outlet_Size                  2410\n",
       "Outlet_Location_Type            0\n",
       "Outlet_Type                     0\n",
       "Item_Outlet_Sales               0\n",
       "dtype: int64"
      ]
     },
     "execution_count": 6,
     "metadata": {},
     "output_type": "execute_result"
    }
   ],
   "source": [
    "#checking for null values\n",
    "\n",
    "df.isnull().sum()"
   ]
  },
  {
   "cell_type": "code",
   "execution_count": 7,
   "id": "fd18b7b7",
   "metadata": {},
   "outputs": [],
   "source": [
    "import seaborn as sns\n",
    "import matplotlib.pyplot as plt\n",
    "import warnings\n",
    "warnings.filterwarnings('ignore')"
   ]
  },
  {
   "cell_type": "code",
   "execution_count": 8,
   "id": "30170c66",
   "metadata": {},
   "outputs": [
    {
     "data": {
      "text/plain": [
       "<AxesSubplot:>"
      ]
     },
     "execution_count": 8,
     "metadata": {},
     "output_type": "execute_result"
    },
    {
     "data": {
      "image/png": "[encoded data removed]",
      "text/plain": [
       "<Figure size 432x288 with 2 Axes>"
      ]
     },
     "metadata": {
      "needs_background": "light"
     },
     "output_type": "display_data"
    }
   ],
   "source": [
    "sns.heatmap(df.isnull())"
   ]
  },
  {
   "cell_type": "markdown",
   "id": "06b3795b",
   "metadata": {},
   "source": [
    "-only two columns have null values, so we will deal with it by using SimpleImputer."
   ]
  },
  {
   "cell_type": "code",
   "execution_count": 9,
   "id": "eb03d2aa",
   "metadata": {},
   "outputs": [],
   "source": [
    "#imputation:\n",
    "\n",
    "from sklearn.impute import SimpleImputer"
   ]
  },
  {
   "cell_type": "code",
   "execution_count": 10,
   "id": "1159d84e",
   "metadata": {},
   "outputs": [
    {
     "data": {
      "text/plain": [
       "Item_Identifier               object\n",
       "Item_Weight                  float64\n",
       "Item_Fat_Content              object\n",
       "Item_Visibility              float64\n",
       "Item_Type                     object\n",
       "Item_MRP                     float64\n",
       "Outlet_Identifier             object\n",
       "Outlet_Establishment_Year      int64\n",
       "Outlet_Size                   object\n",
       "Outlet_Location_Type          object\n",
       "Outlet_Type                   object\n",
       "Item_Outlet_Sales            float64\n",
       "dtype: object"
      ]
     },
     "execution_count": 10,
     "metadata": {},
     "output_type": "execute_result"
    }
   ],
   "source": [
    "#checking datatype\n",
    "\n",
    "df.dtypes"
   ]
  },
  {
   "cell_type": "markdown",
   "id": "8b9ab4ac",
   "metadata": {},
   "source": [
    "Imputation technique:\n",
    "    \n",
    "- so, as the 'Item_weight' feature has float datatype we will use simple imputer with strtegy as mean.\n",
    "- while, 'Outlet_size' has object or categorical datatype so we will use most_frquent or mode strategy "
   ]
  },
  {
   "cell_type": "code",
   "execution_count": 31,
   "id": "c9d5fcfc",
   "metadata": {},
   "outputs": [],
   "source": [
    "imp=SimpleImputer()\n",
    "df['Item_Weight']=imp.fit_transform(df['Item_Weight'].values.reshape(-1,1))"
   ]
  },
  {
   "cell_type": "code",
   "execution_count": 32,
   "id": "c3f79e08",
   "metadata": {},
   "outputs": [],
   "source": [
    "imp=SimpleImputer(strategy='most_frequent')\n",
    "df['Outlet_Size']=imp.fit_transform(df['Outlet_Size'].values.reshape(-1,1))"
   ]
  },
  {
   "cell_type": "code",
   "execution_count": 13,
   "id": "cfd0f872",
   "metadata": {},
   "outputs": [
    {
     "data": {
      "text/plain": [
       "<AxesSubplot:>"
      ]
     },
     "execution_count": 13,
     "metadata": {},
     "output_type": "execute_result"
    },
    {
     "data": {
      "image/png": "[encoded data removed]",
      "text/plain": [
       "<Figure size 432x288 with 2 Axes>"
      ]
     },
     "metadata": {
      "needs_background": "light"
     },
     "output_type": "display_data"
    }
   ],
   "source": [
    "#now checking for null values\n",
    "\n",
    "sns.heatmap(df.isnull())"
   ]
  },
  {
   "cell_type": "markdown",
   "id": "e87326d7",
   "metadata": {},
   "source": [
    "-so the null values have been replaced"
   ]
  },
  {
   "cell_type": "code",
   "execution_count": 14,
   "id": "35dd8fcf",
   "metadata": {},
   "outputs": [
    {
     "data": {
      "text/plain": [
       "Item_Identifier               object\n",
       "Item_Weight                  float64\n",
       "Item_Fat_Content              object\n",
       "Item_Visibility              float64\n",
       "Item_Type                     object\n",
       "Item_MRP                     float64\n",
       "Outlet_Identifier             object\n",
       "Outlet_Establishment_Year      int64\n",
       "Outlet_Size                   object\n",
       "Outlet_Location_Type          object\n",
       "Outlet_Type                   object\n",
       "Item_Outlet_Sales            float64\n",
       "dtype: object"
      ]
     },
     "execution_count": 14,
     "metadata": {},
     "output_type": "execute_result"
    }
   ],
   "source": [
    "#checking datatypes\n",
    "\n",
    "df.dtypes"
   ]
  },
  {
   "cell_type": "markdown",
   "id": "88610a62",
   "metadata": {},
   "source": [
    "-now as the dataset has so many object datatype columns, data transformation needs to be done for further processes"
   ]
  },
  {
   "cell_type": "code",
   "execution_count": 15,
   "id": "3149c609",
   "metadata": {},
   "outputs": [
    {
     "data": {
      "text/plain": [
       "1559"
      ]
     },
     "execution_count": 15,
     "metadata": {},
     "output_type": "execute_result"
    }
   ],
   "source": [
    "len(df['Item_Identifier'].unique())"
   ]
  },
  {
   "cell_type": "markdown",
   "id": "951e19e9",
   "metadata": {},
   "source": [
    "-'Item_Identifier' column has so many unique values so it will a bit tricky to transform this data, so we will combine it later on."
   ]
  },
  {
   "cell_type": "code",
   "execution_count": 16,
   "id": "7a2a03db",
   "metadata": {},
   "outputs": [
    {
     "data": {
      "text/plain": [
       "array(['Low Fat', 'Regular', 'low fat', 'LF', 'reg'], dtype=object)"
      ]
     },
     "execution_count": 16,
     "metadata": {},
     "output_type": "execute_result"
    }
   ],
   "source": [
    "df['Item_Fat_Content'].unique()"
   ]
  },
  {
   "cell_type": "markdown",
   "id": "667d4156",
   "metadata": {},
   "source": [
    "- okay since, this column has only a few unique classes, so it will be easier to transform.\n",
    "- also it has some typos as Low Fat has been typed as LF or low fat for some procuts etc"
   ]
  },
  {
   "cell_type": "code",
   "execution_count": 17,
   "id": "f7b268b0",
   "metadata": {},
   "outputs": [
    {
     "data": {
      "text/plain": [
       "array(['Dairy', 'Soft Drinks', 'Meat', 'Fruits and Vegetables',\n",
       "       'Household', 'Baking Goods', 'Snack Foods', 'Frozen Foods',\n",
       "       'Breakfast', 'Health and Hygiene', 'Hard Drinks', 'Canned',\n",
       "       'Breads', 'Starchy Foods', 'Others', 'Seafood'], dtype=object)"
      ]
     },
     "execution_count": 17,
     "metadata": {},
     "output_type": "execute_result"
    }
   ],
   "source": [
    "df['Item_Type'].unique()"
   ]
  },
  {
   "cell_type": "markdown",
   "id": "1f7eb0c5",
   "metadata": {},
   "source": [
    "-so the 'Item_Type' variable has 16 unique classes\n",
    "-but as it would get a bit complex we are going to combine it later"
   ]
  },
  {
   "cell_type": "code",
   "execution_count": 18,
   "id": "f1886888",
   "metadata": {},
   "outputs": [
    {
     "data": {
      "text/plain": [
       "array(['OUT049', 'OUT018', 'OUT010', 'OUT013', 'OUT027', 'OUT045',\n",
       "       'OUT017', 'OUT046', 'OUT035', 'OUT019'], dtype=object)"
      ]
     },
     "execution_count": 18,
     "metadata": {},
     "output_type": "execute_result"
    }
   ],
   "source": [
    "df['Outlet_Identifier'].unique()"
   ]
  },
  {
   "cell_type": "markdown",
   "id": "9509f28b",
   "metadata": {},
   "source": [
    "-10 uinque classes are present, so we will encode it later on"
   ]
  },
  {
   "cell_type": "code",
   "execution_count": 19,
   "id": "9467b232",
   "metadata": {},
   "outputs": [
    {
     "data": {
      "text/plain": [
       "array(['Medium', 'High', 'Small'], dtype=object)"
      ]
     },
     "execution_count": 19,
     "metadata": {},
     "output_type": "execute_result"
    }
   ],
   "source": [
    "df['Outlet_Size'].unique()"
   ]
  },
  {
   "cell_type": "code",
   "execution_count": 20,
   "id": "9dba5012",
   "metadata": {},
   "outputs": [
    {
     "data": {
      "text/plain": [
       "array(['Tier 1', 'Tier 3', 'Tier 2'], dtype=object)"
      ]
     },
     "execution_count": 20,
     "metadata": {},
     "output_type": "execute_result"
    }
   ],
   "source": [
    "df['Outlet_Location_Type'].unique()"
   ]
  },
  {
   "cell_type": "code",
   "execution_count": 21,
   "id": "47d82991",
   "metadata": {},
   "outputs": [
    {
     "data": {
      "text/plain": [
       "array(['Supermarket Type1', 'Supermarket Type2', 'Grocery Store',\n",
       "       'Supermarket Type3'], dtype=object)"
      ]
     },
     "execution_count": 21,
     "metadata": {},
     "output_type": "execute_result"
    }
   ],
   "source": [
    "df['Outlet_Type'].unique()"
   ]
  },
  {
   "cell_type": "markdown",
   "id": "7cc90367",
   "metadata": {},
   "source": [
    "# Data Transformation and Creation:"
   ]
  },
  {
   "cell_type": "markdown",
   "id": "876e8a0f",
   "metadata": {},
   "source": [
    "-now we are going to combine 'Item_Identifier' and 'Item_Type' as transforming that would be a little tricky because of so many unique classes that are present"
   ]
  },
  {
   "cell_type": "code",
   "execution_count": 33,
   "id": "148aee61",
   "metadata": {},
   "outputs": [
    {
     "data": {
      "text/plain": [
       "0       FD\n",
       "1       DR\n",
       "2       FD\n",
       "3       FD\n",
       "4       NC\n",
       "        ..\n",
       "8518    FD\n",
       "8519    FD\n",
       "8520    NC\n",
       "8521    FD\n",
       "8522    DR\n",
       "Name: Item_Type_New, Length: 8523, dtype: object"
      ]
     },
     "execution_count": 33,
     "metadata": {},
     "output_type": "execute_result"
    }
   ],
   "source": [
    "#so,\n",
    "\n",
    "df['Item_Type_New']=df['Item_Identifier'].apply(lambda x:x[:2])\n",
    "df['Item_Type_New']"
   ]
  },
  {
   "cell_type": "code",
   "execution_count": 34,
   "id": "c334ae28",
   "metadata": {},
   "outputs": [],
   "source": [
    "#now replacing it with food,drinks and non consumables:\n",
    "\n",
    "df['Item_Type_New']=df['Item_Type_New'].replace({'FD':'Food','DR':'Drinks','NC':'Non-Consumable'})"
   ]
  },
  {
   "cell_type": "code",
   "execution_count": 24,
   "id": "35e7867c",
   "metadata": {},
   "outputs": [
    {
     "data": {
      "text/plain": [
       "Food              6125\n",
       "Non-Consumable    1599\n",
       "Drinks             799\n",
       "Name: Item_Type_New, dtype: int64"
      ]
     },
     "execution_count": 24,
     "metadata": {},
     "output_type": "execute_result"
    }
   ],
   "source": [
    "df['Item_Type_New'].value_counts()"
   ]
  },
  {
   "cell_type": "code",
   "execution_count": null,
   "id": "dddccdea",
   "metadata": {},
   "outputs": [],
   "source": []
  },
  {
   "cell_type": "markdown",
   "id": "4ee2f6ae",
   "metadata": {},
   "source": [
    "-as observed before Item Visibility has values as zero which in incorrect, we are going to replace the zeros with the mean of the column"
   ]
  },
  {
   "cell_type": "code",
   "execution_count": 35,
   "id": "63320e16",
   "metadata": {},
   "outputs": [],
   "source": [
    "df.loc[:,'Item_Visibility'].replace([0],[df['Item_Visibility'].mean()],inplace=True)"
   ]
  },
  {
   "cell_type": "code",
   "execution_count": 36,
   "id": "d56ccb03",
   "metadata": {},
   "outputs": [
    {
     "data": {
      "text/plain": [
       "0"
      ]
     },
     "execution_count": 36,
     "metadata": {},
     "output_type": "execute_result"
    }
   ],
   "source": [
    "(df['Item_Visibility']==0).sum()"
   ]
  },
  {
   "cell_type": "code",
   "execution_count": 37,
   "id": "2f30a224",
   "metadata": {},
   "outputs": [],
   "source": [
    "#Now replacing the typos in 'Item_Fat_Content'\n",
    "\n",
    "df['Item_Fat_Content'].replace({'LF':'Low Fat','reg':'Regular','low fat':'Low Fat'},inplace=True)"
   ]
  },
  {
   "cell_type": "code",
   "execution_count": 38,
   "id": "710efdef",
   "metadata": {},
   "outputs": [
    {
     "data": {
      "text/plain": [
       "array(['Low Fat', 'Regular'], dtype=object)"
      ]
     },
     "execution_count": 38,
     "metadata": {},
     "output_type": "execute_result"
    }
   ],
   "source": [
    "df['Item_Fat_Content'].unique()"
   ]
  },
  {
   "cell_type": "code",
   "execution_count": 29,
   "id": "b842b8ae",
   "metadata": {},
   "outputs": [
    {
     "data": {
      "text/html": [
       "<div>\n",
       "<style scoped>\n",
       "    .dataframe tbody tr th:only-of-type {\n",
       "        vertical-align: middle;\n",
       "    }\n",
       "\n",
       "    .dataframe tbody tr th {\n",
       "        vertical-align: top;\n",
       "    }\n",
       "\n",
       "    .dataframe thead th {\n",
       "        text-align: right;\n",
       "    }\n",
       "</style>\n",
       "<table border=\"1\" class=\"dataframe\">\n",
       "  <thead>\n",
       "    <tr style=\"text-align: right;\">\n",
       "      <th></th>\n",
       "      <th>Item_Identifier</th>\n",
       "      <th>Item_Weight</th>\n",
       "      <th>Item_Fat_Content</th>\n",
       "      <th>Item_Visibility</th>\n",
       "      <th>Item_Type</th>\n",
       "      <th>Item_MRP</th>\n",
       "      <th>Outlet_Identifier</th>\n",
       "      <th>Outlet_Establishment_Year</th>\n",
       "      <th>Outlet_Size</th>\n",
       "      <th>Outlet_Location_Type</th>\n",
       "      <th>Outlet_Type</th>\n",
       "      <th>Item_Outlet_Sales</th>\n",
       "      <th>Item_Type_New</th>\n",
       "    </tr>\n",
       "  </thead>\n",
       "  <tbody>\n",
       "    <tr>\n",
       "      <th>8513</th>\n",
       "      <td>FDH31</td>\n",
       "      <td>12.000</td>\n",
       "      <td>Regular</td>\n",
       "      <td>0.020407</td>\n",
       "      <td>Meat</td>\n",
       "      <td>99.9042</td>\n",
       "      <td>OUT035</td>\n",
       "      <td>2004</td>\n",
       "      <td>Small</td>\n",
       "      <td>Tier 2</td>\n",
       "      <td>Supermarket Type1</td>\n",
       "      <td>595.2252</td>\n",
       "      <td>Food</td>\n",
       "    </tr>\n",
       "    <tr>\n",
       "      <th>8514</th>\n",
       "      <td>FDA01</td>\n",
       "      <td>15.000</td>\n",
       "      <td>Regular</td>\n",
       "      <td>0.054489</td>\n",
       "      <td>Canned</td>\n",
       "      <td>57.5904</td>\n",
       "      <td>OUT045</td>\n",
       "      <td>2002</td>\n",
       "      <td>Medium</td>\n",
       "      <td>Tier 2</td>\n",
       "      <td>Supermarket Type1</td>\n",
       "      <td>468.7232</td>\n",
       "      <td>Food</td>\n",
       "    </tr>\n",
       "    <tr>\n",
       "      <th>8515</th>\n",
       "      <td>FDH24</td>\n",
       "      <td>20.700</td>\n",
       "      <td>Low Fat</td>\n",
       "      <td>0.021518</td>\n",
       "      <td>Baking Goods</td>\n",
       "      <td>157.5288</td>\n",
       "      <td>OUT018</td>\n",
       "      <td>2009</td>\n",
       "      <td>Medium</td>\n",
       "      <td>Tier 3</td>\n",
       "      <td>Supermarket Type2</td>\n",
       "      <td>1571.2880</td>\n",
       "      <td>Food</td>\n",
       "    </tr>\n",
       "    <tr>\n",
       "      <th>8516</th>\n",
       "      <td>NCJ19</td>\n",
       "      <td>18.600</td>\n",
       "      <td>Low Fat</td>\n",
       "      <td>0.118661</td>\n",
       "      <td>Others</td>\n",
       "      <td>58.7588</td>\n",
       "      <td>OUT018</td>\n",
       "      <td>2009</td>\n",
       "      <td>Medium</td>\n",
       "      <td>Tier 3</td>\n",
       "      <td>Supermarket Type2</td>\n",
       "      <td>858.8820</td>\n",
       "      <td>Non-Consumable</td>\n",
       "    </tr>\n",
       "    <tr>\n",
       "      <th>8517</th>\n",
       "      <td>FDF53</td>\n",
       "      <td>20.750</td>\n",
       "      <td>Regular</td>\n",
       "      <td>0.083607</td>\n",
       "      <td>Frozen Foods</td>\n",
       "      <td>178.8318</td>\n",
       "      <td>OUT046</td>\n",
       "      <td>1997</td>\n",
       "      <td>Small</td>\n",
       "      <td>Tier 1</td>\n",
       "      <td>Supermarket Type1</td>\n",
       "      <td>3608.6360</td>\n",
       "      <td>Food</td>\n",
       "    </tr>\n",
       "    <tr>\n",
       "      <th>8518</th>\n",
       "      <td>FDF22</td>\n",
       "      <td>6.865</td>\n",
       "      <td>Low Fat</td>\n",
       "      <td>0.056783</td>\n",
       "      <td>Snack Foods</td>\n",
       "      <td>214.5218</td>\n",
       "      <td>OUT013</td>\n",
       "      <td>1987</td>\n",
       "      <td>High</td>\n",
       "      <td>Tier 3</td>\n",
       "      <td>Supermarket Type1</td>\n",
       "      <td>2778.3834</td>\n",
       "      <td>Food</td>\n",
       "    </tr>\n",
       "    <tr>\n",
       "      <th>8519</th>\n",
       "      <td>FDS36</td>\n",
       "      <td>8.380</td>\n",
       "      <td>Regular</td>\n",
       "      <td>0.046982</td>\n",
       "      <td>Baking Goods</td>\n",
       "      <td>108.1570</td>\n",
       "      <td>OUT045</td>\n",
       "      <td>2002</td>\n",
       "      <td>Medium</td>\n",
       "      <td>Tier 2</td>\n",
       "      <td>Supermarket Type1</td>\n",
       "      <td>549.2850</td>\n",
       "      <td>Food</td>\n",
       "    </tr>\n",
       "    <tr>\n",
       "      <th>8520</th>\n",
       "      <td>NCJ29</td>\n",
       "      <td>10.600</td>\n",
       "      <td>Low Fat</td>\n",
       "      <td>0.035186</td>\n",
       "      <td>Health and Hygiene</td>\n",
       "      <td>85.1224</td>\n",
       "      <td>OUT035</td>\n",
       "      <td>2004</td>\n",
       "      <td>Small</td>\n",
       "      <td>Tier 2</td>\n",
       "      <td>Supermarket Type1</td>\n",
       "      <td>1193.1136</td>\n",
       "      <td>Non-Consumable</td>\n",
       "    </tr>\n",
       "    <tr>\n",
       "      <th>8521</th>\n",
       "      <td>FDN46</td>\n",
       "      <td>7.210</td>\n",
       "      <td>Regular</td>\n",
       "      <td>0.145221</td>\n",
       "      <td>Snack Foods</td>\n",
       "      <td>103.1332</td>\n",
       "      <td>OUT018</td>\n",
       "      <td>2009</td>\n",
       "      <td>Medium</td>\n",
       "      <td>Tier 3</td>\n",
       "      <td>Supermarket Type2</td>\n",
       "      <td>1845.5976</td>\n",
       "      <td>Food</td>\n",
       "    </tr>\n",
       "    <tr>\n",
       "      <th>8522</th>\n",
       "      <td>DRG01</td>\n",
       "      <td>14.800</td>\n",
       "      <td>Low Fat</td>\n",
       "      <td>0.044878</td>\n",
       "      <td>Soft Drinks</td>\n",
       "      <td>75.4670</td>\n",
       "      <td>OUT046</td>\n",
       "      <td>1997</td>\n",
       "      <td>Small</td>\n",
       "      <td>Tier 1</td>\n",
       "      <td>Supermarket Type1</td>\n",
       "      <td>765.6700</td>\n",
       "      <td>Drinks</td>\n",
       "    </tr>\n",
       "  </tbody>\n",
       "</table>\n",
       "</div>"
      ],
      "text/plain": [
       "     Item_Identifier  Item_Weight Item_Fat_Content  Item_Visibility  \\\n",
       "8513           FDH31       12.000          Regular         0.020407   \n",
       "8514           FDA01       15.000          Regular         0.054489   \n",
       "8515           FDH24       20.700          Low Fat         0.021518   \n",
       "8516           NCJ19       18.600          Low Fat         0.118661   \n",
       "8517           FDF53       20.750          Regular         0.083607   \n",
       "8518           FDF22        6.865          Low Fat         0.056783   \n",
       "8519           FDS36        8.380          Regular         0.046982   \n",
       "8520           NCJ29       10.600          Low Fat         0.035186   \n",
       "8521           FDN46        7.210          Regular         0.145221   \n",
       "8522           DRG01       14.800          Low Fat         0.044878   \n",
       "\n",
       "               Item_Type  Item_MRP Outlet_Identifier  \\\n",
       "8513                Meat   99.9042            OUT035   \n",
       "8514              Canned   57.5904            OUT045   \n",
       "8515        Baking Goods  157.5288            OUT018   \n",
       "8516              Others   58.7588            OUT018   \n",
       "8517        Frozen Foods  178.8318            OUT046   \n",
       "8518         Snack Foods  214.5218            OUT013   \n",
       "8519        Baking Goods  108.1570            OUT045   \n",
       "8520  Health and Hygiene   85.1224            OUT035   \n",
       "8521         Snack Foods  103.1332            OUT018   \n",
       "8522         Soft Drinks   75.4670            OUT046   \n",
       "\n",
       "      Outlet_Establishment_Year Outlet_Size Outlet_Location_Type  \\\n",
       "8513                       2004       Small               Tier 2   \n",
       "8514                       2002      Medium               Tier 2   \n",
       "8515                       2009      Medium               Tier 3   \n",
       "8516                       2009      Medium               Tier 3   \n",
       "8517                       1997       Small               Tier 1   \n",
       "8518                       1987        High               Tier 3   \n",
       "8519                       2002      Medium               Tier 2   \n",
       "8520                       2004       Small               Tier 2   \n",
       "8521                       2009      Medium               Tier 3   \n",
       "8522                       1997       Small               Tier 1   \n",
       "\n",
       "            Outlet_Type  Item_Outlet_Sales   Item_Type_New  \n",
       "8513  Supermarket Type1           595.2252            Food  \n",
       "8514  Supermarket Type1           468.7232            Food  \n",
       "8515  Supermarket Type2          1571.2880            Food  \n",
       "8516  Supermarket Type2           858.8820  Non-Consumable  \n",
       "8517  Supermarket Type1          3608.6360            Food  \n",
       "8518  Supermarket Type1          2778.3834            Food  \n",
       "8519  Supermarket Type1           549.2850            Food  \n",
       "8520  Supermarket Type1          1193.1136  Non-Consumable  \n",
       "8521  Supermarket Type2          1845.5976            Food  \n",
       "8522  Supermarket Type1           765.6700          Drinks  "
      ]
     },
     "execution_count": 29,
     "metadata": {},
     "output_type": "execute_result"
    }
   ],
   "source": [
    "df.tail(10)"
   ]
  },
  {
   "cell_type": "code",
   "execution_count": 39,
   "id": "6aa7d6f7",
   "metadata": {},
   "outputs": [
    {
     "data": {
      "text/plain": [
       "Low Fat       3918\n",
       "Regular       3006\n",
       "Non-Edible    1599\n",
       "Name: Item_Fat_Content, dtype: int64"
      ]
     },
     "execution_count": 39,
     "metadata": {},
     "output_type": "execute_result"
    }
   ],
   "source": [
    "#now as we can see that for Non-Consumable products Fat content is given which is absurd, so we will replace it by Non-edible \n",
    "\n",
    "df.loc[df['Item_Type_New']=='Non-Consumable','Item_Fat_Content']='Non-Edible'\n",
    "#df.loc[True,True]\n",
    "\n",
    "df['Item_Fat_Content'].value_counts()"
   ]
  },
  {
   "cell_type": "markdown",
   "id": "f023ae3e",
   "metadata": {},
   "source": [
    "Establishment Year:\n",
    "- instead of Establishment year we are going to use for how long an outlet has been operating, it will give us small numbers in result unlike year as 2009,1998 etc\n",
    "- since the data is from year 2013, we are going use that only"
   ]
  },
  {
   "cell_type": "code",
   "execution_count": 40,
   "id": "2b852bf1",
   "metadata": {},
   "outputs": [],
   "source": [
    "df['Outlet_Years']=2013-df['Outlet_Establishment_Year']"
   ]
  },
  {
   "cell_type": "code",
   "execution_count": 32,
   "id": "986a676b",
   "metadata": {},
   "outputs": [
    {
     "data": {
      "text/plain": [
       "0       14\n",
       "1        4\n",
       "2       14\n",
       "3       15\n",
       "4       26\n",
       "        ..\n",
       "8518    26\n",
       "8519    11\n",
       "8520     9\n",
       "8521     4\n",
       "8522    16\n",
       "Name: Outlet_Years, Length: 8523, dtype: int64"
      ]
     },
     "execution_count": 32,
     "metadata": {},
     "output_type": "execute_result"
    }
   ],
   "source": [
    "df['Outlet_Years']"
   ]
  },
  {
   "cell_type": "code",
   "execution_count": 33,
   "id": "7bcadee9",
   "metadata": {},
   "outputs": [
    {
     "data": {
      "text/html": [
       "<div>\n",
       "<style scoped>\n",
       "    .dataframe tbody tr th:only-of-type {\n",
       "        vertical-align: middle;\n",
       "    }\n",
       "\n",
       "    .dataframe tbody tr th {\n",
       "        vertical-align: top;\n",
       "    }\n",
       "\n",
       "    .dataframe thead th {\n",
       "        text-align: right;\n",
       "    }\n",
       "</style>\n",
       "<table border=\"1\" class=\"dataframe\">\n",
       "  <thead>\n",
       "    <tr style=\"text-align: right;\">\n",
       "      <th></th>\n",
       "      <th>Item_Identifier</th>\n",
       "      <th>Item_Weight</th>\n",
       "      <th>Item_Fat_Content</th>\n",
       "      <th>Item_Visibility</th>\n",
       "      <th>Item_Type</th>\n",
       "      <th>Item_MRP</th>\n",
       "      <th>Outlet_Identifier</th>\n",
       "      <th>Outlet_Establishment_Year</th>\n",
       "      <th>Outlet_Size</th>\n",
       "      <th>Outlet_Location_Type</th>\n",
       "      <th>Outlet_Type</th>\n",
       "      <th>Item_Outlet_Sales</th>\n",
       "      <th>Item_Type_New</th>\n",
       "      <th>Outlet_Years</th>\n",
       "    </tr>\n",
       "  </thead>\n",
       "  <tbody>\n",
       "    <tr>\n",
       "      <th>8322</th>\n",
       "      <td>NCE42</td>\n",
       "      <td>21.100000</td>\n",
       "      <td>Non-Edible</td>\n",
       "      <td>0.010602</td>\n",
       "      <td>Household</td>\n",
       "      <td>235.3958</td>\n",
       "      <td>OUT046</td>\n",
       "      <td>1997</td>\n",
       "      <td>Small</td>\n",
       "      <td>Tier 1</td>\n",
       "      <td>Supermarket Type1</td>\n",
       "      <td>3271.7412</td>\n",
       "      <td>Non-Consumable</td>\n",
       "      <td>16</td>\n",
       "    </tr>\n",
       "    <tr>\n",
       "      <th>4678</th>\n",
       "      <td>FDD32</td>\n",
       "      <td>17.700000</td>\n",
       "      <td>Regular</td>\n",
       "      <td>0.041099</td>\n",
       "      <td>Fruits and Vegetables</td>\n",
       "      <td>80.9276</td>\n",
       "      <td>OUT018</td>\n",
       "      <td>2009</td>\n",
       "      <td>Medium</td>\n",
       "      <td>Tier 3</td>\n",
       "      <td>Supermarket Type2</td>\n",
       "      <td>487.3656</td>\n",
       "      <td>Food</td>\n",
       "      <td>4</td>\n",
       "    </tr>\n",
       "    <tr>\n",
       "      <th>7815</th>\n",
       "      <td>DRH51</td>\n",
       "      <td>12.857645</td>\n",
       "      <td>Low Fat</td>\n",
       "      <td>0.170214</td>\n",
       "      <td>Dairy</td>\n",
       "      <td>89.5856</td>\n",
       "      <td>OUT019</td>\n",
       "      <td>1985</td>\n",
       "      <td>Small</td>\n",
       "      <td>Tier 1</td>\n",
       "      <td>Grocery Store</td>\n",
       "      <td>175.7712</td>\n",
       "      <td>Drinks</td>\n",
       "      <td>28</td>\n",
       "    </tr>\n",
       "    <tr>\n",
       "      <th>3401</th>\n",
       "      <td>FDM03</td>\n",
       "      <td>12.650000</td>\n",
       "      <td>Low Fat</td>\n",
       "      <td>0.123008</td>\n",
       "      <td>Meat</td>\n",
       "      <td>106.0938</td>\n",
       "      <td>OUT035</td>\n",
       "      <td>2004</td>\n",
       "      <td>Small</td>\n",
       "      <td>Tier 2</td>\n",
       "      <td>Supermarket Type1</td>\n",
       "      <td>2679.8450</td>\n",
       "      <td>Food</td>\n",
       "      <td>9</td>\n",
       "    </tr>\n",
       "    <tr>\n",
       "      <th>5178</th>\n",
       "      <td>NCG54</td>\n",
       "      <td>12.100000</td>\n",
       "      <td>Non-Edible</td>\n",
       "      <td>0.080131</td>\n",
       "      <td>Household</td>\n",
       "      <td>170.9106</td>\n",
       "      <td>OUT018</td>\n",
       "      <td>2009</td>\n",
       "      <td>Medium</td>\n",
       "      <td>Tier 3</td>\n",
       "      <td>Supermarket Type2</td>\n",
       "      <td>1539.9954</td>\n",
       "      <td>Non-Consumable</td>\n",
       "      <td>4</td>\n",
       "    </tr>\n",
       "    <tr>\n",
       "      <th>8512</th>\n",
       "      <td>FDR26</td>\n",
       "      <td>20.700000</td>\n",
       "      <td>Low Fat</td>\n",
       "      <td>0.042801</td>\n",
       "      <td>Dairy</td>\n",
       "      <td>178.3028</td>\n",
       "      <td>OUT013</td>\n",
       "      <td>1987</td>\n",
       "      <td>High</td>\n",
       "      <td>Tier 3</td>\n",
       "      <td>Supermarket Type1</td>\n",
       "      <td>2479.4392</td>\n",
       "      <td>Food</td>\n",
       "      <td>26</td>\n",
       "    </tr>\n",
       "    <tr>\n",
       "      <th>6484</th>\n",
       "      <td>NCS06</td>\n",
       "      <td>12.857645</td>\n",
       "      <td>Non-Edible</td>\n",
       "      <td>0.031583</td>\n",
       "      <td>Household</td>\n",
       "      <td>260.9910</td>\n",
       "      <td>OUT027</td>\n",
       "      <td>1985</td>\n",
       "      <td>Medium</td>\n",
       "      <td>Tier 3</td>\n",
       "      <td>Supermarket Type3</td>\n",
       "      <td>7100.7570</td>\n",
       "      <td>Non-Consumable</td>\n",
       "      <td>28</td>\n",
       "    </tr>\n",
       "    <tr>\n",
       "      <th>7134</th>\n",
       "      <td>FDW25</td>\n",
       "      <td>5.175000</td>\n",
       "      <td>Low Fat</td>\n",
       "      <td>0.037399</td>\n",
       "      <td>Canned</td>\n",
       "      <td>84.2224</td>\n",
       "      <td>OUT046</td>\n",
       "      <td>1997</td>\n",
       "      <td>Small</td>\n",
       "      <td>Tier 1</td>\n",
       "      <td>Supermarket Type1</td>\n",
       "      <td>852.2240</td>\n",
       "      <td>Food</td>\n",
       "      <td>16</td>\n",
       "    </tr>\n",
       "    <tr>\n",
       "      <th>3611</th>\n",
       "      <td>NCF43</td>\n",
       "      <td>8.510000</td>\n",
       "      <td>Non-Edible</td>\n",
       "      <td>0.052240</td>\n",
       "      <td>Household</td>\n",
       "      <td>141.9470</td>\n",
       "      <td>OUT017</td>\n",
       "      <td>2007</td>\n",
       "      <td>Medium</td>\n",
       "      <td>Tier 2</td>\n",
       "      <td>Supermarket Type1</td>\n",
       "      <td>2004.0580</td>\n",
       "      <td>Non-Consumable</td>\n",
       "      <td>6</td>\n",
       "    </tr>\n",
       "    <tr>\n",
       "      <th>3946</th>\n",
       "      <td>DRD15</td>\n",
       "      <td>10.600000</td>\n",
       "      <td>Low Fat</td>\n",
       "      <td>0.056796</td>\n",
       "      <td>Dairy</td>\n",
       "      <td>232.8642</td>\n",
       "      <td>OUT046</td>\n",
       "      <td>1997</td>\n",
       "      <td>Small</td>\n",
       "      <td>Tier 1</td>\n",
       "      <td>Supermarket Type1</td>\n",
       "      <td>3485.4630</td>\n",
       "      <td>Drinks</td>\n",
       "      <td>16</td>\n",
       "    </tr>\n",
       "  </tbody>\n",
       "</table>\n",
       "</div>"
      ],
      "text/plain": [
       "     Item_Identifier  Item_Weight Item_Fat_Content  Item_Visibility  \\\n",
       "8322           NCE42    21.100000       Non-Edible         0.010602   \n",
       "4678           FDD32    17.700000          Regular         0.041099   \n",
       "7815           DRH51    12.857645          Low Fat         0.170214   \n",
       "3401           FDM03    12.650000          Low Fat         0.123008   \n",
       "5178           NCG54    12.100000       Non-Edible         0.080131   \n",
       "8512           FDR26    20.700000          Low Fat         0.042801   \n",
       "6484           NCS06    12.857645       Non-Edible         0.031583   \n",
       "7134           FDW25     5.175000          Low Fat         0.037399   \n",
       "3611           NCF43     8.510000       Non-Edible         0.052240   \n",
       "3946           DRD15    10.600000          Low Fat         0.056796   \n",
       "\n",
       "                  Item_Type  Item_MRP Outlet_Identifier  \\\n",
       "8322              Household  235.3958            OUT046   \n",
       "4678  Fruits and Vegetables   80.9276            OUT018   \n",
       "7815                  Dairy   89.5856            OUT019   \n",
       "3401                   Meat  106.0938            OUT035   \n",
       "5178              Household  170.9106            OUT018   \n",
       "8512                  Dairy  178.3028            OUT013   \n",
       "6484              Household  260.9910            OUT027   \n",
       "7134                 Canned   84.2224            OUT046   \n",
       "3611              Household  141.9470            OUT017   \n",
       "3946                  Dairy  232.8642            OUT046   \n",
       "\n",
       "      Outlet_Establishment_Year Outlet_Size Outlet_Location_Type  \\\n",
       "8322                       1997       Small               Tier 1   \n",
       "4678                       2009      Medium               Tier 3   \n",
       "7815                       1985       Small               Tier 1   \n",
       "3401                       2004       Small               Tier 2   \n",
       "5178                       2009      Medium               Tier 3   \n",
       "8512                       1987        High               Tier 3   \n",
       "6484                       1985      Medium               Tier 3   \n",
       "7134                       1997       Small               Tier 1   \n",
       "3611                       2007      Medium               Tier 2   \n",
       "3946                       1997       Small               Tier 1   \n",
       "\n",
       "            Outlet_Type  Item_Outlet_Sales   Item_Type_New  Outlet_Years  \n",
       "8322  Supermarket Type1          3271.7412  Non-Consumable            16  \n",
       "4678  Supermarket Type2           487.3656            Food             4  \n",
       "7815      Grocery Store           175.7712          Drinks            28  \n",
       "3401  Supermarket Type1          2679.8450            Food             9  \n",
       "5178  Supermarket Type2          1539.9954  Non-Consumable             4  \n",
       "8512  Supermarket Type1          2479.4392            Food            26  \n",
       "6484  Supermarket Type3          7100.7570  Non-Consumable            28  \n",
       "7134  Supermarket Type1           852.2240            Food            16  \n",
       "3611  Supermarket Type1          2004.0580  Non-Consumable             6  \n",
       "3946  Supermarket Type1          3485.4630          Drinks            16  "
      ]
     },
     "execution_count": 33,
     "metadata": {},
     "output_type": "execute_result"
    }
   ],
   "source": [
    "df.sample(10)"
   ]
  },
  {
   "cell_type": "code",
   "execution_count": 34,
   "id": "d6b72c10",
   "metadata": {},
   "outputs": [
    {
     "data": {
      "text/plain": [
       "Item_Identifier               object\n",
       "Item_Weight                  float64\n",
       "Item_Fat_Content              object\n",
       "Item_Visibility              float64\n",
       "Item_Type                     object\n",
       "Item_MRP                     float64\n",
       "Outlet_Identifier             object\n",
       "Outlet_Establishment_Year      int64\n",
       "Outlet_Size                   object\n",
       "Outlet_Location_Type          object\n",
       "Outlet_Type                   object\n",
       "Item_Outlet_Sales            float64\n",
       "Item_Type_New                 object\n",
       "Outlet_Years                   int64\n",
       "dtype: object"
      ]
     },
     "execution_count": 34,
     "metadata": {},
     "output_type": "execute_result"
    }
   ],
   "source": [
    "df.dtypes"
   ]
  },
  {
   "cell_type": "code",
   "execution_count": 35,
   "id": "f37db255",
   "metadata": {},
   "outputs": [],
   "source": [
    "#transforming the categorical data\n",
    "\n",
    "from sklearn.preprocessing import LabelEncoder\n",
    "le=LabelEncoder()"
   ]
  },
  {
   "cell_type": "code",
   "execution_count": 41,
   "id": "89342ad7",
   "metadata": {},
   "outputs": [],
   "source": [
    "df['Item_Fat']=le.fit_transform(df['Item_Fat_Content'])"
   ]
  },
  {
   "cell_type": "code",
   "execution_count": 42,
   "id": "b11cac06",
   "metadata": {},
   "outputs": [],
   "source": [
    "df['Outlet']=le.fit_transform(df['Outlet_Identifier'])"
   ]
  },
  {
   "cell_type": "code",
   "execution_count": 43,
   "id": "a1a501f0",
   "metadata": {},
   "outputs": [],
   "source": [
    "df['Outlet_Size_Encode']=le.fit_transform(df['Outlet_Size'])"
   ]
  },
  {
   "cell_type": "code",
   "execution_count": 44,
   "id": "7f00a57a",
   "metadata": {},
   "outputs": [],
   "source": [
    "df['Outlet_Location']=le.fit_transform(df['Outlet_Location_Type'])"
   ]
  },
  {
   "cell_type": "code",
   "execution_count": 45,
   "id": "df3a5d6d",
   "metadata": {},
   "outputs": [],
   "source": [
    "df['Outlet_Type_New']=le.fit_transform(df['Outlet_Type'])"
   ]
  },
  {
   "cell_type": "code",
   "execution_count": 46,
   "id": "8bc4ce45",
   "metadata": {},
   "outputs": [],
   "source": [
    "df['Item_Type_New']=le.fit_transform(df['Item_Type_New'])"
   ]
  },
  {
   "cell_type": "code",
   "execution_count": 42,
   "id": "fc449247",
   "metadata": {},
   "outputs": [
    {
     "data": {
      "text/plain": [
       "Item_Identifier               object\n",
       "Item_Weight                  float64\n",
       "Item_Fat_Content              object\n",
       "Item_Visibility              float64\n",
       "Item_Type                     object\n",
       "Item_MRP                     float64\n",
       "Outlet_Identifier             object\n",
       "Outlet_Establishment_Year      int64\n",
       "Outlet_Size                   object\n",
       "Outlet_Location_Type          object\n",
       "Outlet_Type                   object\n",
       "Item_Outlet_Sales            float64\n",
       "Item_Type_New                  int32\n",
       "Outlet_Years                   int64\n",
       "Item_Fat                       int32\n",
       "Outlet                         int32\n",
       "Outlet_Size_Encode             int32\n",
       "Outlet_Location                int32\n",
       "Outlet_Type_New                int32\n",
       "dtype: object"
      ]
     },
     "execution_count": 42,
     "metadata": {},
     "output_type": "execute_result"
    }
   ],
   "source": [
    "df.dtypes"
   ]
  },
  {
   "cell_type": "markdown",
   "id": "6ffd7254",
   "metadata": {},
   "source": [
    "# EDA:"
   ]
  },
  {
   "cell_type": "code",
   "execution_count": 43,
   "id": "efd9efe8",
   "metadata": {},
   "outputs": [
    {
     "data": {
      "text/plain": [
       "<AxesSubplot:xlabel='Item_Fat_Content', ylabel='count'>"
      ]
     },
     "execution_count": 43,
     "metadata": {},
     "output_type": "execute_result"
    },
    {
     "data": {
      "image/png": "[encoded data removed]",
      "text/plain": [
       "<Figure size 432x288 with 1 Axes>"
      ]
     },
     "metadata": {
      "needs_background": "light"
     },
     "output_type": "display_data"
    }
   ],
   "source": [
    "sns.countplot(df['Item_Fat_Content'])"
   ]
  },
  {
   "cell_type": "markdown",
   "id": "73bbafee",
   "metadata": {},
   "source": [
    "Low fat has the highest count among the three"
   ]
  },
  {
   "cell_type": "code",
   "execution_count": 44,
   "id": "a3e0236e",
   "metadata": {},
   "outputs": [
    {
     "data": {
      "text/plain": [
       "<AxesSubplot:xlabel='Item_Type', ylabel='count'>"
      ]
     },
     "execution_count": 44,
     "metadata": {},
     "output_type": "execute_result"
    },
    {
     "data": {
      "image/png": "[encoded data removed]",
      "text/plain": [
       "<Figure size 1728x432 with 1 Axes>"
      ]
     },
     "metadata": {
      "needs_background": "light"
     },
     "output_type": "display_data"
    }
   ],
   "source": [
    "plt.figure(figsize=(24,6))\n",
    "sns.countplot(df['Item_Type'])"
   ]
  },
  {
   "cell_type": "markdown",
   "id": "d3e3e6fb",
   "metadata": {},
   "source": [
    "-it can be seen that fruits and vegetables have the highest count while sea food has lowest"
   ]
  },
  {
   "cell_type": "code",
   "execution_count": 45,
   "id": "04d72ce2",
   "metadata": {},
   "outputs": [
    {
     "data": {
      "text/plain": [
       "<AxesSubplot:xlabel='Outlet_Identifier', ylabel='count'>"
      ]
     },
     "execution_count": 45,
     "metadata": {},
     "output_type": "execute_result"
    },
    {
     "data": {
      "image/png": "[encoded data removed]",
      "text/plain": [
       "<Figure size 720x432 with 1 Axes>"
      ]
     },
     "metadata": {
      "needs_background": "light"
     },
     "output_type": "display_data"
    }
   ],
   "source": [
    "plt.figure(figsize=(10,6))\n",
    "sns.countplot(df['Outlet_Identifier'])"
   ]
  },
  {
   "cell_type": "markdown",
   "id": "63576d8c",
   "metadata": {},
   "source": [
    "-almost all outlets have similar counts"
   ]
  },
  {
   "cell_type": "code",
   "execution_count": 46,
   "id": "fcb91d02",
   "metadata": {},
   "outputs": [
    {
     "data": {
      "text/plain": [
       "<AxesSubplot:xlabel='Outlet_Size', ylabel='count'>"
      ]
     },
     "execution_count": 46,
     "metadata": {},
     "output_type": "execute_result"
    },
    {
     "data": {
      "image/png": "[encoded data removed]",
      "text/plain": [
       "<Figure size 432x288 with 1 Axes>"
      ]
     },
     "metadata": {
      "needs_background": "light"
     },
     "output_type": "display_data"
    }
   ],
   "source": [
    "sns.countplot(df['Outlet_Size'])"
   ]
  },
  {
   "cell_type": "markdown",
   "id": "d3b2dc1d",
   "metadata": {},
   "source": [
    "-medium has the most count while high has least, our model might get biased"
   ]
  },
  {
   "cell_type": "code",
   "execution_count": 47,
   "id": "0d8a64fa",
   "metadata": {},
   "outputs": [
    {
     "data": {
      "text/plain": [
       "<AxesSubplot:xlabel='Outlet_Location_Type', ylabel='count'>"
      ]
     },
     "execution_count": 47,
     "metadata": {},
     "output_type": "execute_result"
    },
    {
     "data": {
      "image/png": "[encoded data removed]",
      "text/plain": [
       "<Figure size 432x288 with 1 Axes>"
      ]
     },
     "metadata": {
      "needs_background": "light"
     },
     "output_type": "display_data"
    }
   ],
   "source": [
    "sns.countplot(df['Outlet_Location_Type'])"
   ]
  },
  {
   "cell_type": "markdown",
   "id": "4b340089",
   "metadata": {},
   "source": [
    "- all three categories have reasonable count"
   ]
  },
  {
   "cell_type": "code",
   "execution_count": 48,
   "id": "bab0ca6e",
   "metadata": {},
   "outputs": [
    {
     "data": {
      "text/plain": [
       "<AxesSubplot:xlabel='Outlet_Type', ylabel='count'>"
      ]
     },
     "execution_count": 48,
     "metadata": {},
     "output_type": "execute_result"
    },
    {
     "data": {
      "image/png": "[encoded data removed]",
      "text/plain": [
       "<Figure size 576x360 with 1 Axes>"
      ]
     },
     "metadata": {
      "needs_background": "light"
     },
     "output_type": "display_data"
    }
   ],
   "source": [
    "plt.figure(figsize=(8,5))\n",
    "sns.countplot(df['Outlet_Type'])"
   ]
  },
  {
   "cell_type": "markdown",
   "id": "c138cb27",
   "metadata": {},
   "source": [
    "Type 1 has most while all other three has very low counts, our data might get biased"
   ]
  },
  {
   "cell_type": "code",
   "execution_count": 49,
   "id": "de95d8b1",
   "metadata": {},
   "outputs": [
    {
     "data": {
      "text/plain": [
       "Item_Identifier               object\n",
       "Item_Weight                  float64\n",
       "Item_Fat_Content              object\n",
       "Item_Visibility              float64\n",
       "Item_Type                     object\n",
       "Item_MRP                     float64\n",
       "Outlet_Identifier             object\n",
       "Outlet_Establishment_Year      int64\n",
       "Outlet_Size                   object\n",
       "Outlet_Location_Type          object\n",
       "Outlet_Type                   object\n",
       "Item_Outlet_Sales            float64\n",
       "Item_Type_New                  int32\n",
       "Outlet_Years                   int64\n",
       "Item_Fat                       int32\n",
       "Outlet                         int32\n",
       "Outlet_Size_Encode             int32\n",
       "Outlet_Location                int32\n",
       "Outlet_Type_New                int32\n",
       "dtype: object"
      ]
     },
     "execution_count": 49,
     "metadata": {},
     "output_type": "execute_result"
    }
   ],
   "source": [
    "df.dtypes"
   ]
  },
  {
   "cell_type": "code",
   "execution_count": 50,
   "id": "e1cdbb56",
   "metadata": {},
   "outputs": [
    {
     "data": {
      "text/plain": [
       "<AxesSubplot:xlabel='Item_Weight', ylabel='Item_Outlet_Sales'>"
      ]
     },
     "execution_count": 50,
     "metadata": {},
     "output_type": "execute_result"
    },
    {
     "data": {
      "image/png": "[encoded data removed]",
      "text/plain": [
       "<Figure size 432x288 with 1 Axes>"
      ]
     },
     "metadata": {
      "needs_background": "light"
     },
     "output_type": "display_data"
    }
   ],
   "source": [
    "sns.scatterplot(x='Item_Weight',y='Item_Outlet_Sales',data=df)"
   ]
  },
  {
   "cell_type": "markdown",
   "id": "338c81cc",
   "metadata": {},
   "source": [
    "-it can be seen that skewness is present, though data is distributed well for some ranges"
   ]
  },
  {
   "cell_type": "code",
   "execution_count": 51,
   "id": "70faf16d",
   "metadata": {},
   "outputs": [
    {
     "data": {
      "text/plain": [
       "<AxesSubplot:xlabel='Item_Visibility', ylabel='Item_Outlet_Sales'>"
      ]
     },
     "execution_count": 51,
     "metadata": {},
     "output_type": "execute_result"
    },
    {
     "data": {
      "image/png": "[encoded data removed]",
      "text/plain": [
       "<Figure size 432x288 with 1 Axes>"
      ]
     },
     "metadata": {
      "needs_background": "light"
     },
     "output_type": "display_data"
    }
   ],
   "source": [
    "sns.scatterplot(x='Item_Visibility',y='Item_Outlet_Sales',data=df)"
   ]
  },
  {
   "cell_type": "markdown",
   "id": "35db48e5",
   "metadata": {},
   "source": [
    "-for visibilty>.20 sales is quite low"
   ]
  },
  {
   "cell_type": "code",
   "execution_count": 52,
   "id": "52d5055e",
   "metadata": {},
   "outputs": [
    {
     "data": {
      "text/plain": [
       "<AxesSubplot:xlabel='Item_MRP', ylabel='Item_Outlet_Sales'>"
      ]
     },
     "execution_count": 52,
     "metadata": {},
     "output_type": "execute_result"
    },
    {
     "data": {
      "image/png": "[encoded data removed]",
      "text/plain": [
       "<Figure size 432x288 with 1 Axes>"
      ]
     },
     "metadata": {
      "needs_background": "light"
     },
     "output_type": "display_data"
    }
   ],
   "source": [
    "sns.scatterplot(x='Item_MRP',y='Item_Outlet_Sales',data=df)"
   ]
  },
  {
   "cell_type": "markdown",
   "id": "9eab5e5e",
   "metadata": {},
   "source": [
    "-okay, so MRP has a linear relationship with the target variable, which means it is highly correlated "
   ]
  },
  {
   "cell_type": "code",
   "execution_count": 53,
   "id": "ac5cde0c",
   "metadata": {},
   "outputs": [
    {
     "data": {
      "text/plain": [
       "<AxesSubplot:xlabel='Outlet_Establishment_Year', ylabel='Item_Outlet_Sales'>"
      ]
     },
     "execution_count": 53,
     "metadata": {},
     "output_type": "execute_result"
    },
    {
     "data": {
      "image/png": "[encoded data removed]",
      "text/plain": [
       "<Figure size 432x288 with 1 Axes>"
      ]
     },
     "metadata": {
      "needs_background": "light"
     },
     "output_type": "display_data"
    }
   ],
   "source": [
    "sns.barplot(x='Outlet_Establishment_Year',y='Item_Outlet_Sales',data=df)"
   ]
  },
  {
   "cell_type": "markdown",
   "id": "5775b08f",
   "metadata": {},
   "source": [
    "-year 1998 has least total sales,while year 1985 has the most"
   ]
  },
  {
   "cell_type": "code",
   "execution_count": 54,
   "id": "7f73bab9",
   "metadata": {},
   "outputs": [
    {
     "data": {
      "text/html": [
       "<div>\n",
       "<style scoped>\n",
       "    .dataframe tbody tr th:only-of-type {\n",
       "        vertical-align: middle;\n",
       "    }\n",
       "\n",
       "    .dataframe tbody tr th {\n",
       "        vertical-align: top;\n",
       "    }\n",
       "\n",
       "    .dataframe thead th {\n",
       "        text-align: right;\n",
       "    }\n",
       "</style>\n",
       "<table border=\"1\" class=\"dataframe\">\n",
       "  <thead>\n",
       "    <tr style=\"text-align: right;\">\n",
       "      <th></th>\n",
       "      <th>Item_Weight</th>\n",
       "      <th>Item_Visibility</th>\n",
       "      <th>Item_MRP</th>\n",
       "      <th>Outlet_Establishment_Year</th>\n",
       "      <th>Item_Outlet_Sales</th>\n",
       "      <th>Item_Type_New</th>\n",
       "      <th>Outlet_Years</th>\n",
       "      <th>Item_Fat</th>\n",
       "      <th>Outlet</th>\n",
       "      <th>Outlet_Size_Encode</th>\n",
       "      <th>Outlet_Location</th>\n",
       "      <th>Outlet_Type_New</th>\n",
       "    </tr>\n",
       "  </thead>\n",
       "  <tbody>\n",
       "    <tr>\n",
       "      <th>Item_Weight</th>\n",
       "      <td>1.000000</td>\n",
       "      <td>-0.017450</td>\n",
       "      <td>0.024756</td>\n",
       "      <td>-0.008301</td>\n",
       "      <td>0.011550</td>\n",
       "      <td>0.063232</td>\n",
       "      <td>0.008301</td>\n",
       "      <td>-0.002151</td>\n",
       "      <td>-0.007975</td>\n",
       "      <td>-0.007225</td>\n",
       "      <td>0.004088</td>\n",
       "      <td>-0.000566</td>\n",
       "    </tr>\n",
       "    <tr>\n",
       "      <th>Item_Visibility</th>\n",
       "      <td>-0.017450</td>\n",
       "      <td>1.000000</td>\n",
       "      <td>-0.005259</td>\n",
       "      <td>-0.078355</td>\n",
       "      <td>-0.134138</td>\n",
       "      <td>-0.046290</td>\n",
       "      <td>0.078355</td>\n",
       "      <td>0.022745</td>\n",
       "      <td>-0.106377</td>\n",
       "      <td>0.072347</td>\n",
       "      <td>-0.027859</td>\n",
       "      <td>-0.179604</td>\n",
       "    </tr>\n",
       "    <tr>\n",
       "      <th>Item_MRP</th>\n",
       "      <td>0.024756</td>\n",
       "      <td>-0.005259</td>\n",
       "      <td>1.000000</td>\n",
       "      <td>0.005020</td>\n",
       "      <td>0.567574</td>\n",
       "      <td>0.032517</td>\n",
       "      <td>-0.005020</td>\n",
       "      <td>0.008594</td>\n",
       "      <td>0.003319</td>\n",
       "      <td>0.006059</td>\n",
       "      <td>0.000232</td>\n",
       "      <td>-0.001975</td>\n",
       "    </tr>\n",
       "    <tr>\n",
       "      <th>Outlet_Establishment_Year</th>\n",
       "      <td>-0.008301</td>\n",
       "      <td>-0.078355</td>\n",
       "      <td>0.005020</td>\n",
       "      <td>1.000000</td>\n",
       "      <td>-0.049135</td>\n",
       "      <td>-0.008551</td>\n",
       "      <td>-1.000000</td>\n",
       "      <td>0.001451</td>\n",
       "      <td>0.079035</td>\n",
       "      <td>0.193389</td>\n",
       "      <td>-0.089216</td>\n",
       "      <td>-0.122304</td>\n",
       "    </tr>\n",
       "    <tr>\n",
       "      <th>Item_Outlet_Sales</th>\n",
       "      <td>0.011550</td>\n",
       "      <td>-0.134138</td>\n",
       "      <td>0.567574</td>\n",
       "      <td>-0.049135</td>\n",
       "      <td>1.000000</td>\n",
       "      <td>0.011236</td>\n",
       "      <td>0.049135</td>\n",
       "      <td>0.015249</td>\n",
       "      <td>0.162325</td>\n",
       "      <td>-0.086182</td>\n",
       "      <td>0.089367</td>\n",
       "      <td>0.401522</td>\n",
       "    </tr>\n",
       "    <tr>\n",
       "      <th>Item_Type_New</th>\n",
       "      <td>0.063232</td>\n",
       "      <td>-0.046290</td>\n",
       "      <td>0.032517</td>\n",
       "      <td>-0.008551</td>\n",
       "      <td>0.011236</td>\n",
       "      <td>1.000000</td>\n",
       "      <td>0.008551</td>\n",
       "      <td>0.186485</td>\n",
       "      <td>-0.009730</td>\n",
       "      <td>-0.000624</td>\n",
       "      <td>0.007661</td>\n",
       "      <td>0.001136</td>\n",
       "    </tr>\n",
       "    <tr>\n",
       "      <th>Outlet_Years</th>\n",
       "      <td>0.008301</td>\n",
       "      <td>0.078355</td>\n",
       "      <td>-0.005020</td>\n",
       "      <td>-1.000000</td>\n",
       "      <td>0.049135</td>\n",
       "      <td>0.008551</td>\n",
       "      <td>1.000000</td>\n",
       "      <td>-0.001451</td>\n",
       "      <td>-0.079035</td>\n",
       "      <td>-0.193389</td>\n",
       "      <td>0.089216</td>\n",
       "      <td>0.122304</td>\n",
       "    </tr>\n",
       "    <tr>\n",
       "      <th>Item_Fat</th>\n",
       "      <td>-0.002151</td>\n",
       "      <td>0.022745</td>\n",
       "      <td>0.008594</td>\n",
       "      <td>0.001451</td>\n",
       "      <td>0.015249</td>\n",
       "      <td>0.186485</td>\n",
       "      <td>-0.001451</td>\n",
       "      <td>1.000000</td>\n",
       "      <td>-0.003433</td>\n",
       "      <td>-0.001791</td>\n",
       "      <td>0.000958</td>\n",
       "      <td>0.000084</td>\n",
       "    </tr>\n",
       "    <tr>\n",
       "      <th>Outlet</th>\n",
       "      <td>-0.007975</td>\n",
       "      <td>-0.106377</td>\n",
       "      <td>0.003319</td>\n",
       "      <td>0.079035</td>\n",
       "      <td>0.162325</td>\n",
       "      <td>-0.009730</td>\n",
       "      <td>-0.079035</td>\n",
       "      <td>-0.003433</td>\n",
       "      <td>1.000000</td>\n",
       "      <td>0.504603</td>\n",
       "      <td>-0.716176</td>\n",
       "      <td>0.099873</td>\n",
       "    </tr>\n",
       "    <tr>\n",
       "      <th>Outlet_Size_Encode</th>\n",
       "      <td>-0.007225</td>\n",
       "      <td>0.072347</td>\n",
       "      <td>0.006059</td>\n",
       "      <td>0.193389</td>\n",
       "      <td>-0.086182</td>\n",
       "      <td>-0.000624</td>\n",
       "      <td>-0.193389</td>\n",
       "      <td>-0.001791</td>\n",
       "      <td>0.504603</td>\n",
       "      <td>1.000000</td>\n",
       "      <td>-0.614311</td>\n",
       "      <td>-0.201483</td>\n",
       "    </tr>\n",
       "    <tr>\n",
       "      <th>Outlet_Location</th>\n",
       "      <td>0.004088</td>\n",
       "      <td>-0.027859</td>\n",
       "      <td>0.000232</td>\n",
       "      <td>-0.089216</td>\n",
       "      <td>0.089367</td>\n",
       "      <td>0.007661</td>\n",
       "      <td>0.089216</td>\n",
       "      <td>0.000958</td>\n",
       "      <td>-0.716176</td>\n",
       "      <td>-0.614311</td>\n",
       "      <td>1.000000</td>\n",
       "      <td>0.467219</td>\n",
       "    </tr>\n",
       "    <tr>\n",
       "      <th>Outlet_Type_New</th>\n",
       "      <td>-0.000566</td>\n",
       "      <td>-0.179604</td>\n",
       "      <td>-0.001975</td>\n",
       "      <td>-0.122304</td>\n",
       "      <td>0.401522</td>\n",
       "      <td>0.001136</td>\n",
       "      <td>0.122304</td>\n",
       "      <td>0.000084</td>\n",
       "      <td>0.099873</td>\n",
       "      <td>-0.201483</td>\n",
       "      <td>0.467219</td>\n",
       "      <td>1.000000</td>\n",
       "    </tr>\n",
       "  </tbody>\n",
       "</table>\n",
       "</div>"
      ],
      "text/plain": [
       "                           Item_Weight  Item_Visibility  Item_MRP  \\\n",
       "Item_Weight                   1.000000        -0.017450  0.024756   \n",
       "Item_Visibility              -0.017450         1.000000 -0.005259   \n",
       "Item_MRP                      0.024756        -0.005259  1.000000   \n",
       "Outlet_Establishment_Year    -0.008301        -0.078355  0.005020   \n",
       "Item_Outlet_Sales             0.011550        -0.134138  0.567574   \n",
       "Item_Type_New                 0.063232        -0.046290  0.032517   \n",
       "Outlet_Years                  0.008301         0.078355 -0.005020   \n",
       "Item_Fat                     -0.002151         0.022745  0.008594   \n",
       "Outlet                       -0.007975        -0.106377  0.003319   \n",
       "Outlet_Size_Encode           -0.007225         0.072347  0.006059   \n",
       "Outlet_Location               0.004088        -0.027859  0.000232   \n",
       "Outlet_Type_New              -0.000566        -0.179604 -0.001975   \n",
       "\n",
       "                           Outlet_Establishment_Year  Item_Outlet_Sales  \\\n",
       "Item_Weight                                -0.008301           0.011550   \n",
       "Item_Visibility                            -0.078355          -0.134138   \n",
       "Item_MRP                                    0.005020           0.567574   \n",
       "Outlet_Establishment_Year                   1.000000          -0.049135   \n",
       "Item_Outlet_Sales                          -0.049135           1.000000   \n",
       "Item_Type_New                              -0.008551           0.011236   \n",
       "Outlet_Years                               -1.000000           0.049135   \n",
       "Item_Fat                                    0.001451           0.015249   \n",
       "Outlet                                      0.079035           0.162325   \n",
       "Outlet_Size_Encode                          0.193389          -0.086182   \n",
       "Outlet_Location                            -0.089216           0.089367   \n",
       "Outlet_Type_New                            -0.122304           0.401522   \n",
       "\n",
       "                           Item_Type_New  Outlet_Years  Item_Fat    Outlet  \\\n",
       "Item_Weight                     0.063232      0.008301 -0.002151 -0.007975   \n",
       "Item_Visibility                -0.046290      0.078355  0.022745 -0.106377   \n",
       "Item_MRP                        0.032517     -0.005020  0.008594  0.003319   \n",
       "Outlet_Establishment_Year      -0.008551     -1.000000  0.001451  0.079035   \n",
       "Item_Outlet_Sales               0.011236      0.049135  0.015249  0.162325   \n",
       "Item_Type_New                   1.000000      0.008551  0.186485 -0.009730   \n",
       "Outlet_Years                    0.008551      1.000000 -0.001451 -0.079035   \n",
       "Item_Fat                        0.186485     -0.001451  1.000000 -0.003433   \n",
       "Outlet                         -0.009730     -0.079035 -0.003433  1.000000   \n",
       "Outlet_Size_Encode             -0.000624     -0.193389 -0.001791  0.504603   \n",
       "Outlet_Location                 0.007661      0.089216  0.000958 -0.716176   \n",
       "Outlet_Type_New                 0.001136      0.122304  0.000084  0.099873   \n",
       "\n",
       "                           Outlet_Size_Encode  Outlet_Location  \\\n",
       "Item_Weight                         -0.007225         0.004088   \n",
       "Item_Visibility                      0.072347        -0.027859   \n",
       "Item_MRP                             0.006059         0.000232   \n",
       "Outlet_Establishment_Year            0.193389        -0.089216   \n",
       "Item_Outlet_Sales                   -0.086182         0.089367   \n",
       "Item_Type_New                       -0.000624         0.007661   \n",
       "Outlet_Years                        -0.193389         0.089216   \n",
       "Item_Fat                            -0.001791         0.000958   \n",
       "Outlet                               0.504603        -0.716176   \n",
       "Outlet_Size_Encode                   1.000000        -0.614311   \n",
       "Outlet_Location                     -0.614311         1.000000   \n",
       "Outlet_Type_New                     -0.201483         0.467219   \n",
       "\n",
       "                           Outlet_Type_New  \n",
       "Item_Weight                      -0.000566  \n",
       "Item_Visibility                  -0.179604  \n",
       "Item_MRP                         -0.001975  \n",
       "Outlet_Establishment_Year        -0.122304  \n",
       "Item_Outlet_Sales                 0.401522  \n",
       "Item_Type_New                     0.001136  \n",
       "Outlet_Years                      0.122304  \n",
       "Item_Fat                          0.000084  \n",
       "Outlet                            0.099873  \n",
       "Outlet_Size_Encode               -0.201483  \n",
       "Outlet_Location                   0.467219  \n",
       "Outlet_Type_New                   1.000000  "
      ]
     },
     "execution_count": 54,
     "metadata": {},
     "output_type": "execute_result"
    }
   ],
   "source": [
    "#correlation matrix\n",
    "\n",
    "df.corr()"
   ]
  },
  {
   "cell_type": "code",
   "execution_count": 55,
   "id": "1dd9362f",
   "metadata": {},
   "outputs": [
    {
     "data": {
      "text/plain": [
       "<AxesSubplot:>"
      ]
     },
     "execution_count": 55,
     "metadata": {},
     "output_type": "execute_result"
    },
    {
     "data": {
      "image/png": "[encoded data removed]",
      "text/plain": [
       "<Figure size 1080x504 with 2 Axes>"
      ]
     },
     "metadata": {
      "needs_background": "light"
     },
     "output_type": "display_data"
    }
   ],
   "source": [
    "plt.figure(figsize=(15,7))\n",
    "sns.heatmap(df.corr(),annot=True,cmap='PuBuGn',fmt='.2%')"
   ]
  },
  {
   "cell_type": "code",
   "execution_count": 56,
   "id": "036f5d96",
   "metadata": {},
   "outputs": [
    {
     "data": {
      "text/plain": [
       "Item_Visibility             -0.134138\n",
       "Outlet_Size_Encode          -0.086182\n",
       "Outlet_Establishment_Year   -0.049135\n",
       "Item_Type_New                0.011236\n",
       "Item_Weight                  0.011550\n",
       "Item_Fat                     0.015249\n",
       "Outlet_Years                 0.049135\n",
       "Outlet_Location              0.089367\n",
       "Outlet                       0.162325\n",
       "Outlet_Type_New              0.401522\n",
       "Item_MRP                     0.567574\n",
       "Item_Outlet_Sales            1.000000\n",
       "Name: Item_Outlet_Sales, dtype: float64"
      ]
     },
     "execution_count": 56,
     "metadata": {},
     "output_type": "execute_result"
    }
   ],
   "source": [
    "df.corr()['Item_Outlet_Sales'].sort_values()"
   ]
  },
  {
   "cell_type": "markdown",
   "id": "35d3fdcd",
   "metadata": {},
   "source": [
    "so, it can be seen that:\n",
    "- Item_Visibility,Outlet_Size_Encode have negatively correlated bond\n",
    "- Outlet_Establishment_Year have a negative correlation bond but as we reduced the number we are getting a positive correlation bond\n",
    "- Item_Type_New has the weakest correlation bond while Item_MRP has the strongest correlation bond\n",
    "- Outlet_Identifier encoded as Outlet has a good correlation bond same goes with Outlet_Type_New"
   ]
  },
  {
   "cell_type": "code",
   "execution_count": 57,
   "id": "5821f6da",
   "metadata": {},
   "outputs": [
    {
     "data": {
      "text/html": [
       "<div>\n",
       "<style scoped>\n",
       "    .dataframe tbody tr th:only-of-type {\n",
       "        vertical-align: middle;\n",
       "    }\n",
       "\n",
       "    .dataframe tbody tr th {\n",
       "        vertical-align: top;\n",
       "    }\n",
       "\n",
       "    .dataframe thead th {\n",
       "        text-align: right;\n",
       "    }\n",
       "</style>\n",
       "<table border=\"1\" class=\"dataframe\">\n",
       "  <thead>\n",
       "    <tr style=\"text-align: right;\">\n",
       "      <th></th>\n",
       "      <th>Item_Weight</th>\n",
       "      <th>Item_Visibility</th>\n",
       "      <th>Item_MRP</th>\n",
       "      <th>Outlet_Establishment_Year</th>\n",
       "      <th>Item_Outlet_Sales</th>\n",
       "      <th>Item_Type_New</th>\n",
       "      <th>Outlet_Years</th>\n",
       "      <th>Item_Fat</th>\n",
       "      <th>Outlet</th>\n",
       "      <th>Outlet_Size_Encode</th>\n",
       "      <th>Outlet_Location</th>\n",
       "      <th>Outlet_Type_New</th>\n",
       "    </tr>\n",
       "  </thead>\n",
       "  <tbody>\n",
       "    <tr>\n",
       "      <th>count</th>\n",
       "      <td>8523.000000</td>\n",
       "      <td>8523.000000</td>\n",
       "      <td>8523.000000</td>\n",
       "      <td>8523.000000</td>\n",
       "      <td>8523.000000</td>\n",
       "      <td>8523.000000</td>\n",
       "      <td>8523.000000</td>\n",
       "      <td>8523.000000</td>\n",
       "      <td>8523.000000</td>\n",
       "      <td>8523.000000</td>\n",
       "      <td>8523.000000</td>\n",
       "      <td>8523.000000</td>\n",
       "    </tr>\n",
       "    <tr>\n",
       "      <th>mean</th>\n",
       "      <td>12.857645</td>\n",
       "      <td>0.070213</td>\n",
       "      <td>140.992782</td>\n",
       "      <td>1997.831867</td>\n",
       "      <td>2181.288914</td>\n",
       "      <td>1.093864</td>\n",
       "      <td>15.168133</td>\n",
       "      <td>0.892995</td>\n",
       "      <td>4.722281</td>\n",
       "      <td>1.170832</td>\n",
       "      <td>1.112871</td>\n",
       "      <td>1.201220</td>\n",
       "    </tr>\n",
       "    <tr>\n",
       "      <th>std</th>\n",
       "      <td>4.226124</td>\n",
       "      <td>0.048742</td>\n",
       "      <td>62.275067</td>\n",
       "      <td>8.371760</td>\n",
       "      <td>1706.499616</td>\n",
       "      <td>0.522090</td>\n",
       "      <td>8.371760</td>\n",
       "      <td>0.895005</td>\n",
       "      <td>2.837201</td>\n",
       "      <td>0.600327</td>\n",
       "      <td>0.812757</td>\n",
       "      <td>0.796459</td>\n",
       "    </tr>\n",
       "    <tr>\n",
       "      <th>min</th>\n",
       "      <td>4.555000</td>\n",
       "      <td>0.003575</td>\n",
       "      <td>31.290000</td>\n",
       "      <td>1985.000000</td>\n",
       "      <td>33.290000</td>\n",
       "      <td>0.000000</td>\n",
       "      <td>4.000000</td>\n",
       "      <td>0.000000</td>\n",
       "      <td>0.000000</td>\n",
       "      <td>0.000000</td>\n",
       "      <td>0.000000</td>\n",
       "      <td>0.000000</td>\n",
       "    </tr>\n",
       "    <tr>\n",
       "      <th>25%</th>\n",
       "      <td>9.310000</td>\n",
       "      <td>0.033085</td>\n",
       "      <td>93.826500</td>\n",
       "      <td>1987.000000</td>\n",
       "      <td>834.247400</td>\n",
       "      <td>1.000000</td>\n",
       "      <td>9.000000</td>\n",
       "      <td>0.000000</td>\n",
       "      <td>2.000000</td>\n",
       "      <td>1.000000</td>\n",
       "      <td>0.000000</td>\n",
       "      <td>1.000000</td>\n",
       "    </tr>\n",
       "    <tr>\n",
       "      <th>50%</th>\n",
       "      <td>12.857645</td>\n",
       "      <td>0.062517</td>\n",
       "      <td>143.012800</td>\n",
       "      <td>1999.000000</td>\n",
       "      <td>1794.331000</td>\n",
       "      <td>1.000000</td>\n",
       "      <td>14.000000</td>\n",
       "      <td>1.000000</td>\n",
       "      <td>5.000000</td>\n",
       "      <td>1.000000</td>\n",
       "      <td>1.000000</td>\n",
       "      <td>1.000000</td>\n",
       "    </tr>\n",
       "    <tr>\n",
       "      <th>75%</th>\n",
       "      <td>16.000000</td>\n",
       "      <td>0.094585</td>\n",
       "      <td>185.643700</td>\n",
       "      <td>2004.000000</td>\n",
       "      <td>3101.296400</td>\n",
       "      <td>1.000000</td>\n",
       "      <td>26.000000</td>\n",
       "      <td>2.000000</td>\n",
       "      <td>7.000000</td>\n",
       "      <td>2.000000</td>\n",
       "      <td>2.000000</td>\n",
       "      <td>1.000000</td>\n",
       "    </tr>\n",
       "    <tr>\n",
       "      <th>max</th>\n",
       "      <td>21.350000</td>\n",
       "      <td>0.328391</td>\n",
       "      <td>266.888400</td>\n",
       "      <td>2009.000000</td>\n",
       "      <td>13086.964800</td>\n",
       "      <td>2.000000</td>\n",
       "      <td>28.000000</td>\n",
       "      <td>2.000000</td>\n",
       "      <td>9.000000</td>\n",
       "      <td>2.000000</td>\n",
       "      <td>2.000000</td>\n",
       "      <td>3.000000</td>\n",
       "    </tr>\n",
       "  </tbody>\n",
       "</table>\n",
       "</div>"
      ],
      "text/plain": [
       "       Item_Weight  Item_Visibility     Item_MRP  Outlet_Establishment_Year  \\\n",
       "count  8523.000000      8523.000000  8523.000000                8523.000000   \n",
       "mean     12.857645         0.070213   140.992782                1997.831867   \n",
       "std       4.226124         0.048742    62.275067                   8.371760   \n",
       "min       4.555000         0.003575    31.290000                1985.000000   \n",
       "25%       9.310000         0.033085    93.826500                1987.000000   \n",
       "50%      12.857645         0.062517   143.012800                1999.000000   \n",
       "75%      16.000000         0.094585   185.643700                2004.000000   \n",
       "max      21.350000         0.328391   266.888400                2009.000000   \n",
       "\n",
       "       Item_Outlet_Sales  Item_Type_New  Outlet_Years     Item_Fat  \\\n",
       "count        8523.000000    8523.000000   8523.000000  8523.000000   \n",
       "mean         2181.288914       1.093864     15.168133     0.892995   \n",
       "std          1706.499616       0.522090      8.371760     0.895005   \n",
       "min            33.290000       0.000000      4.000000     0.000000   \n",
       "25%           834.247400       1.000000      9.000000     0.000000   \n",
       "50%          1794.331000       1.000000     14.000000     1.000000   \n",
       "75%          3101.296400       1.000000     26.000000     2.000000   \n",
       "max         13086.964800       2.000000     28.000000     2.000000   \n",
       "\n",
       "            Outlet  Outlet_Size_Encode  Outlet_Location  Outlet_Type_New  \n",
       "count  8523.000000         8523.000000      8523.000000      8523.000000  \n",
       "mean      4.722281            1.170832         1.112871         1.201220  \n",
       "std       2.837201            0.600327         0.812757         0.796459  \n",
       "min       0.000000            0.000000         0.000000         0.000000  \n",
       "25%       2.000000            1.000000         0.000000         1.000000  \n",
       "50%       5.000000            1.000000         1.000000         1.000000  \n",
       "75%       7.000000            2.000000         2.000000         1.000000  \n",
       "max       9.000000            2.000000         2.000000         3.000000  "
      ]
     },
     "execution_count": 57,
     "metadata": {},
     "output_type": "execute_result"
    }
   ],
   "source": [
    "# now let's, describe our dataset:\n",
    "\n",
    "df.describe()"
   ]
  },
  {
   "cell_type": "markdown",
   "id": "f17fc4f3",
   "metadata": {},
   "source": [
    "observations:\n",
    "- only a few outliers might be present \n",
    "- only a little skewness is present\n",
    "- outlet years are in arange of 4-28 years\n",
    "- minimum MRP is 31.29 while maximum MRP is 266.88"
   ]
  },
  {
   "cell_type": "code",
   "execution_count": 58,
   "id": "ca06808e",
   "metadata": {},
   "outputs": [
    {
     "data": {
      "text/plain": [
       "<AxesSubplot:xlabel='Item_Weight'>"
      ]
     },
     "execution_count": 58,
     "metadata": {},
     "output_type": "execute_result"
    },
    {
     "data": {
      "image/png": "[encoded data removed]",
      "text/plain": [
       "<Figure size 432x288 with 1 Axes>"
      ]
     },
     "metadata": {
      "needs_background": "light"
     },
     "output_type": "display_data"
    }
   ],
   "source": [
    "#let's check for outliers\n",
    "\n",
    "sns.boxplot(df['Item_Weight'],orient=\"h\")"
   ]
  },
  {
   "cell_type": "code",
   "execution_count": 59,
   "id": "8f00aa81",
   "metadata": {},
   "outputs": [
    {
     "data": {
      "text/plain": [
       "<AxesSubplot:xlabel='Item_MRP'>"
      ]
     },
     "execution_count": 59,
     "metadata": {},
     "output_type": "execute_result"
    },
    {
     "data": {
      "image/png": "[encoded data removed]",
      "text/plain": [
       "<Figure size 432x288 with 1 Axes>"
      ]
     },
     "metadata": {
      "needs_background": "light"
     },
     "output_type": "display_data"
    }
   ],
   "source": [
    "sns.boxplot(df['Item_MRP'],orient=\"h\")"
   ]
  },
  {
   "cell_type": "code",
   "execution_count": 60,
   "id": "d439a42f",
   "metadata": {},
   "outputs": [
    {
     "data": {
      "text/plain": [
       "<AxesSubplot:xlabel='Item_Outlet_Sales'>"
      ]
     },
     "execution_count": 60,
     "metadata": {},
     "output_type": "execute_result"
    },
    {
     "data": {
      "image/png": "[encoded data removed]",
      "text/plain": [
       "<Figure size 432x288 with 1 Axes>"
      ]
     },
     "metadata": {
      "needs_background": "light"
     },
     "output_type": "display_data"
    }
   ],
   "source": [
    "sns.boxplot(df['Item_Outlet_Sales'],orient=\"h\")"
   ]
  },
  {
   "cell_type": "markdown",
   "id": "6d635526",
   "metadata": {},
   "source": [
    "- okay so our target variable has some outliers"
   ]
  },
  {
   "cell_type": "markdown",
   "id": "789ee422",
   "metadata": {},
   "source": [
    "# Data cleaning:\n",
    "- we will deal with outliers, skewness and other factors in this part."
   ]
  },
  {
   "cell_type": "code",
   "execution_count": 61,
   "id": "d5f15087",
   "metadata": {},
   "outputs": [
    {
     "data": {
      "text/plain": [
       "Item_Visibility             -0.134138\n",
       "Outlet_Size_Encode          -0.086182\n",
       "Outlet_Establishment_Year   -0.049135\n",
       "Item_Type_New                0.011236\n",
       "Item_Weight                  0.011550\n",
       "Item_Fat                     0.015249\n",
       "Outlet_Years                 0.049135\n",
       "Outlet_Location              0.089367\n",
       "Outlet                       0.162325\n",
       "Outlet_Type_New              0.401522\n",
       "Item_MRP                     0.567574\n",
       "Item_Outlet_Sales            1.000000\n",
       "Name: Item_Outlet_Sales, dtype: float64"
      ]
     },
     "execution_count": 61,
     "metadata": {},
     "output_type": "execute_result"
    }
   ],
   "source": [
    "df.corr()['Item_Outlet_Sales'].sort_values()"
   ]
  },
  {
   "cell_type": "code",
   "execution_count": 62,
   "id": "8d2d815d",
   "metadata": {},
   "outputs": [
    {
     "data": {
      "text/plain": [
       "Item_Identifier               object\n",
       "Item_Weight                  float64\n",
       "Item_Fat_Content              object\n",
       "Item_Visibility              float64\n",
       "Item_Type                     object\n",
       "Item_MRP                     float64\n",
       "Outlet_Identifier             object\n",
       "Outlet_Establishment_Year      int64\n",
       "Outlet_Size                   object\n",
       "Outlet_Location_Type          object\n",
       "Outlet_Type                   object\n",
       "Item_Outlet_Sales            float64\n",
       "Item_Type_New                  int32\n",
       "Outlet_Years                   int64\n",
       "Item_Fat                       int32\n",
       "Outlet                         int32\n",
       "Outlet_Size_Encode             int32\n",
       "Outlet_Location                int32\n",
       "Outlet_Type_New                int32\n",
       "dtype: object"
      ]
     },
     "execution_count": 62,
     "metadata": {},
     "output_type": "execute_result"
    }
   ],
   "source": [
    "df.dtypes"
   ]
  },
  {
   "cell_type": "code",
   "execution_count": 47,
   "id": "43eaec08",
   "metadata": {},
   "outputs": [],
   "source": [
    "#let's try zscore method for outliers removal\n",
    "\n",
    "from scipy.stats import zscore\n",
    "\n",
    "#dropping categorical datatype columns as they have been encoded and negatively correlated columns too\n",
    "df_numerical=df.drop(['Item_Identifier','Item_Fat_Content','Item_Type','Outlet_Identifier','Outlet_Establishment_Year','Outlet_Size','Outlet_Location_Type','Outlet_Type','Item_Visibility','Outlet_Size_Encode'],axis=1)\n",
    "z=np.abs(zscore(df_numerical))"
   ]
  },
  {
   "cell_type": "code",
   "execution_count": 44,
   "id": "d0d0a13d",
   "metadata": {},
   "outputs": [
    {
     "data": {
      "text/plain": [
       "(array([ 130,  145,  276,  304,  333,  373,  456,  472,  661,  694,  753,\n",
       "         809,  935,  991,  997, 1009, 1138, 1254, 1450, 1506, 1859, 1998,\n",
       "        2109, 2216, 2238, 2293, 2516, 2535, 2776, 3083, 3087, 3098, 3154,\n",
       "        3234, 3286, 3407, 3667, 3709, 3720, 3757, 4289, 4346, 4349, 4676,\n",
       "        4681, 4772, 4888, 4961, 4991, 5065, 5177, 5185, 5223, 5315, 5500,\n",
       "        5550, 5619, 5752, 5799, 5812, 5977, 6000, 6134, 6334, 6409, 6537,\n",
       "        6541, 6606, 6886, 6993, 7016, 7076, 7188, 7191, 7236, 7256, 7302,\n",
       "        7343, 7560, 7562, 7609, 7690, 7752, 7816, 7826, 7930, 8039, 8201,\n",
       "        8245, 8447], dtype=int64),\n",
       " array([2, 2, 2, 2, 2, 2, 2, 2, 2, 2, 2, 2, 2, 2, 2, 2, 2, 2, 2, 2, 2, 2,\n",
       "        2, 2, 2, 2, 2, 2, 2, 2, 2, 2, 2, 2, 2, 2, 2, 2, 2, 2, 2, 2, 2, 2,\n",
       "        2, 2, 2, 2, 2, 2, 2, 2, 2, 2, 2, 2, 2, 2, 2, 2, 2, 2, 2, 2, 2, 2,\n",
       "        2, 2, 2, 2, 2, 2, 2, 2, 2, 2, 2, 2, 2, 2, 2, 2, 2, 2, 2, 2, 2, 2,\n",
       "        2, 2], dtype=int64))"
      ]
     },
     "execution_count": 44,
     "metadata": {},
     "output_type": "execute_result"
    }
   ],
   "source": [
    "np.where(z>3)"
   ]
  },
  {
   "cell_type": "code",
   "execution_count": 48,
   "id": "f9bad39e",
   "metadata": {},
   "outputs": [],
   "source": [
    "#threshold=3\n",
    "df_new=df_numerical[(z<3).all(axis=1)]"
   ]
  },
  {
   "cell_type": "code",
   "execution_count": 49,
   "id": "a1b4c717",
   "metadata": {},
   "outputs": [
    {
     "data": {
      "text/plain": [
       "(8523, 9)"
      ]
     },
     "execution_count": 49,
     "metadata": {},
     "output_type": "execute_result"
    }
   ],
   "source": [
    "df_numerical.shape"
   ]
  },
  {
   "cell_type": "code",
   "execution_count": 50,
   "id": "9f72f8ac",
   "metadata": {},
   "outputs": [
    {
     "data": {
      "text/plain": [
       "(8433, 9)"
      ]
     },
     "execution_count": 50,
     "metadata": {},
     "output_type": "execute_result"
    }
   ],
   "source": [
    "df_new.shape"
   ]
  },
  {
   "cell_type": "code",
   "execution_count": 51,
   "id": "438f7862",
   "metadata": {},
   "outputs": [
    {
     "name": "stdout",
     "output_type": "stream",
     "text": [
      "Data loss is: 1.0559662090813093 %\n"
     ]
    }
   ],
   "source": [
    "print('Data loss is:',(8523-8433)/8523*100,'%')"
   ]
  },
  {
   "cell_type": "markdown",
   "id": "150aa1c1",
   "metadata": {},
   "source": [
    "- only 1% of data loss is occuring so we will use without outliers dataset"
   ]
  },
  {
   "cell_type": "code",
   "execution_count": 49,
   "id": "c5374c4b",
   "metadata": {},
   "outputs": [
    {
     "data": {
      "text/plain": [
       "Item_Weight          0.011691\n",
       "Outlet_Years         0.012554\n",
       "Item_Type_New        0.019030\n",
       "Item_Fat             0.020284\n",
       "Outlet_Location      0.069114\n",
       "Outlet               0.172876\n",
       "Outlet_Type_New      0.380454\n",
       "Item_MRP             0.563164\n",
       "Item_Outlet_Sales    1.000000\n",
       "Name: Item_Outlet_Sales, dtype: float64"
      ]
     },
     "execution_count": 49,
     "metadata": {},
     "output_type": "execute_result"
    }
   ],
   "source": [
    "df_new.corr()['Item_Outlet_Sales'].sort_values()"
   ]
  },
  {
   "cell_type": "code",
   "execution_count": 52,
   "id": "6c668fde",
   "metadata": {},
   "outputs": [],
   "source": [
    "# now selecting our feature and target variable for further process\n",
    "\n",
    "x=df_new.drop('Item_Outlet_Sales',axis=1)\n",
    "y=df_new['Item_Outlet_Sales']"
   ]
  },
  {
   "cell_type": "code",
   "execution_count": 53,
   "id": "69611851",
   "metadata": {},
   "outputs": [
    {
     "data": {
      "text/html": [
       "<div>\n",
       "<style scoped>\n",
       "    .dataframe tbody tr th:only-of-type {\n",
       "        vertical-align: middle;\n",
       "    }\n",
       "\n",
       "    .dataframe tbody tr th {\n",
       "        vertical-align: top;\n",
       "    }\n",
       "\n",
       "    .dataframe thead th {\n",
       "        text-align: right;\n",
       "    }\n",
       "</style>\n",
       "<table border=\"1\" class=\"dataframe\">\n",
       "  <thead>\n",
       "    <tr style=\"text-align: right;\">\n",
       "      <th></th>\n",
       "      <th>Item_Weight</th>\n",
       "      <th>Item_MRP</th>\n",
       "      <th>Item_Type_New</th>\n",
       "      <th>Outlet_Years</th>\n",
       "      <th>Item_Fat</th>\n",
       "      <th>Outlet</th>\n",
       "      <th>Outlet_Location</th>\n",
       "      <th>Outlet_Type_New</th>\n",
       "    </tr>\n",
       "  </thead>\n",
       "  <tbody>\n",
       "    <tr>\n",
       "      <th>0</th>\n",
       "      <td>9.300</td>\n",
       "      <td>249.8092</td>\n",
       "      <td>1</td>\n",
       "      <td>14</td>\n",
       "      <td>0</td>\n",
       "      <td>9</td>\n",
       "      <td>0</td>\n",
       "      <td>1</td>\n",
       "    </tr>\n",
       "    <tr>\n",
       "      <th>1</th>\n",
       "      <td>5.920</td>\n",
       "      <td>48.2692</td>\n",
       "      <td>0</td>\n",
       "      <td>4</td>\n",
       "      <td>2</td>\n",
       "      <td>3</td>\n",
       "      <td>2</td>\n",
       "      <td>2</td>\n",
       "    </tr>\n",
       "    <tr>\n",
       "      <th>2</th>\n",
       "      <td>17.500</td>\n",
       "      <td>141.6180</td>\n",
       "      <td>1</td>\n",
       "      <td>14</td>\n",
       "      <td>0</td>\n",
       "      <td>9</td>\n",
       "      <td>0</td>\n",
       "      <td>1</td>\n",
       "    </tr>\n",
       "    <tr>\n",
       "      <th>3</th>\n",
       "      <td>19.200</td>\n",
       "      <td>182.0950</td>\n",
       "      <td>1</td>\n",
       "      <td>15</td>\n",
       "      <td>2</td>\n",
       "      <td>0</td>\n",
       "      <td>2</td>\n",
       "      <td>0</td>\n",
       "    </tr>\n",
       "    <tr>\n",
       "      <th>4</th>\n",
       "      <td>8.930</td>\n",
       "      <td>53.8614</td>\n",
       "      <td>2</td>\n",
       "      <td>26</td>\n",
       "      <td>1</td>\n",
       "      <td>1</td>\n",
       "      <td>2</td>\n",
       "      <td>1</td>\n",
       "    </tr>\n",
       "    <tr>\n",
       "      <th>...</th>\n",
       "      <td>...</td>\n",
       "      <td>...</td>\n",
       "      <td>...</td>\n",
       "      <td>...</td>\n",
       "      <td>...</td>\n",
       "      <td>...</td>\n",
       "      <td>...</td>\n",
       "      <td>...</td>\n",
       "    </tr>\n",
       "    <tr>\n",
       "      <th>8518</th>\n",
       "      <td>6.865</td>\n",
       "      <td>214.5218</td>\n",
       "      <td>1</td>\n",
       "      <td>26</td>\n",
       "      <td>0</td>\n",
       "      <td>1</td>\n",
       "      <td>2</td>\n",
       "      <td>1</td>\n",
       "    </tr>\n",
       "    <tr>\n",
       "      <th>8519</th>\n",
       "      <td>8.380</td>\n",
       "      <td>108.1570</td>\n",
       "      <td>1</td>\n",
       "      <td>11</td>\n",
       "      <td>2</td>\n",
       "      <td>7</td>\n",
       "      <td>1</td>\n",
       "      <td>1</td>\n",
       "    </tr>\n",
       "    <tr>\n",
       "      <th>8520</th>\n",
       "      <td>10.600</td>\n",
       "      <td>85.1224</td>\n",
       "      <td>2</td>\n",
       "      <td>9</td>\n",
       "      <td>1</td>\n",
       "      <td>6</td>\n",
       "      <td>1</td>\n",
       "      <td>1</td>\n",
       "    </tr>\n",
       "    <tr>\n",
       "      <th>8521</th>\n",
       "      <td>7.210</td>\n",
       "      <td>103.1332</td>\n",
       "      <td>1</td>\n",
       "      <td>4</td>\n",
       "      <td>2</td>\n",
       "      <td>3</td>\n",
       "      <td>2</td>\n",
       "      <td>2</td>\n",
       "    </tr>\n",
       "    <tr>\n",
       "      <th>8522</th>\n",
       "      <td>14.800</td>\n",
       "      <td>75.4670</td>\n",
       "      <td>0</td>\n",
       "      <td>16</td>\n",
       "      <td>0</td>\n",
       "      <td>8</td>\n",
       "      <td>0</td>\n",
       "      <td>1</td>\n",
       "    </tr>\n",
       "  </tbody>\n",
       "</table>\n",
       "<p>8433 rows × 8 columns</p>\n",
       "</div>"
      ],
      "text/plain": [
       "      Item_Weight  Item_MRP  Item_Type_New  Outlet_Years  Item_Fat  Outlet  \\\n",
       "0           9.300  249.8092              1            14         0       9   \n",
       "1           5.920   48.2692              0             4         2       3   \n",
       "2          17.500  141.6180              1            14         0       9   \n",
       "3          19.200  182.0950              1            15         2       0   \n",
       "4           8.930   53.8614              2            26         1       1   \n",
       "...           ...       ...            ...           ...       ...     ...   \n",
       "8518        6.865  214.5218              1            26         0       1   \n",
       "8519        8.380  108.1570              1            11         2       7   \n",
       "8520       10.600   85.1224              2             9         1       6   \n",
       "8521        7.210  103.1332              1             4         2       3   \n",
       "8522       14.800   75.4670              0            16         0       8   \n",
       "\n",
       "      Outlet_Location  Outlet_Type_New  \n",
       "0                   0                1  \n",
       "1                   2                2  \n",
       "2                   0                1  \n",
       "3                   2                0  \n",
       "4                   2                1  \n",
       "...               ...              ...  \n",
       "8518                2                1  \n",
       "8519                1                1  \n",
       "8520                1                1  \n",
       "8521                2                2  \n",
       "8522                0                1  \n",
       "\n",
       "[8433 rows x 8 columns]"
      ]
     },
     "execution_count": 53,
     "metadata": {},
     "output_type": "execute_result"
    }
   ],
   "source": [
    "x"
   ]
  },
  {
   "cell_type": "code",
   "execution_count": 52,
   "id": "179e8326",
   "metadata": {},
   "outputs": [
    {
     "data": {
      "text/plain": [
       "0       3735.1380\n",
       "1        443.4228\n",
       "2       2097.2700\n",
       "3        732.3800\n",
       "4        994.7052\n",
       "          ...    \n",
       "8518    2778.3834\n",
       "8519     549.2850\n",
       "8520    1193.1136\n",
       "8521    1845.5976\n",
       "8522     765.6700\n",
       "Name: Item_Outlet_Sales, Length: 8433, dtype: float64"
      ]
     },
     "execution_count": 52,
     "metadata": {},
     "output_type": "execute_result"
    }
   ],
   "source": [
    "y"
   ]
  },
  {
   "cell_type": "code",
   "execution_count": 53,
   "id": "74441751",
   "metadata": {},
   "outputs": [
    {
     "data": {
      "text/plain": [
       "Item_Weight        0.089962\n",
       "Item_MRP           0.137074\n",
       "Item_Type_New      0.113822\n",
       "Outlet_Years       0.410554\n",
       "Item_Fat           0.209369\n",
       "Outlet            -0.057465\n",
       "Outlet_Location   -0.198522\n",
       "Outlet_Type_New    0.936123\n",
       "dtype: float64"
      ]
     },
     "execution_count": 53,
     "metadata": {},
     "output_type": "execute_result"
    }
   ],
   "source": [
    "#checking for skewness\n",
    "\n",
    "x.skew()"
   ]
  },
  {
   "cell_type": "markdown",
   "id": "dae01d36",
   "metadata": {},
   "source": [
    "- let's take skewness threshold as +/- 0.50, so most of the columns are falling under this only, except Outlet_Type_New"
   ]
  },
  {
   "cell_type": "code",
   "execution_count": 54,
   "id": "08245f4c",
   "metadata": {},
   "outputs": [
    {
     "data": {
      "text/plain": [
       "<AxesSubplot:xlabel='Outlet_Type_New', ylabel='Density'>"
      ]
     },
     "execution_count": 54,
     "metadata": {},
     "output_type": "execute_result"
    },
    {
     "data": {
      "image/png": "[encoded data removed]",
      "text/plain": [
       "<Figure size 432x288 with 1 Axes>"
      ]
     },
     "metadata": {
      "needs_background": "light"
     },
     "output_type": "display_data"
    }
   ],
   "source": [
    "sns.distplot(df['Outlet_Type_New'])"
   ]
  },
  {
   "cell_type": "markdown",
   "id": "5c5ac708",
   "metadata": {},
   "source": [
    "- skewness is present, it is because one category has more data counts while others have very less"
   ]
  },
  {
   "cell_type": "code",
   "execution_count": 55,
   "id": "61a3a86d",
   "metadata": {},
   "outputs": [],
   "source": [
    "#using log transformation on 'Outlet_Type_New' only\n",
    "\n",
    "x['Outlet_Type_New']=np.log(x['Outlet_Type_New']+1)"
   ]
  },
  {
   "cell_type": "code",
   "execution_count": 56,
   "id": "6651c68d",
   "metadata": {},
   "outputs": [
    {
     "data": {
      "text/plain": [
       "Item_Weight        0.089962\n",
       "Item_MRP           0.137074\n",
       "Item_Type_New      0.113822\n",
       "Outlet_Years       0.410554\n",
       "Item_Fat           0.209369\n",
       "Outlet            -0.057465\n",
       "Outlet_Location   -0.198522\n",
       "Outlet_Type_New   -0.249471\n",
       "dtype: float64"
      ]
     },
     "execution_count": 56,
     "metadata": {},
     "output_type": "execute_result"
    }
   ],
   "source": [
    "x.skew()"
   ]
  },
  {
   "cell_type": "markdown",
   "id": "2fc2357c",
   "metadata": {},
   "source": [
    "-skewness has been reduced"
   ]
  },
  {
   "cell_type": "code",
   "execution_count": 54,
   "id": "95bc2ebe",
   "metadata": {},
   "outputs": [],
   "source": [
    "#scaling the input data\n",
    "\n",
    "from sklearn.preprocessing import StandardScaler\n",
    "sc=StandardScaler()\n",
    "x=sc.fit_transform(x)"
   ]
  },
  {
   "cell_type": "code",
   "execution_count": 58,
   "id": "1788d6f9",
   "metadata": {},
   "outputs": [],
   "source": [
    "x=pd.DataFrame(x)"
   ]
  },
  {
   "cell_type": "code",
   "execution_count": 59,
   "id": "d58d676d",
   "metadata": {},
   "outputs": [],
   "source": [
    "#checking for multicollinearity\n",
    "\n",
    "from statsmodels.stats.outliers_influence import variance_inflation_factor\n",
    "\n",
    "def vif_calc():\n",
    "    vif=pd.DataFrame()\n",
    "    vif['VIF Factor']=[variance_inflation_factor(x.values,i) for i in range(x.shape[1])]\n",
    "    vif['features']=x.columns\n",
    "    print(vif)"
   ]
  },
  {
   "cell_type": "code",
   "execution_count": 60,
   "id": "2a687eac",
   "metadata": {},
   "outputs": [
    {
     "name": "stdout",
     "output_type": "stream",
     "text": [
      "   VIF Factor  features\n",
      "0    1.004959         0\n",
      "1    1.002433         1\n",
      "2    1.041722         2\n",
      "3    1.013208         3\n",
      "4    1.036240         4\n",
      "5    4.289228         5\n",
      "6    4.869811         6\n",
      "7    2.430641         7\n"
     ]
    }
   ],
   "source": [
    "vif_calc()"
   ]
  },
  {
   "cell_type": "markdown",
   "id": "ec192402",
   "metadata": {},
   "source": [
    "- no feature has above 5 VIF so the data isn't much multicollinear"
   ]
  },
  {
   "cell_type": "markdown",
   "id": "ac3d00db",
   "metadata": {},
   "source": [
    "since the target variable is of continuous type we will first try linear regression and then other alogorithms as well:"
   ]
  },
  {
   "cell_type": "code",
   "execution_count": 55,
   "id": "b29450d4",
   "metadata": {},
   "outputs": [],
   "source": [
    "from sklearn.model_selection import train_test_split,cross_val_score\n",
    "from sklearn.linear_model import LinearRegression \n",
    "from sklearn.metrics import r2_score,mean_squared_error,mean_absolute_error"
   ]
  },
  {
   "cell_type": "code",
   "execution_count": 62,
   "id": "eceade54",
   "metadata": {},
   "outputs": [],
   "source": [
    "lr=LinearRegression()"
   ]
  },
  {
   "cell_type": "code",
   "execution_count": 63,
   "id": "b0153b80",
   "metadata": {},
   "outputs": [
    {
     "name": "stdout",
     "output_type": "stream",
     "text": [
      "At random state 7 the model performs very well\n",
      "At random state 7 :\n",
      "Training accuracy score is 51.680369848735076\n",
      "Testing accuracy score is 52.48325787181318 \n",
      "\n",
      "At random state 9 the model performs very well\n",
      "At random state 9 :\n",
      "Training accuracy score is 52.09637100266444\n",
      "Testing accuracy score is 51.567640505861625 \n",
      "\n",
      "At random state 10 the model performs very well\n",
      "At random state 10 :\n",
      "Training accuracy score is 51.90947611187112\n",
      "Testing accuracy score is 52.06136905112926 \n",
      "\n",
      "At random state 12 the model performs very well\n",
      "At random state 12 :\n",
      "Training accuracy score is 52.13828053920313\n",
      "Testing accuracy score is 51.53172547641853 \n",
      "\n",
      "At random state 18 the model performs very well\n",
      "At random state 18 :\n",
      "Training accuracy score is 51.939015488171634\n",
      "Testing accuracy score is 51.98547352345003 \n",
      "\n",
      "At random state 20 the model performs very well\n",
      "At random state 20 :\n",
      "Training accuracy score is 52.144410279542\n",
      "Testing accuracy score is 51.51752834853177 \n",
      "\n",
      "At random state 23 the model performs very well\n",
      "At random state 23 :\n",
      "Training accuracy score is 51.72611259614883\n",
      "Testing accuracy score is 52.45739352821798 \n",
      "\n",
      "At random state 26 the model performs very well\n",
      "At random state 26 :\n",
      "Training accuracy score is 51.76805496217136\n",
      "Testing accuracy score is 52.254833923509594 \n",
      "\n",
      "At random state 31 the model performs very well\n",
      "At random state 31 :\n",
      "Training accuracy score is 51.808447329801155\n",
      "Testing accuracy score is 52.265031939844064 \n",
      "\n",
      "At random state 33 the model performs very well\n",
      "At random state 33 :\n",
      "Training accuracy score is 51.91676708553743\n",
      "Testing accuracy score is 51.93469800709883 \n",
      "\n",
      "At random state 34 the model performs very well\n",
      "At random state 34 :\n",
      "Training accuracy score is 52.052952470829496\n",
      "Testing accuracy score is 51.5465187061652 \n",
      "\n",
      "At random state 35 the model performs very well\n",
      "At random state 35 :\n",
      "Training accuracy score is 52.01116057656703\n",
      "Testing accuracy score is 51.777157996460176 \n",
      "\n",
      "At random state 39 the model performs very well\n",
      "At random state 39 :\n",
      "Training accuracy score is 52.007868408826994\n",
      "Testing accuracy score is 51.824755140064596 \n",
      "\n",
      "At random state 43 the model performs very well\n",
      "At random state 43 :\n",
      "Training accuracy score is 52.06225808702602\n",
      "Testing accuracy score is 51.71420975869597 \n",
      "\n",
      "At random state 45 the model performs very well\n",
      "At random state 45 :\n",
      "Training accuracy score is 52.04483896759242\n",
      "Testing accuracy score is 51.712961939040156 \n",
      "\n",
      "At random state 46 the model performs very well\n",
      "At random state 46 :\n",
      "Training accuracy score is 51.79540427534346\n",
      "Testing accuracy score is 52.309167626804 \n",
      "\n",
      "At random state 47 the model performs very well\n",
      "At random state 47 :\n",
      "Training accuracy score is 51.76146706267595\n",
      "Testing accuracy score is 52.41367999335043 \n",
      "\n",
      "At random state 50 the model performs very well\n",
      "At random state 50 :\n",
      "Training accuracy score is 51.91795638718062\n",
      "Testing accuracy score is 51.96870036978136 \n",
      "\n",
      "At random state 51 the model performs very well\n",
      "At random state 51 :\n",
      "Training accuracy score is 52.00279772254621\n",
      "Testing accuracy score is 51.80335009773206 \n",
      "\n",
      "At random state 52 the model performs very well\n",
      "At random state 52 :\n",
      "Training accuracy score is 51.808804670571384\n",
      "Testing accuracy score is 52.23780389275496 \n",
      "\n",
      "At random state 53 the model performs very well\n",
      "At random state 53 :\n",
      "Training accuracy score is 52.12691744623243\n",
      "Testing accuracy score is 51.556116614044015 \n",
      "\n",
      "At random state 56 the model performs very well\n",
      "At random state 56 :\n",
      "Training accuracy score is 51.986107735371554\n",
      "Testing accuracy score is 51.70858854561593 \n",
      "\n",
      "At random state 58 the model performs very well\n",
      "At random state 58 :\n",
      "Training accuracy score is 51.89163720418819\n",
      "Testing accuracy score is 52.01765349832761 \n",
      "\n",
      "At random state 59 the model performs very well\n",
      "At random state 59 :\n",
      "Training accuracy score is 52.08983415179076\n",
      "Testing accuracy score is 51.643165464473405 \n",
      "\n",
      "At random state 62 the model performs very well\n",
      "At random state 62 :\n",
      "Training accuracy score is 52.02801478019505\n",
      "Testing accuracy score is 51.7801586248146 \n",
      "\n",
      "At random state 65 the model performs very well\n",
      "At random state 65 :\n",
      "Training accuracy score is 52.05549159916312\n",
      "Testing accuracy score is 51.693266531657734 \n",
      "\n",
      "At random state 72 the model performs very well\n",
      "At random state 72 :\n",
      "Training accuracy score is 52.05161716345428\n",
      "Testing accuracy score is 51.65656429337031 \n",
      "\n",
      "At random state 87 the model performs very well\n",
      "At random state 87 :\n",
      "Training accuracy score is 52.007262004536756\n",
      "Testing accuracy score is 51.801640930708245 \n",
      "\n",
      "At random state 90 the model performs very well\n",
      "At random state 90 :\n",
      "Training accuracy score is 51.86077607401198\n",
      "Testing accuracy score is 52.12514670286772 \n",
      "\n",
      "At random state 96 the model performs very well\n",
      "At random state 96 :\n",
      "Training accuracy score is 51.95640978907953\n",
      "Testing accuracy score is 51.871543857922696 \n",
      "\n",
      "At random state 97 the model performs very well\n",
      "At random state 97 :\n",
      "Training accuracy score is 51.90347412747598\n",
      "Testing accuracy score is 52.02489040909648 \n",
      "\n",
      "At random state 99 the model performs very well\n",
      "At random state 99 :\n",
      "Training accuracy score is 51.75056279956826\n",
      "Testing accuracy score is 52.238573584111435 \n",
      "\n"
     ]
    }
   ],
   "source": [
    "for i in range(0,100):\n",
    "    x_train,x_test,y_train,y_test=train_test_split(x,y,random_state=i,test_size=.30)\n",
    "    lr.fit(x_train,y_train)\n",
    "    predtrain=lr.predict(x_train)\n",
    "    predlr=lr.predict(x_test)\n",
    "    if round(r2_score(y_test,predlr)*100)==round(r2_score(y_train,predtrain)*100):\n",
    "        print('At random state',i,'the model performs very well')\n",
    "        print('At random state',i,':')\n",
    "        print('Training accuracy score is',r2_score(y_train,predtrain)*100)\n",
    "        print('Testing accuracy score is',r2_score(y_test,predlr)*100,'\\n')"
   ]
  },
  {
   "cell_type": "markdown",
   "id": "b219b747",
   "metadata": {},
   "source": [
    "- linear regression is giving us less accuracy scores"
   ]
  },
  {
   "cell_type": "code",
   "execution_count": 64,
   "id": "90164785",
   "metadata": {},
   "outputs": [],
   "source": [
    "mselr=mean_squared_error(y_test,predlr)\n",
    "maelr=mean_absolute_error(y_test,predlr)"
   ]
  },
  {
   "cell_type": "code",
   "execution_count": 65,
   "id": "4617d420",
   "metadata": {},
   "outputs": [
    {
     "name": "stdout",
     "output_type": "stream",
     "text": [
      "Mean squared error: 1249333.490500449\n",
      "Mean absolute error: 849.6660988338361\n"
     ]
    }
   ],
   "source": [
    "print('Mean squared error:',mselr)\n",
    "print('Mean absolute error:',maelr)"
   ]
  },
  {
   "cell_type": "code",
   "execution_count": 66,
   "id": "0a5dc7f2",
   "metadata": {},
   "outputs": [],
   "source": [
    "from sklearn.neighbors import KNeighborsRegressor\n",
    "from sklearn.tree import DecisionTreeRegressor"
   ]
  },
  {
   "cell_type": "code",
   "execution_count": 67,
   "id": "46162af9",
   "metadata": {},
   "outputs": [
    {
     "name": "stdout",
     "output_type": "stream",
     "text": [
      "At random state 8 the model performs very well\n",
      "At random state 8 :\n",
      "Training accuracy score is 66.40544105997581\n",
      "Testing accuracy score is 55.51913066814864 \n",
      "\n"
     ]
    }
   ],
   "source": [
    "#now checking for best random state for KNeighbors with best accuracy\n",
    "\n",
    "for i in range(0,100):\n",
    "    x_train,x_test,y_train,y_test=train_test_split(x,y,random_state=i,test_size=.30)\n",
    "    knn=KNeighborsRegressor()\n",
    "    knn.fit(x_train,y_train)\n",
    "    predtrain=knn.predict(x_train)\n",
    "    predknn=knn.predict(x_test)\n",
    "    if r2_score(y_test,predknn)*100>55:\n",
    "        print('At random state',i,'the model performs very well')\n",
    "        print('At random state',i,':')\n",
    "        print('Training accuracy score is',r2_score(y_train,predtrain)*100)\n",
    "        print('Testing accuracy score is',r2_score(y_test,predknn)*100,'\\n')"
   ]
  },
  {
   "cell_type": "code",
   "execution_count": 68,
   "id": "f3be3b6c",
   "metadata": {},
   "outputs": [],
   "source": [
    "mseknn=mean_squared_error(y_test,predknn)\n",
    "maeknn=mean_absolute_error(y_test,predknn)"
   ]
  },
  {
   "cell_type": "code",
   "execution_count": 69,
   "id": "5f03fe1a",
   "metadata": {},
   "outputs": [
    {
     "name": "stdout",
     "output_type": "stream",
     "text": [
      "Mean squared error: 1242443.910076594\n",
      "Mean absolute error: 800.3226531225297\n"
     ]
    }
   ],
   "source": [
    "print('Mean squared error:',mseknn)\n",
    "print('Mean absolute error:',maeknn)"
   ]
  },
  {
   "cell_type": "markdown",
   "id": "ce50dbcb",
   "metadata": {},
   "source": [
    "# Regularization:"
   ]
  },
  {
   "cell_type": "code",
   "execution_count": 70,
   "id": "c1d379d6",
   "metadata": {},
   "outputs": [],
   "source": [
    "from sklearn.linear_model import Lasso,Ridge"
   ]
  },
  {
   "cell_type": "code",
   "execution_count": 71,
   "id": "825d2c34",
   "metadata": {},
   "outputs": [
    {
     "name": "stdout",
     "output_type": "stream",
     "text": [
      "At random state 7 the model performs very well\n",
      "At random state 7 :\n",
      "Training accuracy score is 51.67993466688142\n",
      "Testing accuracy score is 52.48409509166314 \n",
      "\n",
      "At random state 9 the model performs very well\n",
      "At random state 9 :\n",
      "Training accuracy score is 52.095965574991965\n",
      "Testing accuracy score is 51.56319478679501 \n",
      "\n",
      "At random state 10 the model performs very well\n",
      "At random state 10 :\n",
      "Training accuracy score is 51.909048065965436\n",
      "Testing accuracy score is 52.05547696385231 \n",
      "\n",
      "At random state 12 the model performs very well\n",
      "At random state 12 :\n",
      "Training accuracy score is 52.137852991367836\n",
      "Testing accuracy score is 51.538791747291945 \n",
      "\n",
      "At random state 18 the model performs very well\n",
      "At random state 18 :\n",
      "Training accuracy score is 51.93858013732422\n",
      "Testing accuracy score is 51.98928965745164 \n",
      "\n",
      "At random state 20 the model performs very well\n",
      "At random state 20 :\n",
      "Training accuracy score is 52.144012377916525\n",
      "Testing accuracy score is 51.523439804407076 \n",
      "\n",
      "At random state 23 the model performs very well\n",
      "At random state 23 :\n",
      "Training accuracy score is 51.72568217121465\n",
      "Testing accuracy score is 52.455314281611834 \n",
      "\n",
      "At random state 26 the model performs very well\n",
      "At random state 26 :\n",
      "Training accuracy score is 51.76761371606566\n",
      "Testing accuracy score is 52.25237406874638 \n",
      "\n",
      "At random state 31 the model performs very well\n",
      "At random state 31 :\n",
      "Training accuracy score is 51.80804043389811\n",
      "Testing accuracy score is 52.274925797212504 \n",
      "\n",
      "At random state 33 the model performs very well\n",
      "At random state 33 :\n",
      "Training accuracy score is 51.91638948863293\n",
      "Testing accuracy score is 51.9348478243584 \n",
      "\n",
      "At random state 34 the model performs very well\n",
      "At random state 34 :\n",
      "Training accuracy score is 52.05256116725023\n",
      "Testing accuracy score is 51.555073311684104 \n",
      "\n",
      "At random state 35 the model performs very well\n",
      "At random state 35 :\n",
      "Training accuracy score is 52.010775970933686\n",
      "Testing accuracy score is 51.779100327682535 \n",
      "\n",
      "At random state 39 the model performs very well\n",
      "At random state 39 :\n",
      "Training accuracy score is 52.007486995953975\n",
      "Testing accuracy score is 51.81723501139869 \n",
      "\n",
      "At random state 43 the model performs very well\n",
      "At random state 43 :\n",
      "Training accuracy score is 52.061831810390544\n",
      "Testing accuracy score is 51.7149124203067 \n",
      "\n",
      "At random state 45 the model performs very well\n",
      "At random state 45 :\n",
      "Training accuracy score is 52.04440975378088\n",
      "Testing accuracy score is 51.725374345817656 \n",
      "\n",
      "At random state 46 the model performs very well\n",
      "At random state 46 :\n",
      "Training accuracy score is 51.79500241810224\n",
      "Testing accuracy score is 52.32113576534702 \n",
      "\n",
      "At random state 47 the model performs very well\n",
      "At random state 47 :\n",
      "Training accuracy score is 51.761050172157816\n",
      "Testing accuracy score is 52.41898457036485 \n",
      "\n",
      "At random state 50 the model performs very well\n",
      "At random state 50 :\n",
      "Training accuracy score is 51.917529558102885\n",
      "Testing accuracy score is 51.9628593747862 \n",
      "\n",
      "At random state 51 the model performs very well\n",
      "At random state 51 :\n",
      "Training accuracy score is 52.002439129610934\n",
      "Testing accuracy score is 51.794969762899676 \n",
      "\n",
      "At random state 52 the model performs very well\n",
      "At random state 52 :\n",
      "Training accuracy score is 51.80844214399829\n",
      "Testing accuracy score is 52.24269220723281 \n",
      "\n",
      "At random state 53 the model performs very well\n",
      "At random state 53 :\n",
      "Training accuracy score is 52.12654578052421\n",
      "Testing accuracy score is 51.563353968765966 \n",
      "\n",
      "At random state 56 the model performs very well\n",
      "At random state 56 :\n",
      "Training accuracy score is 51.985673903934845\n",
      "Testing accuracy score is 51.714351050655026 \n",
      "\n",
      "At random state 58 the model performs very well\n",
      "At random state 58 :\n",
      "Training accuracy score is 51.89121925550452\n",
      "Testing accuracy score is 52.02409532441343 \n",
      "\n",
      "At random state 59 the model performs very well\n",
      "At random state 59 :\n",
      "Training accuracy score is 52.08940446113679\n",
      "Testing accuracy score is 51.649641401442025 \n",
      "\n",
      "At random state 62 the model performs very well\n",
      "At random state 62 :\n",
      "Training accuracy score is 52.0276127045487\n",
      "Testing accuracy score is 51.78702480744886 \n",
      "\n",
      "At random state 65 the model performs very well\n",
      "At random state 65 :\n",
      "Training accuracy score is 52.05509873677923\n",
      "Testing accuracy score is 51.68886825378518 \n",
      "\n",
      "At random state 72 the model performs very well\n",
      "At random state 72 :\n",
      "Training accuracy score is 52.051181484312806\n",
      "Testing accuracy score is 51.653232327566116 \n",
      "\n",
      "At random state 87 the model performs very well\n",
      "At random state 87 :\n",
      "Training accuracy score is 52.00687765939374\n",
      "Testing accuracy score is 51.80389321417025 \n",
      "\n",
      "At random state 90 the model performs very well\n",
      "At random state 90 :\n",
      "Training accuracy score is 51.86033808656929\n",
      "Testing accuracy score is 52.12471799018712 \n",
      "\n",
      "At random state 96 the model performs very well\n",
      "At random state 96 :\n",
      "Training accuracy score is 51.95598164297266\n",
      "Testing accuracy score is 51.87682569060189 \n",
      "\n",
      "At random state 97 the model performs very well\n",
      "At random state 97 :\n",
      "Training accuracy score is 51.903068932079634\n",
      "Testing accuracy score is 52.029593626571526 \n",
      "\n",
      "At random state 99 the model performs very well\n",
      "At random state 99 :\n",
      "Training accuracy score is 51.750171508416074\n",
      "Testing accuracy score is 52.227895251002735 \n",
      "\n"
     ]
    }
   ],
   "source": [
    "for i in range(0,100):\n",
    "    x_train,x_test,y_train,y_test=train_test_split(x,y,random_state=i,test_size=.30)\n",
    "    ls=Lasso()\n",
    "    ls.fit(x_train,y_train)\n",
    "    predtrain=ls.predict(x_train)\n",
    "    predls=ls.predict(x_test)\n",
    "    if round(r2_score(y_test,predls)*100)==round(r2_score(y_train,predtrain)*100):\n",
    "        print('At random state',i,'the model performs very well')\n",
    "        print('At random state',i,':')\n",
    "        print('Training accuracy score is',r2_score(y_train,predtrain)*100)\n",
    "        print('Testing accuracy score is',r2_score(y_test,predls)*100,'\\n')"
   ]
  },
  {
   "cell_type": "code",
   "execution_count": 72,
   "id": "a714a1c6",
   "metadata": {},
   "outputs": [
    {
     "name": "stdout",
     "output_type": "stream",
     "text": [
      "Mean squared error: 1249612.8121241222\n",
      "Mean absolute error: 849.7663533872682\n"
     ]
    }
   ],
   "source": [
    "msels=mean_squared_error(y_test,predls)\n",
    "maels=mean_absolute_error(y_test,predls)\n",
    "\n",
    "print('Mean squared error:',msels)\n",
    "print('Mean absolute error:',maels)"
   ]
  },
  {
   "cell_type": "code",
   "execution_count": 73,
   "id": "19a3d8f9",
   "metadata": {},
   "outputs": [
    {
     "name": "stdout",
     "output_type": "stream",
     "text": [
      "At random state 7 the model performs very well\n",
      "At random state 7 :\n",
      "Training accuracy score is 51.680366845575065\n",
      "Testing accuracy score is 52.48228669121334 \n",
      "\n",
      "At random state 9 the model performs very well\n",
      "At random state 9 :\n",
      "Training accuracy score is 52.09636774490443\n",
      "Testing accuracy score is 51.567382413465246 \n",
      "\n",
      "At random state 10 the model performs very well\n",
      "At random state 10 :\n",
      "Training accuracy score is 51.909473169345674\n",
      "Testing accuracy score is 52.060944803180696 \n",
      "\n",
      "At random state 12 the model performs very well\n",
      "At random state 12 :\n",
      "Training accuracy score is 52.138276881191125\n",
      "Testing accuracy score is 51.532582622025494 \n",
      "\n",
      "At random state 18 the model performs very well\n",
      "At random state 18 :\n",
      "Training accuracy score is 51.93901228964013\n",
      "Testing accuracy score is 51.98547841523749 \n",
      "\n",
      "At random state 20 the model performs very well\n",
      "At random state 20 :\n",
      "Training accuracy score is 52.144406990461704\n",
      "Testing accuracy score is 51.517797566166145 \n",
      "\n",
      "At random state 23 the model performs very well\n",
      "At random state 23 :\n",
      "Training accuracy score is 51.72610943724567\n",
      "Testing accuracy score is 52.45687553819175 \n",
      "\n",
      "At random state 26 the model performs very well\n",
      "At random state 26 :\n",
      "Training accuracy score is 51.76805174299999\n",
      "Testing accuracy score is 52.25425088208572 \n",
      "\n",
      "At random state 31 the model performs very well\n",
      "At random state 31 :\n",
      "Training accuracy score is 51.80844407357226\n",
      "Testing accuracy score is 52.26545025246847 \n",
      "\n",
      "At random state 33 the model performs very well\n",
      "At random state 33 :\n",
      "Training accuracy score is 51.91676386967325\n",
      "Testing accuracy score is 51.93426211804972 \n",
      "\n",
      "At random state 34 the model performs very well\n",
      "At random state 34 :\n",
      "Training accuracy score is 52.052949135439086\n",
      "Testing accuracy score is 51.54766867587516 \n",
      "\n",
      "At random state 35 the model performs very well\n",
      "At random state 35 :\n",
      "Training accuracy score is 52.01115739781821\n",
      "Testing accuracy score is 51.77694058246689 \n",
      "\n",
      "At random state 39 the model performs very well\n",
      "At random state 39 :\n",
      "Training accuracy score is 52.007865475037576\n",
      "Testing accuracy score is 51.82441463002099 \n",
      "\n",
      "At random state 43 the model performs very well\n",
      "At random state 43 :\n",
      "Training accuracy score is 52.0622550311242\n",
      "Testing accuracy score is 51.713811688428876 \n",
      "\n",
      "At random state 45 the model performs very well\n",
      "At random state 45 :\n",
      "Training accuracy score is 52.04483557512464\n",
      "Testing accuracy score is 51.71345994545873 \n",
      "\n",
      "At random state 46 the model performs very well\n",
      "At random state 46 :\n",
      "Training accuracy score is 51.79540075347416\n",
      "Testing accuracy score is 52.30999419645843 \n",
      "\n",
      "At random state 47 the model performs very well\n",
      "At random state 47 :\n",
      "Training accuracy score is 51.761463730800486\n",
      "Testing accuracy score is 52.41388662083865 \n",
      "\n",
      "At random state 50 the model performs very well\n",
      "At random state 50 :\n",
      "Training accuracy score is 51.9179530912721\n",
      "Testing accuracy score is 51.968332112661564 \n",
      "\n",
      "At random state 51 the model performs very well\n",
      "At random state 51 :\n",
      "Training accuracy score is 52.00279456814607\n",
      "Testing accuracy score is 51.80287172078493 \n",
      "\n",
      "At random state 52 the model performs very well\n",
      "At random state 52 :\n",
      "Training accuracy score is 51.80880153954504\n",
      "Testing accuracy score is 52.237617675563676 \n",
      "\n",
      "At random state 53 the model performs very well\n",
      "At random state 53 :\n",
      "Training accuracy score is 52.1269142595709\n",
      "Testing accuracy score is 51.55644156382153 \n",
      "\n",
      "At random state 56 the model performs very well\n",
      "At random state 56 :\n",
      "Training accuracy score is 51.986104262101804\n",
      "Testing accuracy score is 51.709553978899535 \n",
      "\n",
      "At random state 58 the model performs very well\n",
      "At random state 58 :\n",
      "Training accuracy score is 51.891634147833\n",
      "Testing accuracy score is 52.017543663790924 \n",
      "\n",
      "At random state 59 the model performs very well\n",
      "At random state 59 :\n",
      "Training accuracy score is 52.08983068411719\n",
      "Testing accuracy score is 51.64356390829036 \n",
      "\n",
      "At random state 62 the model performs very well\n",
      "At random state 62 :\n",
      "Training accuracy score is 52.02801147786482\n",
      "Testing accuracy score is 51.78032883911712 \n",
      "\n",
      "At random state 65 the model performs very well\n",
      "At random state 65 :\n",
      "Training accuracy score is 52.05548876900967\n",
      "Testing accuracy score is 51.69274898993559 \n",
      "\n",
      "At random state 72 the model performs very well\n",
      "At random state 72 :\n",
      "Training accuracy score is 52.05161400184506\n",
      "Testing accuracy score is 51.65610692998739 \n",
      "\n",
      "At random state 87 the model performs very well\n",
      "At random state 87 :\n",
      "Training accuracy score is 52.007258958743186\n",
      "Testing accuracy score is 51.80120649481748 \n",
      "\n",
      "At random state 90 the model performs very well\n",
      "At random state 90 :\n",
      "Training accuracy score is 51.86077268733536\n",
      "Testing accuracy score is 52.12517430924066 \n",
      "\n",
      "At random state 96 the model performs very well\n",
      "At random state 96 :\n",
      "Training accuracy score is 51.956406450662996\n",
      "Testing accuracy score is 51.87198278373153 \n",
      "\n",
      "At random state 97 the model performs very well\n",
      "At random state 97 :\n",
      "Training accuracy score is 51.90347068345154\n",
      "Testing accuracy score is 52.025120652738096 \n",
      "\n",
      "At random state 99 the model performs very well\n",
      "At random state 99 :\n",
      "Training accuracy score is 51.75055980669334\n",
      "Testing accuracy score is 52.237510892999936 \n",
      "\n"
     ]
    }
   ],
   "source": [
    "for i in range(0,100):\n",
    "    x_train,x_test,y_train,y_test=train_test_split(x,y,random_state=i,test_size=.30)\n",
    "    ridge=Ridge()\n",
    "    ridge.fit(x_train,y_train)\n",
    "    predtrain=ridge.predict(x_train)\n",
    "    predri=ridge.predict(x_test)\n",
    "    if round(r2_score(y_test,predri)*100)==round(r2_score(y_train,predtrain)*100):\n",
    "        print('At random state',i,'the model performs very well')\n",
    "        print('At random state',i,':')\n",
    "        print('Training accuracy score is',r2_score(y_train,predtrain)*100)\n",
    "        print('Testing accuracy score is',r2_score(y_test,predri)*100,'\\n')"
   ]
  },
  {
   "cell_type": "code",
   "execution_count": 74,
   "id": "d60c95c8",
   "metadata": {},
   "outputs": [
    {
     "name": "stdout",
     "output_type": "stream",
     "text": [
      "Mean squared error: 1249361.2881542314\n",
      "Mean absolute error: 849.673453432236\n"
     ]
    }
   ],
   "source": [
    "mseri=mean_squared_error(y_test,predri)\n",
    "maeri=mean_absolute_error(y_test,predri)\n",
    "\n",
    "print('Mean squared error:',mseri)\n",
    "print('Mean absolute error:',maeri)"
   ]
  },
  {
   "cell_type": "code",
   "execution_count": 75,
   "id": "e71518d2",
   "metadata": {},
   "outputs": [],
   "source": [
    "from sklearn.tree import DecisionTreeRegressor"
   ]
  },
  {
   "cell_type": "code",
   "execution_count": 76,
   "id": "6df3a27a",
   "metadata": {},
   "outputs": [
    {
     "name": "stdout",
     "output_type": "stream",
     "text": [
      "At random state 0 the model performs very well\n",
      "At random state 0 :\n",
      "Training accuracy score is 99.95643149712082\n",
      "Testing accuracy score is 19.887142568176554 \n",
      "\n",
      "At random state 1 the model performs very well\n",
      "At random state 1 :\n",
      "Training accuracy score is 99.98866209700378\n",
      "Testing accuracy score is 15.910603108866495 \n",
      "\n",
      "At random state 2 the model performs very well\n",
      "At random state 2 :\n",
      "Training accuracy score is 99.97569039437364\n",
      "Testing accuracy score is 12.80841267337307 \n",
      "\n",
      "At random state 3 the model performs very well\n",
      "At random state 3 :\n",
      "Training accuracy score is 99.97646946880678\n",
      "Testing accuracy score is 18.29648386384569 \n",
      "\n",
      "At random state 4 the model performs very well\n",
      "At random state 4 :\n",
      "Training accuracy score is 99.96339739003106\n",
      "Testing accuracy score is 13.487958857794757 \n",
      "\n",
      "At random state 5 the model performs very well\n",
      "At random state 5 :\n",
      "Training accuracy score is 99.96444051589684\n",
      "Testing accuracy score is 11.385680684414613 \n",
      "\n",
      "At random state 6 the model performs very well\n",
      "At random state 6 :\n",
      "Training accuracy score is 99.94750538719623\n",
      "Testing accuracy score is 16.77733646668281 \n",
      "\n",
      "At random state 7 the model performs very well\n",
      "At random state 7 :\n",
      "Training accuracy score is 99.95536802580727\n",
      "Testing accuracy score is 20.15976799169922 \n",
      "\n",
      "At random state 8 the model performs very well\n",
      "At random state 8 :\n",
      "Training accuracy score is 99.98007782447206\n",
      "Testing accuracy score is 16.916291903050297 \n",
      "\n",
      "At random state 9 the model performs very well\n",
      "At random state 9 :\n",
      "Training accuracy score is 99.946567741599\n",
      "Testing accuracy score is 14.649833350120412 \n",
      "\n",
      "At random state 10 the model performs very well\n",
      "At random state 10 :\n",
      "Training accuracy score is 99.98069123291728\n",
      "Testing accuracy score is 13.502255981506417 \n",
      "\n",
      "At random state 11 the model performs very well\n",
      "At random state 11 :\n",
      "Training accuracy score is 99.9781761249094\n",
      "Testing accuracy score is 13.996920059363449 \n",
      "\n",
      "At random state 12 the model performs very well\n",
      "At random state 12 :\n",
      "Training accuracy score is 99.95206986139463\n",
      "Testing accuracy score is 13.16752788285963 \n",
      "\n",
      "At random state 13 the model performs very well\n",
      "At random state 13 :\n",
      "Training accuracy score is 99.95363543767694\n",
      "Testing accuracy score is 20.966366672206107 \n",
      "\n",
      "At random state 14 the model performs very well\n",
      "At random state 14 :\n",
      "Training accuracy score is 99.97779790663198\n",
      "Testing accuracy score is 11.951763806029946 \n",
      "\n",
      "At random state 15 the model performs very well\n",
      "At random state 15 :\n",
      "Training accuracy score is 99.98292772010055\n",
      "Testing accuracy score is 12.634233886914847 \n",
      "\n",
      "At random state 16 the model performs very well\n",
      "At random state 16 :\n",
      "Training accuracy score is 99.95320950589395\n",
      "Testing accuracy score is 12.35790105439023 \n",
      "\n",
      "At random state 17 the model performs very well\n",
      "At random state 17 :\n",
      "Training accuracy score is 99.93774366437879\n",
      "Testing accuracy score is 13.296534754063527 \n",
      "\n",
      "At random state 18 the model performs very well\n",
      "At random state 18 :\n",
      "Training accuracy score is 99.96377000492087\n",
      "Testing accuracy score is 21.221196709429634 \n",
      "\n",
      "At random state 19 the model performs very well\n",
      "At random state 19 :\n",
      "Training accuracy score is 99.97223482852225\n",
      "Testing accuracy score is 17.152482874741516 \n",
      "\n",
      "At random state 20 the model performs very well\n",
      "At random state 20 :\n",
      "Training accuracy score is 99.98360339952148\n",
      "Testing accuracy score is 14.070571784368846 \n",
      "\n",
      "At random state 21 the model performs very well\n",
      "At random state 21 :\n",
      "Training accuracy score is 99.99984391037485\n",
      "Testing accuracy score is 9.517886089193206 \n",
      "\n",
      "At random state 22 the model performs very well\n",
      "At random state 22 :\n",
      "Training accuracy score is 99.98746727182271\n",
      "Testing accuracy score is 10.298361932390899 \n",
      "\n",
      "At random state 23 the model performs very well\n",
      "At random state 23 :\n",
      "Training accuracy score is 99.97920931694145\n",
      "Testing accuracy score is 17.277414629989174 \n",
      "\n",
      "At random state 24 the model performs very well\n",
      "At random state 24 :\n",
      "Training accuracy score is 99.94649111479131\n",
      "Testing accuracy score is 13.713809192395965 \n",
      "\n",
      "At random state 25 the model performs very well\n",
      "At random state 25 :\n",
      "Training accuracy score is 99.96703826705406\n",
      "Testing accuracy score is 19.637054576503644 \n",
      "\n",
      "At random state 26 the model performs very well\n",
      "At random state 26 :\n",
      "Training accuracy score is 99.94110865617888\n",
      "Testing accuracy score is 21.665917458665373 \n",
      "\n",
      "At random state 27 the model performs very well\n",
      "At random state 27 :\n",
      "Training accuracy score is 99.9454347072196\n",
      "Testing accuracy score is 16.400849972531905 \n",
      "\n",
      "At random state 28 the model performs very well\n",
      "At random state 28 :\n",
      "Training accuracy score is 99.9895487926544\n",
      "Testing accuracy score is 15.530381925653082 \n",
      "\n",
      "At random state 29 the model performs very well\n",
      "At random state 29 :\n",
      "Training accuracy score is 99.9592353725854\n",
      "Testing accuracy score is 13.86851934808293 \n",
      "\n",
      "At random state 30 the model performs very well\n",
      "At random state 30 :\n",
      "Training accuracy score is 99.94988091748722\n",
      "Testing accuracy score is 16.85475149500896 \n",
      "\n",
      "At random state 31 the model performs very well\n",
      "At random state 31 :\n",
      "Training accuracy score is 99.98455532868488\n",
      "Testing accuracy score is 15.277764922058024 \n",
      "\n",
      "At random state 32 the model performs very well\n",
      "At random state 32 :\n",
      "Training accuracy score is 99.97398972259184\n",
      "Testing accuracy score is 12.737422965849765 \n",
      "\n",
      "At random state 33 the model performs very well\n",
      "At random state 33 :\n",
      "Training accuracy score is 99.99007024277279\n",
      "Testing accuracy score is 18.361287638894154 \n",
      "\n",
      "At random state 34 the model performs very well\n",
      "At random state 34 :\n",
      "Training accuracy score is 99.9721528459427\n",
      "Testing accuracy score is 14.477987743665855 \n",
      "\n",
      "At random state 35 the model performs very well\n",
      "At random state 35 :\n",
      "Training accuracy score is 99.971344930866\n",
      "Testing accuracy score is 15.75260076004672 \n",
      "\n",
      "At random state 36 the model performs very well\n",
      "At random state 36 :\n",
      "Training accuracy score is 99.941403297881\n",
      "Testing accuracy score is 13.825368716743592 \n",
      "\n",
      "At random state 37 the model performs very well\n",
      "At random state 37 :\n",
      "Training accuracy score is 99.98431447144631\n",
      "Testing accuracy score is 9.957294936762084 \n",
      "\n",
      "At random state 38 the model performs very well\n",
      "At random state 38 :\n",
      "Training accuracy score is 99.96487893972332\n",
      "Testing accuracy score is 15.168748205624594 \n",
      "\n",
      "At random state 39 the model performs very well\n",
      "At random state 39 :\n",
      "Training accuracy score is 99.9540267053535\n",
      "Testing accuracy score is 17.624143482909705 \n",
      "\n",
      "At random state 40 the model performs very well\n",
      "At random state 40 :\n",
      "Training accuracy score is 99.96163162327274\n",
      "Testing accuracy score is 19.75671195276699 \n",
      "\n",
      "At random state 41 the model performs very well\n",
      "At random state 41 :\n",
      "Training accuracy score is 99.9519091605424\n",
      "Testing accuracy score is 13.494382003069006 \n",
      "\n",
      "At random state 42 the model performs very well\n",
      "At random state 42 :\n",
      "Training accuracy score is 99.9894991175269\n",
      "Testing accuracy score is 15.145504928466003 \n",
      "\n",
      "At random state 43 the model performs very well\n",
      "At random state 43 :\n",
      "Training accuracy score is 99.95669122316102\n",
      "Testing accuracy score is 17.34749133826996 \n",
      "\n",
      "At random state 44 the model performs very well\n",
      "At random state 44 :\n",
      "Training accuracy score is 99.96205434925237\n",
      "Testing accuracy score is 13.379589767607369 \n",
      "\n",
      "At random state 45 the model performs very well\n",
      "At random state 45 :\n",
      "Training accuracy score is 99.98695701731475\n",
      "Testing accuracy score is 15.061938981159418 \n",
      "\n",
      "At random state 46 the model performs very well\n",
      "At random state 46 :\n",
      "Training accuracy score is 99.98634404895502\n",
      "Testing accuracy score is 18.584485145097606 \n",
      "\n",
      "At random state 47 the model performs very well\n",
      "At random state 47 :\n",
      "Training accuracy score is 99.9515977043282\n",
      "Testing accuracy score is 14.502409032947462 \n",
      "\n",
      "At random state 48 the model performs very well\n",
      "At random state 48 :\n",
      "Training accuracy score is 99.96420155692036\n",
      "Testing accuracy score is 14.75550324531254 \n",
      "\n",
      "At random state 49 the model performs very well\n",
      "At random state 49 :\n",
      "Training accuracy score is 99.9638388197385\n",
      "Testing accuracy score is 22.212486951947106 \n",
      "\n",
      "At random state 50 the model performs very well\n",
      "At random state 50 :\n",
      "Training accuracy score is 99.9616023442721\n",
      "Testing accuracy score is 19.242044548049762 \n",
      "\n",
      "At random state 51 the model performs very well\n",
      "At random state 51 :\n",
      "Training accuracy score is 99.95175634382389\n",
      "Testing accuracy score is 16.14813243962009 \n",
      "\n"
     ]
    },
    {
     "name": "stdout",
     "output_type": "stream",
     "text": [
      "At random state 52 the model performs very well\n",
      "At random state 52 :\n",
      "Training accuracy score is 99.97034272240995\n",
      "Testing accuracy score is 14.398025419358351 \n",
      "\n",
      "At random state 53 the model performs very well\n",
      "At random state 53 :\n",
      "Training accuracy score is 99.98727424086393\n",
      "Testing accuracy score is 15.174818212483432 \n",
      "\n",
      "At random state 54 the model performs very well\n",
      "At random state 54 :\n",
      "Training accuracy score is 99.97365090601343\n",
      "Testing accuracy score is 21.46679821654426 \n",
      "\n",
      "At random state 55 the model performs very well\n",
      "At random state 55 :\n",
      "Training accuracy score is 99.94756209651878\n",
      "Testing accuracy score is 15.379528146223098 \n",
      "\n",
      "At random state 56 the model performs very well\n",
      "At random state 56 :\n",
      "Training accuracy score is 99.96637061605071\n",
      "Testing accuracy score is 19.723183209024164 \n",
      "\n",
      "At random state 57 the model performs very well\n",
      "At random state 57 :\n",
      "Training accuracy score is 99.98204818158587\n",
      "Testing accuracy score is 13.03361789785782 \n",
      "\n",
      "At random state 58 the model performs very well\n",
      "At random state 58 :\n",
      "Training accuracy score is 99.96975553620356\n",
      "Testing accuracy score is 15.929291937039059 \n",
      "\n",
      "At random state 59 the model performs very well\n",
      "At random state 59 :\n",
      "Training accuracy score is 99.95549712233301\n",
      "Testing accuracy score is 21.72001633165688 \n",
      "\n",
      "At random state 60 the model performs very well\n",
      "At random state 60 :\n",
      "Training accuracy score is 99.94574452604245\n",
      "Testing accuracy score is 12.784756507999361 \n",
      "\n",
      "At random state 61 the model performs very well\n",
      "At random state 61 :\n",
      "Training accuracy score is 99.98564489500755\n",
      "Testing accuracy score is 17.035961846410473 \n",
      "\n",
      "At random state 62 the model performs very well\n",
      "At random state 62 :\n",
      "Training accuracy score is 99.95856682980396\n",
      "Testing accuracy score is 19.094935625699115 \n",
      "\n",
      "At random state 63 the model performs very well\n",
      "At random state 63 :\n",
      "Training accuracy score is 99.95385650548808\n",
      "Testing accuracy score is 16.86568575075964 \n",
      "\n",
      "At random state 64 the model performs very well\n",
      "At random state 64 :\n",
      "Training accuracy score is 99.9593184157866\n",
      "Testing accuracy score is 8.147833556992111 \n",
      "\n",
      "At random state 65 the model performs very well\n",
      "At random state 65 :\n",
      "Training accuracy score is 99.94222102480025\n",
      "Testing accuracy score is 10.199554097978048 \n",
      "\n",
      "At random state 66 the model performs very well\n",
      "At random state 66 :\n",
      "Training accuracy score is 99.94785083598894\n",
      "Testing accuracy score is 17.393691025199054 \n",
      "\n",
      "At random state 67 the model performs very well\n",
      "At random state 67 :\n",
      "Training accuracy score is 99.95933205179347\n",
      "Testing accuracy score is 13.410015210034521 \n",
      "\n",
      "At random state 68 the model performs very well\n",
      "At random state 68 :\n",
      "Training accuracy score is 99.95149892827551\n",
      "Testing accuracy score is 17.495830425570567 \n",
      "\n",
      "At random state 69 the model performs very well\n",
      "At random state 69 :\n",
      "Training accuracy score is 99.94917646203034\n",
      "Testing accuracy score is 13.348455950562787 \n",
      "\n",
      "At random state 70 the model performs very well\n",
      "At random state 70 :\n",
      "Training accuracy score is 99.94344989707838\n",
      "Testing accuracy score is 18.13690294102459 \n",
      "\n",
      "At random state 71 the model performs very well\n",
      "At random state 71 :\n",
      "Training accuracy score is 99.95654336166334\n",
      "Testing accuracy score is 18.165773454110024 \n",
      "\n",
      "At random state 72 the model performs very well\n",
      "At random state 72 :\n",
      "Training accuracy score is 99.94893683899375\n",
      "Testing accuracy score is 16.85224491685534 \n",
      "\n",
      "At random state 73 the model performs very well\n",
      "At random state 73 :\n",
      "Training accuracy score is 99.96045396878127\n",
      "Testing accuracy score is 16.70037180538739 \n",
      "\n",
      "At random state 74 the model performs very well\n",
      "At random state 74 :\n",
      "Training accuracy score is 99.98951362502704\n",
      "Testing accuracy score is 16.02800885224549 \n",
      "\n",
      "At random state 75 the model performs very well\n",
      "At random state 75 :\n",
      "Training accuracy score is 99.96607001453695\n",
      "Testing accuracy score is 21.487624375923343 \n",
      "\n",
      "At random state 76 the model performs very well\n",
      "At random state 76 :\n",
      "Training accuracy score is 99.97021166104297\n",
      "Testing accuracy score is 11.796663581330414 \n",
      "\n",
      "At random state 77 the model performs very well\n",
      "At random state 77 :\n",
      "Training accuracy score is 99.98975891886408\n",
      "Testing accuracy score is 12.930147456314733 \n",
      "\n",
      "At random state 78 the model performs very well\n",
      "At random state 78 :\n",
      "Training accuracy score is 99.97873360017954\n",
      "Testing accuracy score is 17.524591660112797 \n",
      "\n",
      "At random state 79 the model performs very well\n",
      "At random state 79 :\n",
      "Training accuracy score is 99.96505038428019\n",
      "Testing accuracy score is 21.57003192708229 \n",
      "\n",
      "At random state 80 the model performs very well\n",
      "At random state 80 :\n",
      "Training accuracy score is 99.9696595246478\n",
      "Testing accuracy score is 18.08167134271367 \n",
      "\n",
      "At random state 81 the model performs very well\n",
      "At random state 81 :\n",
      "Training accuracy score is 99.96178822450855\n",
      "Testing accuracy score is 15.8377735376925 \n",
      "\n",
      "At random state 82 the model performs very well\n",
      "At random state 82 :\n",
      "Training accuracy score is 99.95093197091524\n",
      "Testing accuracy score is 16.10289631036299 \n",
      "\n",
      "At random state 83 the model performs very well\n",
      "At random state 83 :\n",
      "Training accuracy score is 99.97611750469679\n",
      "Testing accuracy score is 11.135747805571938 \n",
      "\n",
      "At random state 84 the model performs very well\n",
      "At random state 84 :\n",
      "Training accuracy score is 99.95911513301984\n",
      "Testing accuracy score is 16.58621215833569 \n",
      "\n",
      "At random state 85 the model performs very well\n",
      "At random state 85 :\n",
      "Training accuracy score is 99.98395931162992\n",
      "Testing accuracy score is 21.062319823942175 \n",
      "\n",
      "At random state 86 the model performs very well\n",
      "At random state 86 :\n",
      "Training accuracy score is 99.98031907188704\n",
      "Testing accuracy score is 13.32068122008786 \n",
      "\n",
      "At random state 87 the model performs very well\n",
      "At random state 87 :\n",
      "Training accuracy score is 99.97248037520261\n",
      "Testing accuracy score is 19.91031748555846 \n",
      "\n",
      "At random state 88 the model performs very well\n",
      "At random state 88 :\n",
      "Training accuracy score is 99.94327702854694\n",
      "Testing accuracy score is 13.575157702022278 \n",
      "\n",
      "At random state 89 the model performs very well\n",
      "At random state 89 :\n",
      "Training accuracy score is 99.94857699949974\n",
      "Testing accuracy score is 18.008538696722177 \n",
      "\n",
      "At random state 90 the model performs very well\n",
      "At random state 90 :\n",
      "Training accuracy score is 99.98351958402256\n",
      "Testing accuracy score is 22.303918136886203 \n",
      "\n",
      "At random state 91 the model performs very well\n",
      "At random state 91 :\n",
      "Training accuracy score is 99.98698870892675\n",
      "Testing accuracy score is 16.453971714186444 \n",
      "\n",
      "At random state 92 the model performs very well\n",
      "At random state 92 :\n",
      "Training accuracy score is 99.94537533299976\n",
      "Testing accuracy score is 14.705752211913104 \n",
      "\n",
      "At random state 93 the model performs very well\n",
      "At random state 93 :\n",
      "Training accuracy score is 99.9425581218214\n",
      "Testing accuracy score is 16.499088750319192 \n",
      "\n",
      "At random state 94 the model performs very well\n",
      "At random state 94 :\n",
      "Training accuracy score is 99.980675256849\n",
      "Testing accuracy score is 20.37184275296 \n",
      "\n",
      "At random state 95 the model performs very well\n",
      "At random state 95 :\n",
      "Training accuracy score is 99.97022595658996\n",
      "Testing accuracy score is 12.901534981941342 \n",
      "\n",
      "At random state 96 the model performs very well\n",
      "At random state 96 :\n",
      "Training accuracy score is 99.97808357505154\n",
      "Testing accuracy score is 16.745802812698418 \n",
      "\n",
      "At random state 97 the model performs very well\n",
      "At random state 97 :\n",
      "Training accuracy score is 99.98249314457092\n",
      "Testing accuracy score is 16.728945327970813 \n",
      "\n",
      "At random state 98 the model performs very well\n",
      "At random state 98 :\n",
      "Training accuracy score is 99.97261054111812\n",
      "Testing accuracy score is 21.558169361807312 \n",
      "\n",
      "At random state 99 the model performs very well\n",
      "At random state 99 :\n",
      "Training accuracy score is 99.95811285230933\n",
      "Testing accuracy score is 17.693056674306607 \n",
      "\n"
     ]
    }
   ],
   "source": [
    "for i in range(0,100):\n",
    "    x_train,x_test,y_train,y_test=train_test_split(x,y,random_state=i,test_size=.30)\n",
    "    dtc=DecisionTreeRegressor()\n",
    "    dtc.fit(x_train,y_train)\n",
    "    predtrain=dtc.predict(x_train)\n",
    "    preddtc=dtc.predict(x_test)\n",
    "    \n",
    "    print('At random state',i,'the model performs very well')\n",
    "    print('At random state',i,':')\n",
    "    print('Training accuracy score is',r2_score(y_train,predtrain)*100)\n",
    "    print('Testing accuracy score is',r2_score(y_test,preddtc)*100,'\\n')"
   ]
  },
  {
   "cell_type": "code",
   "execution_count": 77,
   "id": "50137778",
   "metadata": {},
   "outputs": [
    {
     "name": "stdout",
     "output_type": "stream",
     "text": [
      "Mean squared error: 2152967.9600043017\n",
      "Mean absolute error: 1046.9798422529645\n"
     ]
    }
   ],
   "source": [
    "msedtc=mean_squared_error(y_test,preddtc)\n",
    "maedtc=mean_absolute_error(y_test,preddtc)\n",
    "\n",
    "print('Mean squared error:',msedtc)\n",
    "print('Mean absolute error:',maedtc)"
   ]
  },
  {
   "cell_type": "markdown",
   "id": "a11c19aa",
   "metadata": {},
   "source": [
    "# Ensemble and Hyperparameter tuning:"
   ]
  },
  {
   "cell_type": "code",
   "execution_count": 57,
   "id": "2de3cddf",
   "metadata": {},
   "outputs": [],
   "source": [
    "from sklearn.model_selection import GridSearchCV\n",
    "from sklearn.ensemble import RandomForestRegressor\n",
    "from sklearn.ensemble import AdaBoostRegressor,GradientBoostingRegressor"
   ]
  },
  {
   "cell_type": "code",
   "execution_count": 103,
   "id": "083965e1",
   "metadata": {},
   "outputs": [
    {
     "name": "stdout",
     "output_type": "stream",
     "text": [
      "{'criterion': 'absolute_error', 'max_features': 'log2'}\n"
     ]
    }
   ],
   "source": [
    "parameters={'criterion':[\"squared_error\", \"absolute_error\", \"poisson\"],'max_features':['sqrt','log2','auto']}\n",
    "rf=RandomForestRegressor()\n",
    "clf=GridSearchCV(rf,parameters)\n",
    "x_train,x_test,y_train,y_test=train_test_split(x,y,random_state=8,test_size=.30)\n",
    "clf.fit(x_train,y_train)\n",
    "\n",
    "print(clf.best_params_)"
   ]
  },
  {
   "cell_type": "code",
   "execution_count": 79,
   "id": "59bf90cb",
   "metadata": {},
   "outputs": [
    {
     "name": "stdout",
     "output_type": "stream",
     "text": [
      "Accuracy score for Random Forest is: 56.432463163481586\n"
     ]
    }
   ],
   "source": [
    "rf=RandomForestRegressor(criterion='absolute_error',max_features='log2')\n",
    "x_train,x_test,y_train,y_test=train_test_split(x,y,random_state=8,test_size=.30)\n",
    "rf.fit(x_train,y_train)\n",
    "predrf=rf.predict(x_test)\n",
    "\n",
    "rfscore=r2_score(y_test,predrf)\n",
    "\n",
    "print('Accuracy score for Random Forest is:',rfscore*100)"
   ]
  },
  {
   "cell_type": "markdown",
   "id": "579ad7d7",
   "metadata": {},
   "source": [
    "- random forest is giving slightly better accuracy than KNeighbors"
   ]
  },
  {
   "cell_type": "code",
   "execution_count": 80,
   "id": "5a88d0dd",
   "metadata": {},
   "outputs": [
    {
     "name": "stdout",
     "output_type": "stream",
     "text": [
      "Mean squared error: 1094493.3880928187\n",
      "Mean absolute error: 751.6117277383398\n"
     ]
    }
   ],
   "source": [
    "mserf=mean_squared_error(y_test,predrf)\n",
    "maerf=mean_absolute_error(y_test,predrf)\n",
    "\n",
    "print('Mean squared error:',mserf)\n",
    "print('Mean absolute error:',maerf)"
   ]
  },
  {
   "cell_type": "code",
   "execution_count": 81,
   "id": "51befebc",
   "metadata": {},
   "outputs": [
    {
     "name": "stdout",
     "output_type": "stream",
     "text": [
      "At random state 8 the model performs very well\n",
      "At random state 8 :\n",
      "Training accuracy score is 56.62390722923679\n",
      "Testing accuracy score is 53.93136988177372 \n",
      "\n",
      "At random state 14 the model performs very well\n",
      "At random state 14 :\n",
      "Training accuracy score is 57.085783984717196\n",
      "Testing accuracy score is 53.025004121239746 \n",
      "\n",
      "At random state 40 the model performs very well\n",
      "At random state 40 :\n",
      "Training accuracy score is 54.99100402231496\n",
      "Testing accuracy score is 53.57132933799236 \n",
      "\n",
      "At random state 49 the model performs very well\n",
      "At random state 49 :\n",
      "Training accuracy score is 56.25167881670159\n",
      "Testing accuracy score is 53.79127021202024 \n",
      "\n",
      "At random state 71 the model performs very well\n",
      "At random state 71 :\n",
      "Training accuracy score is 56.50869619051927\n",
      "Testing accuracy score is 53.514237052142754 \n",
      "\n",
      "At random state 75 the model performs very well\n",
      "At random state 75 :\n",
      "Training accuracy score is 56.19051166007816\n",
      "Testing accuracy score is 53.72495196900746 \n",
      "\n",
      "At random state 78 the model performs very well\n",
      "At random state 78 :\n",
      "Training accuracy score is 56.933248459731026\n",
      "Testing accuracy score is 53.14734022026164 \n",
      "\n",
      "At random state 79 the model performs very well\n",
      "At random state 79 :\n",
      "Training accuracy score is 57.23953445408574\n",
      "Testing accuracy score is 53.3657044033741 \n",
      "\n",
      "At random state 85 the model performs very well\n",
      "At random state 85 :\n",
      "Training accuracy score is 55.9507926999255\n",
      "Testing accuracy score is 53.250865041905996 \n",
      "\n"
     ]
    }
   ],
   "source": [
    "for i in range(0,100):\n",
    "    x_train,x_test,y_train,y_test=train_test_split(x,y,random_state=i,test_size=.30)\n",
    "    ada=AdaBoostRegressor()\n",
    "    ada.fit(x_train,y_train)\n",
    "    predtrain=ada.predict(x_train)\n",
    "    predtada=lr.predict(x_test)\n",
    "    if r2_score(y_test,predtada)*100>53:\n",
    "        print('At random state',i,'the model performs very well')\n",
    "        print('At random state',i,':')\n",
    "        print('Training accuracy score is',r2_score(y_train,predtrain)*100)\n",
    "        print('Testing accuracy score is',r2_score(y_test,predtada)*100,'\\n')"
   ]
  },
  {
   "cell_type": "code",
   "execution_count": 82,
   "id": "f59fbe43",
   "metadata": {},
   "outputs": [
    {
     "name": "stdout",
     "output_type": "stream",
     "text": [
      "Mean squared error: 1249333.490500449\n",
      "Mean absolute error: 849.6660988338361\n"
     ]
    }
   ],
   "source": [
    "mseada=mean_squared_error(y_test,predtada)\n",
    "maeada=mean_absolute_error(y_test,predtada)\n",
    "\n",
    "print('Mean squared error:',mseada)\n",
    "print('Mean absolute error:',maeada)"
   ]
  },
  {
   "cell_type": "code",
   "execution_count": 83,
   "id": "c0fdaf93",
   "metadata": {},
   "outputs": [
    {
     "name": "stdout",
     "output_type": "stream",
     "text": [
      "At random state 0 the model performs very well\n",
      "At random state 0 :\n",
      "Training accuracy score is 62.19505337421051\n",
      "Testing accuracy score is 60.42892727083194 \n",
      "\n",
      "At random state 7 the model performs very well\n",
      "At random state 7 :\n",
      "Training accuracy score is 62.28541476857499\n",
      "Testing accuracy score is 60.27377417643759 \n",
      "\n",
      "At random state 8 the model performs very well\n",
      "At random state 8 :\n",
      "Training accuracy score is 61.91568951683883\n",
      "Testing accuracy score is 60.90124143959446 \n",
      "\n",
      "At random state 16 the model performs very well\n",
      "At random state 16 :\n",
      "Training accuracy score is 62.006438641553395\n",
      "Testing accuracy score is 60.031544986128935 \n",
      "\n",
      "At random state 25 the model performs very well\n",
      "At random state 25 :\n",
      "Training accuracy score is 62.34275911751781\n",
      "Testing accuracy score is 60.390237953959456 \n",
      "\n",
      "At random state 26 the model performs very well\n",
      "At random state 26 :\n",
      "Training accuracy score is 62.323078289547595\n",
      "Testing accuracy score is 60.24556831827933 \n",
      "\n",
      "At random state 32 the model performs very well\n",
      "At random state 32 :\n",
      "Training accuracy score is 62.433013441417295\n",
      "Testing accuracy score is 60.0789946383672 \n",
      "\n",
      "At random state 40 the model performs very well\n",
      "At random state 40 :\n",
      "Training accuracy score is 62.07404938954464\n",
      "Testing accuracy score is 60.551762946264176 \n",
      "\n",
      "At random state 49 the model performs very well\n",
      "At random state 49 :\n",
      "Training accuracy score is 61.99334743398366\n",
      "Testing accuracy score is 61.165129038801226 \n",
      "\n",
      "At random state 52 the model performs very well\n",
      "At random state 52 :\n",
      "Training accuracy score is 62.170898839380165\n",
      "Testing accuracy score is 60.15720868935619 \n",
      "\n",
      "At random state 73 the model performs very well\n",
      "At random state 73 :\n",
      "Training accuracy score is 62.45360067241006\n",
      "Testing accuracy score is 60.41387213652896 \n",
      "\n",
      "At random state 75 the model performs very well\n",
      "At random state 75 :\n",
      "Training accuracy score is 62.08386027008994\n",
      "Testing accuracy score is 60.52873654521803 \n",
      "\n",
      "At random state 79 the model performs very well\n",
      "At random state 79 :\n",
      "Training accuracy score is 62.43461073454954\n",
      "Testing accuracy score is 60.233758818935044 \n",
      "\n",
      "At random state 82 the model performs very well\n",
      "At random state 82 :\n",
      "Training accuracy score is 62.048280781872336\n",
      "Testing accuracy score is 60.37949958214066 \n",
      "\n",
      "At random state 85 the model performs very well\n",
      "At random state 85 :\n",
      "Training accuracy score is 62.19256629266572\n",
      "Testing accuracy score is 60.72663071195507 \n",
      "\n",
      "At random state 86 the model performs very well\n",
      "At random state 86 :\n",
      "Training accuracy score is 62.36288044924974\n",
      "Testing accuracy score is 60.726393731633685 \n",
      "\n",
      "At random state 94 the model performs very well\n",
      "At random state 94 :\n",
      "Training accuracy score is 62.24196760796309\n",
      "Testing accuracy score is 60.128198748398354 \n",
      "\n"
     ]
    }
   ],
   "source": [
    "for i in range(0,100):\n",
    "    x_train,x_test,y_train,y_test=train_test_split(x,y,random_state=i,test_size=.30)\n",
    "    gbr=GradientBoostingRegressor()\n",
    "    gbr.fit(x_train,y_train)\n",
    "    predtrain=gbr.predict(x_train)\n",
    "    predtgbr=gbr.predict(x_test)\n",
    "    if r2_score(y_test,predtgbr)*100>60:\n",
    "        print('At random state',i,'the model performs very well')\n",
    "        print('At random state',i,':')\n",
    "        print('Training accuracy score is',r2_score(y_train,predtrain)*100)\n",
    "        print('Testing accuracy score is',r2_score(y_test,predtgbr)*100,'\\n')"
   ]
  },
  {
   "cell_type": "markdown",
   "id": "b0f5fcb4",
   "metadata": {},
   "source": [
    "- so far, GradientBoostingRegressor is giving us the best results."
   ]
  },
  {
   "cell_type": "code",
   "execution_count": 84,
   "id": "9fe4a0a1",
   "metadata": {},
   "outputs": [
    {
     "name": "stdout",
     "output_type": "stream",
     "text": [
      "Mean squared error: 1057120.2054682437\n",
      "Mean absolute error: 741.7823314054085\n"
     ]
    }
   ],
   "source": [
    "msegbr=mean_squared_error(y_test,predtgbr)\n",
    "maegbr=mean_absolute_error(y_test,predtgbr)\n",
    "\n",
    "print('Mean squared error:',msegbr)\n",
    "print('Mean absolute error:',maegbr)"
   ]
  },
  {
   "cell_type": "code",
   "execution_count": 87,
   "id": "0bf228f9",
   "metadata": {},
   "outputs": [
    {
     "name": "stdout",
     "output_type": "stream",
     "text": [
      "{'criterion': 'friedman_mse', 'max_features': 'sqrt'}\n"
     ]
    }
   ],
   "source": [
    "#so as we can see GradientBoosting is giving us the best result so far so we will use hyperparameter tuning\n",
    "\n",
    "parameters={'criterion':[\"squared_error\", \"friedman_mse\", \"mse\",\"mae\"],'max_features':['sqrt','log2','auto']}\n",
    "gbr=GradientBoostingRegressor()\n",
    "clf=GridSearchCV(gbr,parameters)\n",
    "x_train,x_test,y_train,y_test=train_test_split(x,y,random_state=86,test_size=.30)\n",
    "clf.fit(x_train,y_train)\n",
    "\n",
    "print(clf.best_params_)"
   ]
  },
  {
   "cell_type": "code",
   "execution_count": 93,
   "id": "0497af62",
   "metadata": {},
   "outputs": [
    {
     "name": "stdout",
     "output_type": "stream",
     "text": [
      "At random state 0 the model performs very well\n",
      "At random state 0 :\n",
      "Training accuracy score is 61.204689169980895\n",
      "Testing accuracy score is 60.37914215527211 \n",
      "\n",
      "At random state 1 the model performs very well\n",
      "At random state 1 :\n",
      "Training accuracy score is 61.64637490795114\n",
      "Testing accuracy score is 59.13852881687496 \n",
      "\n",
      "At random state 2 the model performs very well\n",
      "At random state 2 :\n",
      "Training accuracy score is 61.929507973228716\n",
      "Testing accuracy score is 58.53495115385496 \n",
      "\n",
      "At random state 3 the model performs very well\n",
      "At random state 3 :\n",
      "Training accuracy score is 61.701337843451796\n",
      "Testing accuracy score is 59.13328624811184 \n",
      "\n",
      "At random state 4 the model performs very well\n",
      "At random state 4 :\n",
      "Training accuracy score is 61.639206262908395\n",
      "Testing accuracy score is 59.34465200512281 \n",
      "\n",
      "At random state 5 the model performs very well\n",
      "At random state 5 :\n",
      "Training accuracy score is 62.82527848734342\n",
      "Testing accuracy score is 56.257604893176925 \n",
      "\n",
      "At random state 6 the model performs very well\n",
      "At random state 6 :\n",
      "Training accuracy score is 61.73057981198822\n",
      "Testing accuracy score is 58.78414089990256 \n",
      "\n",
      "At random state 7 the model performs very well\n",
      "At random state 7 :\n",
      "Training accuracy score is 61.157883604440386\n",
      "Testing accuracy score is 59.775162258347045 \n",
      "\n",
      "At random state 8 the model performs very well\n",
      "At random state 8 :\n",
      "Training accuracy score is 60.714762503385145\n",
      "Testing accuracy score is 60.82905382264576 \n",
      "\n",
      "At random state 9 the model performs very well\n",
      "At random state 9 :\n",
      "Training accuracy score is 61.54230084486099\n",
      "Testing accuracy score is 59.34931628788247 \n",
      "\n",
      "At random state 10 the model performs very well\n",
      "At random state 10 :\n",
      "Training accuracy score is 61.90147799994675\n",
      "Testing accuracy score is 58.737166697898715 \n",
      "\n",
      "At random state 11 the model performs very well\n",
      "At random state 11 :\n",
      "Training accuracy score is 61.456815318446104\n",
      "Testing accuracy score is 59.42186591990926 \n",
      "\n",
      "At random state 12 the model performs very well\n",
      "At random state 12 :\n",
      "Training accuracy score is 61.672161764761356\n",
      "Testing accuracy score is 59.100080537967955 \n",
      "\n",
      "At random state 13 the model performs very well\n",
      "At random state 13 :\n",
      "Training accuracy score is 61.461555655326386\n",
      "Testing accuracy score is 59.37103726133679 \n",
      "\n",
      "At random state 14 the model performs very well\n",
      "At random state 14 :\n",
      "Training accuracy score is 61.31278710595893\n",
      "Testing accuracy score is 60.05800060185356 \n",
      "\n",
      "At random state 15 the model performs very well\n",
      "At random state 15 :\n",
      "Training accuracy score is 62.14520716858842\n",
      "Testing accuracy score is 58.1625994185901 \n",
      "\n",
      "At random state 16 the model performs very well\n",
      "At random state 16 :\n",
      "Training accuracy score is 61.36138422842674\n",
      "Testing accuracy score is 60.19535861609129 \n",
      "\n",
      "At random state 17 the model performs very well\n",
      "At random state 17 :\n",
      "Training accuracy score is 62.0645361250725\n",
      "Testing accuracy score is 57.74368839464585 \n",
      "\n",
      "At random state 18 the model performs very well\n",
      "At random state 18 :\n",
      "Training accuracy score is 61.72731358218317\n",
      "Testing accuracy score is 59.20936403208654 \n",
      "\n",
      "At random state 19 the model performs very well\n",
      "At random state 19 :\n",
      "Training accuracy score is 62.13661503310721\n",
      "Testing accuracy score is 58.09306906750652 \n",
      "\n",
      "At random state 20 the model performs very well\n",
      "At random state 20 :\n",
      "Training accuracy score is 61.81997430668953\n",
      "Testing accuracy score is 59.08406105449004 \n",
      "\n",
      "At random state 21 the model performs very well\n",
      "At random state 21 :\n",
      "Training accuracy score is 62.853929226858895\n",
      "Testing accuracy score is 56.03668908257789 \n",
      "\n",
      "At random state 22 the model performs very well\n",
      "At random state 22 :\n",
      "Training accuracy score is 62.59388149906723\n",
      "Testing accuracy score is 57.25492734364464 \n",
      "\n",
      "At random state 23 the model performs very well\n",
      "At random state 23 :\n",
      "Training accuracy score is 61.700963220582764\n",
      "Testing accuracy score is 59.20889453821625 \n",
      "\n",
      "At random state 24 the model performs very well\n",
      "At random state 24 :\n",
      "Training accuracy score is 61.72944063648802\n",
      "Testing accuracy score is 58.91500495978188 \n",
      "\n",
      "At random state 25 the model performs very well\n",
      "At random state 25 :\n",
      "Training accuracy score is 61.27211372401011\n",
      "Testing accuracy score is 60.36251583901864 \n",
      "\n",
      "At random state 26 the model performs very well\n",
      "At random state 26 :\n",
      "Training accuracy score is 60.95612383394493\n",
      "Testing accuracy score is 59.95804784037857 \n",
      "\n",
      "At random state 27 the model performs very well\n",
      "At random state 27 :\n",
      "Training accuracy score is 62.030068306609486\n",
      "Testing accuracy score is 58.71735038380055 \n",
      "\n",
      "At random state 28 the model performs very well\n",
      "At random state 28 :\n",
      "Training accuracy score is 61.89933273139584\n",
      "Testing accuracy score is 58.63011087316154 \n",
      "\n",
      "At random state 29 the model performs very well\n",
      "At random state 29 :\n",
      "Training accuracy score is 62.2680833335832\n",
      "Testing accuracy score is 57.26406193103482 \n",
      "\n",
      "At random state 30 the model performs very well\n",
      "At random state 30 :\n",
      "Training accuracy score is 61.93499240839918\n",
      "Testing accuracy score is 58.20329406660624 \n",
      "\n",
      "At random state 31 the model performs very well\n",
      "At random state 31 :\n",
      "Training accuracy score is 62.05613812807427\n",
      "Testing accuracy score is 58.451327933396314 \n",
      "\n",
      "At random state 32 the model performs very well\n",
      "At random state 32 :\n",
      "Training accuracy score is 61.302448951235824\n",
      "Testing accuracy score is 59.93035483804168 \n",
      "\n",
      "At random state 33 the model performs very well\n",
      "At random state 33 :\n",
      "Training accuracy score is 61.84700314238214\n",
      "Testing accuracy score is 58.383579249057775 \n",
      "\n",
      "At random state 34 the model performs very well\n",
      "At random state 34 :\n",
      "Training accuracy score is 61.61570990881782\n",
      "Testing accuracy score is 59.532801363587176 \n",
      "\n",
      "At random state 35 the model performs very well\n",
      "At random state 35 :\n",
      "Training accuracy score is 61.568040117044134\n",
      "Testing accuracy score is 59.36696539383498 \n",
      "\n",
      "At random state 36 the model performs very well\n",
      "At random state 36 :\n",
      "Training accuracy score is 61.54271510245892\n",
      "Testing accuracy score is 59.92682596029242 \n",
      "\n",
      "At random state 37 the model performs very well\n",
      "At random state 37 :\n",
      "Training accuracy score is 61.66563681074276\n",
      "Testing accuracy score is 59.80341294656449 \n",
      "\n",
      "At random state 38 the model performs very well\n",
      "At random state 38 :\n",
      "Training accuracy score is 61.62812054250435\n",
      "Testing accuracy score is 59.09227461861478 \n",
      "\n",
      "At random state 39 the model performs very well\n",
      "At random state 39 :\n",
      "Training accuracy score is 61.68276005010524\n",
      "Testing accuracy score is 59.207471185688874 \n",
      "\n",
      "At random state 40 the model performs very well\n",
      "At random state 40 :\n",
      "Training accuracy score is 61.04687784666032\n",
      "Testing accuracy score is 60.261975006995016 \n",
      "\n",
      "At random state 41 the model performs very well\n",
      "At random state 41 :\n",
      "Training accuracy score is 62.39598323175867\n",
      "Testing accuracy score is 57.611628643288405 \n",
      "\n",
      "At random state 42 the model performs very well\n",
      "At random state 42 :\n",
      "Training accuracy score is 62.16870845906184\n",
      "Testing accuracy score is 58.03153140279451 \n",
      "\n",
      "At random state 43 the model performs very well\n",
      "At random state 43 :\n",
      "Training accuracy score is 61.85192572016106\n",
      "Testing accuracy score is 59.171907151765524 \n",
      "\n",
      "At random state 44 the model performs very well\n",
      "At random state 44 :\n",
      "Training accuracy score is 61.21145016734522\n",
      "Testing accuracy score is 60.15838435451497 \n",
      "\n",
      "At random state 45 the model performs very well\n",
      "At random state 45 :\n",
      "Training accuracy score is 61.77591450985162\n",
      "Testing accuracy score is 59.10953440377712 \n",
      "\n",
      "At random state 46 the model performs very well\n",
      "At random state 46 :\n",
      "Training accuracy score is 61.419421137635034\n",
      "Testing accuracy score is 59.732785578503176 \n",
      "\n",
      "At random state 47 the model performs very well\n",
      "At random state 47 :\n",
      "Training accuracy score is 61.94892700083279\n",
      "Testing accuracy score is 58.594281793846356 \n",
      "\n",
      "At random state 48 the model performs very well\n",
      "At random state 48 :\n",
      "Training accuracy score is 62.36236121953765\n",
      "Testing accuracy score is 57.895951595821174 \n",
      "\n",
      "At random state 49 the model performs very well\n",
      "At random state 49 :\n",
      "Training accuracy score is 60.70908333362921\n",
      "Testing accuracy score is 60.83072456244809 \n",
      "\n",
      "At random state 50 the model performs very well\n",
      "At random state 50 :\n",
      "Training accuracy score is 61.796032226495015\n",
      "Testing accuracy score is 58.41527214042053 \n",
      "\n",
      "At random state 51 the model performs very well\n",
      "At random state 51 :\n",
      "Training accuracy score is 61.69873602976315\n",
      "Testing accuracy score is 59.071034664799626 \n",
      "\n"
     ]
    },
    {
     "name": "stdout",
     "output_type": "stream",
     "text": [
      "At random state 52 the model performs very well\n",
      "At random state 52 :\n",
      "Training accuracy score is 61.24264785729084\n",
      "Testing accuracy score is 59.77393285213268 \n",
      "\n",
      "At random state 53 the model performs very well\n",
      "At random state 53 :\n",
      "Training accuracy score is 62.22166486361154\n",
      "Testing accuracy score is 58.12049095358237 \n",
      "\n",
      "At random state 54 the model performs very well\n",
      "At random state 54 :\n",
      "Training accuracy score is 61.591920535839925\n",
      "Testing accuracy score is 59.04707881035478 \n",
      "\n",
      "At random state 55 the model performs very well\n",
      "At random state 55 :\n",
      "Training accuracy score is 61.58284462189497\n",
      "Testing accuracy score is 59.539615804787225 \n",
      "\n",
      "At random state 56 the model performs very well\n",
      "At random state 56 :\n",
      "Training accuracy score is 61.564939601212146\n",
      "Testing accuracy score is 59.24714790911159 \n",
      "\n",
      "At random state 57 the model performs very well\n",
      "At random state 57 :\n",
      "Training accuracy score is 62.248845885790516\n",
      "Testing accuracy score is 57.61620791777874 \n",
      "\n",
      "At random state 58 the model performs very well\n",
      "At random state 58 :\n",
      "Training accuracy score is 61.57159316393752\n",
      "Testing accuracy score is 59.69353086380755 \n",
      "\n",
      "At random state 59 the model performs very well\n",
      "At random state 59 :\n",
      "Training accuracy score is 61.469611013640126\n",
      "Testing accuracy score is 59.765126190579196 \n",
      "\n",
      "At random state 60 the model performs very well\n",
      "At random state 60 :\n",
      "Training accuracy score is 62.215684038070826\n",
      "Testing accuracy score is 58.141171564706326 \n",
      "\n",
      "At random state 61 the model performs very well\n",
      "At random state 61 :\n",
      "Training accuracy score is 62.16463887884917\n",
      "Testing accuracy score is 57.8723491437962 \n",
      "\n",
      "At random state 62 the model performs very well\n",
      "At random state 62 :\n",
      "Training accuracy score is 61.507772271288694\n",
      "Testing accuracy score is 59.511825960646135 \n",
      "\n",
      "At random state 63 the model performs very well\n",
      "At random state 63 :\n",
      "Training accuracy score is 61.71448898298014\n",
      "Testing accuracy score is 59.34591887697527 \n",
      "\n",
      "At random state 64 the model performs very well\n",
      "At random state 64 :\n",
      "Training accuracy score is 62.51164416556239\n",
      "Testing accuracy score is 56.75912689286724 \n",
      "\n",
      "At random state 65 the model performs very well\n",
      "At random state 65 :\n",
      "Training accuracy score is 61.77329358069017\n",
      "Testing accuracy score is 59.11132853687597 \n",
      "\n",
      "At random state 66 the model performs very well\n",
      "At random state 66 :\n",
      "Training accuracy score is 61.83954378720742\n",
      "Testing accuracy score is 59.18968143617502 \n",
      "\n",
      "At random state 67 the model performs very well\n",
      "At random state 67 :\n",
      "Training accuracy score is 61.78529409179818\n",
      "Testing accuracy score is 58.08005333768607 \n",
      "\n",
      "At random state 68 the model performs very well\n",
      "At random state 68 :\n",
      "Training accuracy score is 61.76648606799784\n",
      "Testing accuracy score is 58.5141992426919 \n",
      "\n",
      "At random state 69 the model performs very well\n",
      "At random state 69 :\n",
      "Training accuracy score is 61.763489496363654\n",
      "Testing accuracy score is 58.76831290058655 \n",
      "\n",
      "At random state 70 the model performs very well\n",
      "At random state 70 :\n",
      "Training accuracy score is 62.03106771014595\n",
      "Testing accuracy score is 58.401861950993265 \n",
      "\n",
      "At random state 71 the model performs very well\n",
      "At random state 71 :\n",
      "Training accuracy score is 61.09298447237015\n",
      "Testing accuracy score is 60.117618323768404 \n",
      "\n",
      "At random state 72 the model performs very well\n",
      "At random state 72 :\n",
      "Training accuracy score is 61.21787615978433\n",
      "Testing accuracy score is 59.724907882675005 \n",
      "\n",
      "At random state 73 the model performs very well\n",
      "At random state 73 :\n",
      "Training accuracy score is 61.4812925001871\n",
      "Testing accuracy score is 60.2830048194025 \n",
      "\n",
      "At random state 74 the model performs very well\n",
      "At random state 74 :\n",
      "Training accuracy score is 62.59985481389299\n",
      "Testing accuracy score is 56.919595078436934 \n",
      "\n",
      "At random state 75 the model performs very well\n",
      "At random state 75 :\n",
      "Training accuracy score is 60.92541771213366\n",
      "Testing accuracy score is 60.42333775510986 \n",
      "\n",
      "At random state 76 the model performs very well\n",
      "At random state 76 :\n",
      "Training accuracy score is 61.90148587104578\n",
      "Testing accuracy score is 58.28432959989895 \n",
      "\n",
      "At random state 77 the model performs very well\n",
      "At random state 77 :\n",
      "Training accuracy score is 61.35741907086566\n",
      "Testing accuracy score is 59.79991703720934 \n",
      "\n",
      "At random state 78 the model performs very well\n",
      "At random state 78 :\n",
      "Training accuracy score is 61.5309994435119\n",
      "Testing accuracy score is 59.61544960597453 \n",
      "\n",
      "At random state 79 the model performs very well\n",
      "At random state 79 :\n",
      "Training accuracy score is 61.063484512075725\n",
      "Testing accuracy score is 60.311253683428646 \n",
      "\n",
      "At random state 80 the model performs very well\n",
      "At random state 80 :\n",
      "Training accuracy score is 62.48626741836753\n",
      "Testing accuracy score is 56.95795927652085 \n",
      "\n",
      "At random state 81 the model performs very well\n",
      "At random state 81 :\n",
      "Training accuracy score is 61.83517654910917\n",
      "Testing accuracy score is 59.240963341395435 \n",
      "\n",
      "At random state 82 the model performs very well\n",
      "At random state 82 :\n",
      "Training accuracy score is 61.05855024231679\n",
      "Testing accuracy score is 60.06778627801683 \n",
      "\n",
      "At random state 83 the model performs very well\n",
      "At random state 83 :\n",
      "Training accuracy score is 61.55889149338263\n",
      "Testing accuracy score is 59.25440328578717 \n",
      "\n",
      "At random state 84 the model performs very well\n",
      "At random state 84 :\n",
      "Training accuracy score is 62.05136499446348\n",
      "Testing accuracy score is 58.39397397008723 \n",
      "\n",
      "At random state 85 the model performs very well\n",
      "At random state 85 :\n",
      "Training accuracy score is 60.87754948772643\n",
      "Testing accuracy score is 60.52054441155319 \n",
      "\n",
      "At random state 86 the model performs very well\n",
      "At random state 86 :\n",
      "Training accuracy score is 60.940612845979615\n",
      "Testing accuracy score is 60.54896585728022 \n",
      "\n",
      "At random state 87 the model performs very well\n",
      "At random state 87 :\n",
      "Training accuracy score is 61.61658920000339\n",
      "Testing accuracy score is 59.22126302916973 \n",
      "\n",
      "At random state 88 the model performs very well\n",
      "At random state 88 :\n",
      "Training accuracy score is 62.20254315565625\n",
      "Testing accuracy score is 57.37092200429529 \n",
      "\n",
      "At random state 89 the model performs very well\n",
      "At random state 89 :\n",
      "Training accuracy score is 61.78592639254133\n",
      "Testing accuracy score is 59.30214237456419 \n",
      "\n",
      "At random state 90 the model performs very well\n",
      "At random state 90 :\n",
      "Training accuracy score is 61.645832849209945\n",
      "Testing accuracy score is 59.09769530187572 \n",
      "\n",
      "At random state 91 the model performs very well\n",
      "At random state 91 :\n",
      "Training accuracy score is 62.13897574334152\n",
      "Testing accuracy score is 57.568172874992875 \n",
      "\n",
      "At random state 92 the model performs very well\n",
      "At random state 92 :\n",
      "Training accuracy score is 61.806137432055266\n",
      "Testing accuracy score is 59.02102155215504 \n",
      "\n",
      "At random state 93 the model performs very well\n",
      "At random state 93 :\n",
      "Training accuracy score is 61.761693863282915\n",
      "Testing accuracy score is 58.731627547639356 \n",
      "\n",
      "At random state 94 the model performs very well\n",
      "At random state 94 :\n",
      "Training accuracy score is 61.08085011898139\n",
      "Testing accuracy score is 60.374941457106715 \n",
      "\n",
      "At random state 95 the model performs very well\n",
      "At random state 95 :\n",
      "Training accuracy score is 62.0713654936036\n",
      "Testing accuracy score is 58.57508297109326 \n",
      "\n",
      "At random state 96 the model performs very well\n",
      "At random state 96 :\n",
      "Training accuracy score is 61.71964384699674\n",
      "Testing accuracy score is 59.34649641053229 \n",
      "\n",
      "At random state 97 the model performs very well\n",
      "At random state 97 :\n",
      "Training accuracy score is 61.43180507557435\n",
      "Testing accuracy score is 60.223771518419454 \n",
      "\n",
      "At random state 98 the model performs very well\n",
      "At random state 98 :\n",
      "Training accuracy score is 61.4465717199781\n",
      "Testing accuracy score is 59.54281003987344 \n",
      "\n",
      "At random state 99 the model performs very well\n",
      "At random state 99 :\n",
      "Training accuracy score is 61.27007126884148\n",
      "Testing accuracy score is 59.479362177913295 \n",
      "\n"
     ]
    }
   ],
   "source": [
    "for i in range(0,100):\n",
    "    x_train,x_test,y_train,y_test=train_test_split(x,y,random_state=i,test_size=.30)\n",
    "    gbr=GradientBoostingRegressor(criterion='friedman_mse',max_features='sqrt')\n",
    "    gbr.fit(x_train,y_train)\n",
    "    predtrain=gbr.predict(x_train)\n",
    "    predgbr=gbr.predict(x_test)\n",
    "    \n",
    "    print('At random state',i,'the model performs very well')\n",
    "    print('At random state',i,':')\n",
    "    print('Training accuracy score is',r2_score(y_train,predtrain)*100)\n",
    "    print('Testing accuracy score is',r2_score(y_test,predgbr)*100,'\\n')"
   ]
  },
  {
   "cell_type": "code",
   "execution_count": 78,
   "id": "794f645b",
   "metadata": {},
   "outputs": [],
   "source": [
    "x_train,x_test,y_train,y_test=train_test_split(x,y,random_state=18,test_size=.30)\n",
    "gbr=GradientBoostingRegressor(criterion='friedman_mse',max_features='sqrt')\n",
    "gbr.fit(x_train,y_train)\n",
    "predtrain=gbr.predict(x_train)\n",
    "predgbr=gbr.predict(x_test)"
   ]
  },
  {
   "cell_type": "code",
   "execution_count": 79,
   "id": "53a4bff2",
   "metadata": {},
   "outputs": [
    {
     "name": "stdout",
     "output_type": "stream",
     "text": [
      "59.20267976502033\n"
     ]
    }
   ],
   "source": [
    "print(r2_score(y_test,predgbr)*100)"
   ]
  },
  {
   "cell_type": "code",
   "execution_count": 108,
   "id": "96f6ae7c",
   "metadata": {},
   "outputs": [
    {
     "name": "stdout",
     "output_type": "stream",
     "text": [
      "Mean squared error: 1056209.4735486957\n",
      "Mean absolute error: 744.6636606061024\n"
     ]
    }
   ],
   "source": [
    "msegbrt=mean_squared_error(y_test,predgbr)\n",
    "maegbrt=mean_absolute_error(y_test,predgbr)\n",
    "\n",
    "print('Mean squared error:',msegbrt)\n",
    "print('Mean absolute error:',maegbrt)"
   ]
  },
  {
   "cell_type": "code",
   "execution_count": 62,
   "id": "0ea7c6dc",
   "metadata": {},
   "outputs": [
    {
     "name": "stdout",
     "output_type": "stream",
     "text": [
      "At cv: 2\n",
      "Cross Validation Score: 58.99010306324476 \n",
      "\n",
      "At cv: 3\n",
      "Cross Validation Score: 59.00321846809201 \n",
      "\n",
      "At cv: 4\n",
      "Cross Validation Score: 58.93024750819187 \n",
      "\n",
      "At cv: 5\n",
      "Cross Validation Score: 58.94953913402975 \n",
      "\n",
      "At cv: 6\n",
      "Cross Validation Score: 59.27369384938196 \n",
      "\n",
      "At cv: 7\n",
      "Cross Validation Score: 59.17894960086002 \n",
      "\n",
      "At cv: 8\n",
      "Cross Validation Score: 59.125292532092054 \n",
      "\n",
      "At cv: 9\n",
      "Cross Validation Score: 59.11668479291463 \n",
      "\n",
      "At cv: 10\n",
      "Cross Validation Score: 59.06596746108386 \n",
      "\n",
      "At cv: 11\n",
      "Cross Validation Score: 59.09763335592184 \n",
      "\n",
      "At cv: 12\n",
      "Cross Validation Score: 59.11771154825701 \n",
      "\n",
      "At cv: 13\n",
      "Cross Validation Score: 59.07084857527989 \n",
      "\n",
      "At cv: 14\n",
      "Cross Validation Score: 59.08984759960406 \n",
      "\n",
      "At cv: 15\n",
      "Cross Validation Score: 59.1226546115454 \n",
      "\n",
      "At cv: 16\n",
      "Cross Validation Score: 59.15202687998291 \n",
      "\n",
      "At cv: 17\n",
      "Cross Validation Score: 59.11094871868205 \n",
      "\n",
      "At cv: 18\n",
      "Cross Validation Score: 59.018113652197925 \n",
      "\n",
      "At cv: 19\n",
      "Cross Validation Score: 59.14601455555065 \n",
      "\n"
     ]
    }
   ],
   "source": [
    "for j in range(2,20):\n",
    "    gbr=GradientBoostingRegressor(criterion='friedman_mse',max_features='sqrt')\n",
    "    cvs=cross_val_score(gbr,x,y,cv=j)\n",
    "    cvc=cvs.mean()\n",
    "    print('At cv:',j)\n",
    "    print('Cross Validation Score:',cvc*100,'\\n')"
   ]
  },
  {
   "cell_type": "code",
   "execution_count": 112,
   "id": "92ebb52a",
   "metadata": {},
   "outputs": [
    {
     "data": {
      "text/html": [
       "<div>\n",
       "<style scoped>\n",
       "    .dataframe tbody tr th:only-of-type {\n",
       "        vertical-align: middle;\n",
       "    }\n",
       "\n",
       "    .dataframe tbody tr th {\n",
       "        vertical-align: top;\n",
       "    }\n",
       "\n",
       "    .dataframe thead th {\n",
       "        text-align: right;\n",
       "    }\n",
       "</style>\n",
       "<table border=\"1\" class=\"dataframe\">\n",
       "  <thead>\n",
       "    <tr style=\"text-align: right;\">\n",
       "      <th></th>\n",
       "      <th>Mean Squared Error</th>\n",
       "      <th>Mean Absolute Error</th>\n",
       "    </tr>\n",
       "  </thead>\n",
       "  <tbody>\n",
       "    <tr>\n",
       "      <th>LinearRegression</th>\n",
       "      <td>1.249333e+06</td>\n",
       "      <td>849.666099</td>\n",
       "    </tr>\n",
       "    <tr>\n",
       "      <th>Lasso</th>\n",
       "      <td>1.249613e+06</td>\n",
       "      <td>849.766353</td>\n",
       "    </tr>\n",
       "    <tr>\n",
       "      <th>Ridge</th>\n",
       "      <td>1.249361e+06</td>\n",
       "      <td>849.673453</td>\n",
       "    </tr>\n",
       "    <tr>\n",
       "      <th>KNeighbors</th>\n",
       "      <td>1.242444e+06</td>\n",
       "      <td>800.322653</td>\n",
       "    </tr>\n",
       "    <tr>\n",
       "      <th>DecisionTree</th>\n",
       "      <td>2.152968e+06</td>\n",
       "      <td>1046.979842</td>\n",
       "    </tr>\n",
       "    <tr>\n",
       "      <th>RandomForest</th>\n",
       "      <td>1.094493e+06</td>\n",
       "      <td>751.611728</td>\n",
       "    </tr>\n",
       "    <tr>\n",
       "      <th>AdaBoost</th>\n",
       "      <td>1.249333e+06</td>\n",
       "      <td>849.666099</td>\n",
       "    </tr>\n",
       "    <tr>\n",
       "      <th>GradientBoosting</th>\n",
       "      <td>1.057120e+06</td>\n",
       "      <td>741.782331</td>\n",
       "    </tr>\n",
       "    <tr>\n",
       "      <th>GradientBoosting Tuned</th>\n",
       "      <td>1.056209e+06</td>\n",
       "      <td>744.663661</td>\n",
       "    </tr>\n",
       "  </tbody>\n",
       "</table>\n",
       "</div>"
      ],
      "text/plain": [
       "                        Mean Squared Error  Mean Absolute Error\n",
       "LinearRegression              1.249333e+06           849.666099\n",
       "Lasso                         1.249613e+06           849.766353\n",
       "Ridge                         1.249361e+06           849.673453\n",
       "KNeighbors                    1.242444e+06           800.322653\n",
       "DecisionTree                  2.152968e+06          1046.979842\n",
       "RandomForest                  1.094493e+06           751.611728\n",
       "AdaBoost                      1.249333e+06           849.666099\n",
       "GradientBoosting              1.057120e+06           741.782331\n",
       "GradientBoosting Tuned        1.056209e+06           744.663661"
      ]
     },
     "execution_count": 112,
     "metadata": {},
     "output_type": "execute_result"
    }
   ],
   "source": [
    "errordf=pd.DataFrame({'Mean Squared Error':[mselr,msels,mseri,mseknn,msedtc,mserf,mseada,msegbr,msegbrt],'Mean Absolute Error':[maelr,maels,maeri,maeknn,maedtc,maerf,maeada,maegbr,maegbrt]},index=['LinearRegression','Lasso','Ridge','KNeighbors','DecisionTree','RandomForest','AdaBoost','GradientBoosting','GradientBoosting Tuned'])\n",
    "errordf"
   ]
  },
  {
   "cell_type": "code",
   "execution_count": 77,
   "id": "77f51dc6",
   "metadata": {},
   "outputs": [
    {
     "data": {
      "text/plain": [
       "59.24145509052207"
      ]
     },
     "execution_count": 77,
     "metadata": {},
     "output_type": "execute_result"
    }
   ],
   "source": [
    "gbr=GradientBoostingRegressor(criterion='friedman_mse',max_features='sqrt')\n",
    "cvs=cross_val_score(gbr,x,y,cv=6)\n",
    "cvc=cvs.mean()\n",
    "cvc*100"
   ]
  },
  {
   "cell_type": "code",
   "execution_count": 80,
   "id": "6e53a1d1",
   "metadata": {},
   "outputs": [
    {
     "name": "stdout",
     "output_type": "stream",
     "text": [
      "Model is performing fine with: GradientBoostingRegressor(max_features='sqrt')\n",
      "Accuracy Score is: 59.2\n",
      "Cross-Validation Score is: 59.2\n"
     ]
    }
   ],
   "source": [
    "#so we are going to save the best model that is GradientBoostingRegressor\n",
    "\n",
    "print('Model is performing fine with:',gbr)\n",
    "print('Accuracy Score is:',round(r2_score(y_test,predgbr)*100,1))\n",
    "print('Cross-Validation Score is:',round(cvc*100,1))"
   ]
  },
  {
   "cell_type": "code",
   "execution_count": 81,
   "id": "7f52fc76",
   "metadata": {},
   "outputs": [
    {
     "data": {
      "text/html": [
       "<div>\n",
       "<style scoped>\n",
       "    .dataframe tbody tr th:only-of-type {\n",
       "        vertical-align: middle;\n",
       "    }\n",
       "\n",
       "    .dataframe tbody tr th {\n",
       "        vertical-align: top;\n",
       "    }\n",
       "\n",
       "    .dataframe thead th {\n",
       "        text-align: right;\n",
       "    }\n",
       "</style>\n",
       "<table border=\"1\" class=\"dataframe\">\n",
       "  <thead>\n",
       "    <tr style=\"text-align: right;\">\n",
       "      <th></th>\n",
       "      <th>Original Item Sales</th>\n",
       "      <th>Predicted Item Sales</th>\n",
       "    </tr>\n",
       "  </thead>\n",
       "  <tbody>\n",
       "    <tr>\n",
       "      <th>8090</th>\n",
       "      <td>161.7894</td>\n",
       "      <td>-30.516516</td>\n",
       "    </tr>\n",
       "    <tr>\n",
       "      <th>6725</th>\n",
       "      <td>3691.1952</td>\n",
       "      <td>4438.818706</td>\n",
       "    </tr>\n",
       "    <tr>\n",
       "      <th>2651</th>\n",
       "      <td>3643.2576</td>\n",
       "      <td>3727.815959</td>\n",
       "    </tr>\n",
       "    <tr>\n",
       "      <th>428</th>\n",
       "      <td>796.9626</td>\n",
       "      <td>1502.621849</td>\n",
       "    </tr>\n",
       "    <tr>\n",
       "      <th>3078</th>\n",
       "      <td>2233.0932</td>\n",
       "      <td>2769.876603</td>\n",
       "    </tr>\n",
       "    <tr>\n",
       "      <th>...</th>\n",
       "      <td>...</td>\n",
       "      <td>...</td>\n",
       "    </tr>\n",
       "    <tr>\n",
       "      <th>8495</th>\n",
       "      <td>4314.3840</td>\n",
       "      <td>2744.643386</td>\n",
       "    </tr>\n",
       "    <tr>\n",
       "      <th>6170</th>\n",
       "      <td>679.1160</td>\n",
       "      <td>674.108633</td>\n",
       "    </tr>\n",
       "    <tr>\n",
       "      <th>3230</th>\n",
       "      <td>1416.8224</td>\n",
       "      <td>1709.641214</td>\n",
       "    </tr>\n",
       "    <tr>\n",
       "      <th>8165</th>\n",
       "      <td>4327.7000</td>\n",
       "      <td>4779.693880</td>\n",
       "    </tr>\n",
       "    <tr>\n",
       "      <th>2308</th>\n",
       "      <td>640.4996</td>\n",
       "      <td>786.241998</td>\n",
       "    </tr>\n",
       "  </tbody>\n",
       "</table>\n",
       "<p>2530 rows × 2 columns</p>\n",
       "</div>"
      ],
      "text/plain": [
       "      Original Item Sales  Predicted Item Sales\n",
       "8090             161.7894            -30.516516\n",
       "6725            3691.1952           4438.818706\n",
       "2651            3643.2576           3727.815959\n",
       "428              796.9626           1502.621849\n",
       "3078            2233.0932           2769.876603\n",
       "...                   ...                   ...\n",
       "8495            4314.3840           2744.643386\n",
       "6170             679.1160            674.108633\n",
       "3230            1416.8224           1709.641214\n",
       "8165            4327.7000           4779.693880\n",
       "2308             640.4996            786.241998\n",
       "\n",
       "[2530 rows x 2 columns]"
      ]
     },
     "execution_count": 81,
     "metadata": {},
     "output_type": "execute_result"
    }
   ],
   "source": [
    "preddf=pd.DataFrame({'Original Item Sales':y_test,'Predicted Item Sales':predgbr})\n",
    "preddf"
   ]
  },
  {
   "cell_type": "code",
   "execution_count": 82,
   "id": "8f602c3c",
   "metadata": {},
   "outputs": [],
   "source": [
    "#saving the model\n",
    "\n",
    "import pickle\n",
    "\n",
    "pickle.dump(gbr,open('bigdatamart.pkl','wb'))"
   ]
  },
  {
   "cell_type": "code",
   "execution_count": 1,
   "id": "aa7fc42f",
   "metadata": {},
   "outputs": [
    {
     "data": {
      "text/html": [
       "<div>\n",
       "<style scoped>\n",
       "    .dataframe tbody tr th:only-of-type {\n",
       "        vertical-align: middle;\n",
       "    }\n",
       "\n",
       "    .dataframe tbody tr th {\n",
       "        vertical-align: top;\n",
       "    }\n",
       "\n",
       "    .dataframe thead th {\n",
       "        text-align: right;\n",
       "    }\n",
       "</style>\n",
       "<table border=\"1\" class=\"dataframe\">\n",
       "  <thead>\n",
       "    <tr style=\"text-align: right;\">\n",
       "      <th></th>\n",
       "      <th>Item_Identifier</th>\n",
       "      <th>Item_Weight</th>\n",
       "      <th>Item_Fat_Content</th>\n",
       "      <th>Item_Visibility</th>\n",
       "      <th>Item_Type</th>\n",
       "      <th>Item_MRP</th>\n",
       "      <th>Outlet_Identifier</th>\n",
       "      <th>Outlet_Establishment_Year</th>\n",
       "      <th>Outlet_Size</th>\n",
       "      <th>Outlet_Location_Type</th>\n",
       "      <th>Outlet_Type</th>\n",
       "    </tr>\n",
       "  </thead>\n",
       "  <tbody>\n",
       "    <tr>\n",
       "      <th>0</th>\n",
       "      <td>FDW58</td>\n",
       "      <td>20.750</td>\n",
       "      <td>Low Fat</td>\n",
       "      <td>0.007565</td>\n",
       "      <td>Snack Foods</td>\n",
       "      <td>107.8622</td>\n",
       "      <td>OUT049</td>\n",
       "      <td>1999</td>\n",
       "      <td>Medium</td>\n",
       "      <td>Tier 1</td>\n",
       "      <td>Supermarket Type1</td>\n",
       "    </tr>\n",
       "    <tr>\n",
       "      <th>1</th>\n",
       "      <td>FDW14</td>\n",
       "      <td>8.300</td>\n",
       "      <td>reg</td>\n",
       "      <td>0.038428</td>\n",
       "      <td>Dairy</td>\n",
       "      <td>87.3198</td>\n",
       "      <td>OUT017</td>\n",
       "      <td>2007</td>\n",
       "      <td>NaN</td>\n",
       "      <td>Tier 2</td>\n",
       "      <td>Supermarket Type1</td>\n",
       "    </tr>\n",
       "    <tr>\n",
       "      <th>2</th>\n",
       "      <td>NCN55</td>\n",
       "      <td>14.600</td>\n",
       "      <td>Low Fat</td>\n",
       "      <td>0.099575</td>\n",
       "      <td>Others</td>\n",
       "      <td>241.7538</td>\n",
       "      <td>OUT010</td>\n",
       "      <td>1998</td>\n",
       "      <td>NaN</td>\n",
       "      <td>Tier 3</td>\n",
       "      <td>Grocery Store</td>\n",
       "    </tr>\n",
       "    <tr>\n",
       "      <th>3</th>\n",
       "      <td>FDQ58</td>\n",
       "      <td>7.315</td>\n",
       "      <td>Low Fat</td>\n",
       "      <td>0.015388</td>\n",
       "      <td>Snack Foods</td>\n",
       "      <td>155.0340</td>\n",
       "      <td>OUT017</td>\n",
       "      <td>2007</td>\n",
       "      <td>NaN</td>\n",
       "      <td>Tier 2</td>\n",
       "      <td>Supermarket Type1</td>\n",
       "    </tr>\n",
       "    <tr>\n",
       "      <th>4</th>\n",
       "      <td>FDY38</td>\n",
       "      <td>NaN</td>\n",
       "      <td>Regular</td>\n",
       "      <td>0.118599</td>\n",
       "      <td>Dairy</td>\n",
       "      <td>234.2300</td>\n",
       "      <td>OUT027</td>\n",
       "      <td>1985</td>\n",
       "      <td>Medium</td>\n",
       "      <td>Tier 3</td>\n",
       "      <td>Supermarket Type3</td>\n",
       "    </tr>\n",
       "    <tr>\n",
       "      <th>...</th>\n",
       "      <td>...</td>\n",
       "      <td>...</td>\n",
       "      <td>...</td>\n",
       "      <td>...</td>\n",
       "      <td>...</td>\n",
       "      <td>...</td>\n",
       "      <td>...</td>\n",
       "      <td>...</td>\n",
       "      <td>...</td>\n",
       "      <td>...</td>\n",
       "      <td>...</td>\n",
       "    </tr>\n",
       "    <tr>\n",
       "      <th>5676</th>\n",
       "      <td>FDB58</td>\n",
       "      <td>10.500</td>\n",
       "      <td>Regular</td>\n",
       "      <td>0.013496</td>\n",
       "      <td>Snack Foods</td>\n",
       "      <td>141.3154</td>\n",
       "      <td>OUT046</td>\n",
       "      <td>1997</td>\n",
       "      <td>Small</td>\n",
       "      <td>Tier 1</td>\n",
       "      <td>Supermarket Type1</td>\n",
       "    </tr>\n",
       "    <tr>\n",
       "      <th>5677</th>\n",
       "      <td>FDD47</td>\n",
       "      <td>7.600</td>\n",
       "      <td>Regular</td>\n",
       "      <td>0.142991</td>\n",
       "      <td>Starchy Foods</td>\n",
       "      <td>169.1448</td>\n",
       "      <td>OUT018</td>\n",
       "      <td>2009</td>\n",
       "      <td>Medium</td>\n",
       "      <td>Tier 3</td>\n",
       "      <td>Supermarket Type2</td>\n",
       "    </tr>\n",
       "    <tr>\n",
       "      <th>5678</th>\n",
       "      <td>NCO17</td>\n",
       "      <td>10.000</td>\n",
       "      <td>Low Fat</td>\n",
       "      <td>0.073529</td>\n",
       "      <td>Health and Hygiene</td>\n",
       "      <td>118.7440</td>\n",
       "      <td>OUT045</td>\n",
       "      <td>2002</td>\n",
       "      <td>NaN</td>\n",
       "      <td>Tier 2</td>\n",
       "      <td>Supermarket Type1</td>\n",
       "    </tr>\n",
       "    <tr>\n",
       "      <th>5679</th>\n",
       "      <td>FDJ26</td>\n",
       "      <td>15.300</td>\n",
       "      <td>Regular</td>\n",
       "      <td>0.000000</td>\n",
       "      <td>Canned</td>\n",
       "      <td>214.6218</td>\n",
       "      <td>OUT017</td>\n",
       "      <td>2007</td>\n",
       "      <td>NaN</td>\n",
       "      <td>Tier 2</td>\n",
       "      <td>Supermarket Type1</td>\n",
       "    </tr>\n",
       "    <tr>\n",
       "      <th>5680</th>\n",
       "      <td>FDU37</td>\n",
       "      <td>9.500</td>\n",
       "      <td>Regular</td>\n",
       "      <td>0.104720</td>\n",
       "      <td>Canned</td>\n",
       "      <td>79.7960</td>\n",
       "      <td>OUT045</td>\n",
       "      <td>2002</td>\n",
       "      <td>NaN</td>\n",
       "      <td>Tier 2</td>\n",
       "      <td>Supermarket Type1</td>\n",
       "    </tr>\n",
       "  </tbody>\n",
       "</table>\n",
       "<p>5681 rows × 11 columns</p>\n",
       "</div>"
      ],
      "text/plain": [
       "     Item_Identifier  Item_Weight Item_Fat_Content  Item_Visibility  \\\n",
       "0              FDW58       20.750          Low Fat         0.007565   \n",
       "1              FDW14        8.300              reg         0.038428   \n",
       "2              NCN55       14.600          Low Fat         0.099575   \n",
       "3              FDQ58        7.315          Low Fat         0.015388   \n",
       "4              FDY38          NaN          Regular         0.118599   \n",
       "...              ...          ...              ...              ...   \n",
       "5676           FDB58       10.500          Regular         0.013496   \n",
       "5677           FDD47        7.600          Regular         0.142991   \n",
       "5678           NCO17       10.000          Low Fat         0.073529   \n",
       "5679           FDJ26       15.300          Regular         0.000000   \n",
       "5680           FDU37        9.500          Regular         0.104720   \n",
       "\n",
       "               Item_Type  Item_MRP Outlet_Identifier  \\\n",
       "0            Snack Foods  107.8622            OUT049   \n",
       "1                  Dairy   87.3198            OUT017   \n",
       "2                 Others  241.7538            OUT010   \n",
       "3            Snack Foods  155.0340            OUT017   \n",
       "4                  Dairy  234.2300            OUT027   \n",
       "...                  ...       ...               ...   \n",
       "5676         Snack Foods  141.3154            OUT046   \n",
       "5677       Starchy Foods  169.1448            OUT018   \n",
       "5678  Health and Hygiene  118.7440            OUT045   \n",
       "5679              Canned  214.6218            OUT017   \n",
       "5680              Canned   79.7960            OUT045   \n",
       "\n",
       "      Outlet_Establishment_Year Outlet_Size Outlet_Location_Type  \\\n",
       "0                          1999      Medium               Tier 1   \n",
       "1                          2007         NaN               Tier 2   \n",
       "2                          1998         NaN               Tier 3   \n",
       "3                          2007         NaN               Tier 2   \n",
       "4                          1985      Medium               Tier 3   \n",
       "...                         ...         ...                  ...   \n",
       "5676                       1997       Small               Tier 1   \n",
       "5677                       2009      Medium               Tier 3   \n",
       "5678                       2002         NaN               Tier 2   \n",
       "5679                       2007         NaN               Tier 2   \n",
       "5680                       2002         NaN               Tier 2   \n",
       "\n",
       "            Outlet_Type  \n",
       "0     Supermarket Type1  \n",
       "1     Supermarket Type1  \n",
       "2         Grocery Store  \n",
       "3     Supermarket Type1  \n",
       "4     Supermarket Type3  \n",
       "...                 ...  \n",
       "5676  Supermarket Type1  \n",
       "5677  Supermarket Type2  \n",
       "5678  Supermarket Type1  \n",
       "5679  Supermarket Type1  \n",
       "5680  Supermarket Type1  \n",
       "\n",
       "[5681 rows x 11 columns]"
      ]
     },
     "execution_count": 1,
     "metadata": {},
     "output_type": "execute_result"
    }
   ],
   "source": [
    "#now loading the data for testing\n",
    "\n",
    "\n",
    "import pandas as pd\n",
    "import numpy as np\n",
    "\n",
    "dftest=pd.read_csv('bigdatamart_test.csv')\n",
    "dftest"
   ]
  },
  {
   "cell_type": "markdown",
   "id": "4714d510",
   "metadata": {},
   "source": [
    "operations:\n",
    "    \n",
    "- firstly we are going to check for null values and if present we will use imputation method.\n",
    "- then we are going to create new categories and combine some.\n",
    "- afterwards we are going to do encoding for categorical datatypes.\n",
    "- then we are going to predict the values based on our saved model by calling it."
   ]
  },
  {
   "cell_type": "code",
   "execution_count": 3,
   "id": "56d27750",
   "metadata": {},
   "outputs": [
    {
     "data": {
      "text/plain": [
       "Item_Identifier                 0\n",
       "Item_Weight                   976\n",
       "Item_Fat_Content                0\n",
       "Item_Visibility                 0\n",
       "Item_Type                       0\n",
       "Item_MRP                        0\n",
       "Outlet_Identifier               0\n",
       "Outlet_Establishment_Year       0\n",
       "Outlet_Size                  1606\n",
       "Outlet_Location_Type            0\n",
       "Outlet_Type                     0\n",
       "dtype: int64"
      ]
     },
     "execution_count": 3,
     "metadata": {},
     "output_type": "execute_result"
    }
   ],
   "source": [
    "#checking for null values:\n",
    "\n",
    "dftest.isnull().sum()"
   ]
  },
  {
   "cell_type": "code",
   "execution_count": 7,
   "id": "3c498e4f",
   "metadata": {},
   "outputs": [],
   "source": [
    "#using Simple Imputer to fill missing values\n",
    "\n",
    "from sklearn.impute import SimpleImputer\n",
    "\n",
    "imp=SimpleImputer()\n",
    "dftest['Item_Weight']=imp.fit_transform(dftest['Item_Weight'].values.reshape(-1,1))\n",
    "imp=SimpleImputer(strategy='most_frequent')\n",
    "dftest['Outlet_Size']=imp.fit_transform(dftest['Outlet_Size'].values.reshape(-1,1))"
   ]
  },
  {
   "cell_type": "code",
   "execution_count": 8,
   "id": "c1124ed2",
   "metadata": {},
   "outputs": [
    {
     "data": {
      "text/plain": [
       "Item_Identifier              0\n",
       "Item_Weight                  0\n",
       "Item_Fat_Content             0\n",
       "Item_Visibility              0\n",
       "Item_Type                    0\n",
       "Item_MRP                     0\n",
       "Outlet_Identifier            0\n",
       "Outlet_Establishment_Year    0\n",
       "Outlet_Size                  0\n",
       "Outlet_Location_Type         0\n",
       "Outlet_Type                  0\n",
       "dtype: int64"
      ]
     },
     "execution_count": 8,
     "metadata": {},
     "output_type": "execute_result"
    }
   ],
   "source": [
    "dftest.isnull().sum()"
   ]
  },
  {
   "cell_type": "code",
   "execution_count": 9,
   "id": "aada04a1",
   "metadata": {},
   "outputs": [
    {
     "data": {
      "text/plain": [
       "0       FD\n",
       "1       FD\n",
       "2       NC\n",
       "3       FD\n",
       "4       FD\n",
       "        ..\n",
       "5676    FD\n",
       "5677    FD\n",
       "5678    NC\n",
       "5679    FD\n",
       "5680    FD\n",
       "Name: Item_Type_New, Length: 5681, dtype: object"
      ]
     },
     "execution_count": 9,
     "metadata": {},
     "output_type": "execute_result"
    }
   ],
   "source": [
    "#now creating new item type and improving some columns\n",
    "\n",
    "dftest['Item_Type_New']=dftest['Item_Identifier'].apply(lambda x:x[:2])\n",
    "dftest['Item_Type_New']"
   ]
  },
  {
   "cell_type": "code",
   "execution_count": 10,
   "id": "19f131ce",
   "metadata": {},
   "outputs": [
    {
     "data": {
      "text/plain": [
       "0                 Food\n",
       "1                 Food\n",
       "2       Non-Consumable\n",
       "3                 Food\n",
       "4                 Food\n",
       "             ...      \n",
       "5676              Food\n",
       "5677              Food\n",
       "5678    Non-Consumable\n",
       "5679              Food\n",
       "5680              Food\n",
       "Name: Item_Type_New, Length: 5681, dtype: object"
      ]
     },
     "execution_count": 10,
     "metadata": {},
     "output_type": "execute_result"
    }
   ],
   "source": [
    "dftest['Item_Type_New']=dftest['Item_Type_New'].replace({'FD':'Food','DR':'Drink','NC':'Non-Consumable'})\n",
    "dftest['Item_Type_New']"
   ]
  },
  {
   "cell_type": "code",
   "execution_count": 11,
   "id": "ecdcae92",
   "metadata": {},
   "outputs": [],
   "source": [
    "dftest['Item_Visibility'].replace(0,dftest['Item_Visibility'].mean(),inplace=True)"
   ]
  },
  {
   "cell_type": "code",
   "execution_count": 13,
   "id": "f24a809d",
   "metadata": {},
   "outputs": [
    {
     "data": {
      "text/plain": [
       "array(['Low Fat', 'Regular'], dtype=object)"
      ]
     },
     "execution_count": 13,
     "metadata": {},
     "output_type": "execute_result"
    }
   ],
   "source": [
    "dftest['Item_Fat_Content'].replace({'LF':'Low Fat','low fat':'Low Fat','reg':'Regular'},inplace=True)\n",
    "dftest['Item_Fat_Content'].unique()"
   ]
  },
  {
   "cell_type": "code",
   "execution_count": 14,
   "id": "eb43a35a",
   "metadata": {},
   "outputs": [
    {
     "data": {
      "text/plain": [
       "array(['Low Fat', 'Regular', 'Non-Edible'], dtype=object)"
      ]
     },
     "execution_count": 14,
     "metadata": {},
     "output_type": "execute_result"
    }
   ],
   "source": [
    "dftest.loc[dftest['Item_Type_New']=='Non-Consumable','Item_Fat_Content']='Non-Edible'\n",
    "dftest['Item_Fat_Content'].unique()"
   ]
  },
  {
   "cell_type": "code",
   "execution_count": 15,
   "id": "50517f9b",
   "metadata": {},
   "outputs": [],
   "source": [
    "dftest['Outlet_Establishment_Year']=2013-dftest['Outlet_Establishment_Year']"
   ]
  },
  {
   "cell_type": "code",
   "execution_count": 18,
   "id": "f98f0c98",
   "metadata": {},
   "outputs": [
    {
     "data": {
      "text/plain": [
       "Item_Identifier               object\n",
       "Item_Weight                  float64\n",
       "Item_Fat_Content              object\n",
       "Item_Visibility              float64\n",
       "Item_Type                     object\n",
       "Item_MRP                     float64\n",
       "Outlet_Identifier             object\n",
       "Outlet_Establishment_Year      int64\n",
       "Outlet_Size                   object\n",
       "Outlet_Location_Type          object\n",
       "Outlet_Type                   object\n",
       "Item_Type_New                 object\n",
       "dtype: object"
      ]
     },
     "execution_count": 18,
     "metadata": {},
     "output_type": "execute_result"
    }
   ],
   "source": [
    "dftest.dtypes"
   ]
  },
  {
   "cell_type": "code",
   "execution_count": 20,
   "id": "152ae2ef",
   "metadata": {},
   "outputs": [],
   "source": [
    "from sklearn.preprocessing import LabelEncoder\n",
    "le=LabelEncoder()\n",
    "\n",
    "enco=['Item_Fat_Content','Outlet_Identifier','Outlet_Size','Outlet_Location_Type','Outlet_Type','Item_Type_New']\n",
    "\n",
    "for i in enco:\n",
    "    dftest[i]=le.fit_transform(dftest[i])"
   ]
  },
  {
   "cell_type": "code",
   "execution_count": 26,
   "id": "3952a598",
   "metadata": {},
   "outputs": [
    {
     "data": {
      "text/plain": [
       "Index(['Item_Identifier', 'Item_Weight', 'Item_Fat_Content', 'Item_Visibility',\n",
       "       'Item_Type', 'Item_MRP', 'Outlet_Identifier',\n",
       "       'Outlet_Establishment_Year', 'Outlet_Size', 'Outlet_Location_Type',\n",
       "       'Outlet_Type', 'Item_Type_New'],\n",
       "      dtype='object')"
      ]
     },
     "execution_count": 26,
     "metadata": {},
     "output_type": "execute_result"
    }
   ],
   "source": [
    "dftest.columns"
   ]
  },
  {
   "cell_type": "markdown",
   "id": "2c8fc1ff",
   "metadata": {},
   "source": [
    "- dropping the not required columns"
   ]
  },
  {
   "cell_type": "code",
   "execution_count": 83,
   "id": "f1ad7f2a",
   "metadata": {},
   "outputs": [
    {
     "data": {
      "text/plain": [
       "(5681, 8)"
      ]
     },
     "execution_count": 83,
     "metadata": {},
     "output_type": "execute_result"
    }
   ],
   "source": [
    "x=dftest.drop(['Item_Identifier','Item_Visibility','Outlet_Size','Item_Type'],axis=1)\n",
    "x.shape"
   ]
  },
  {
   "cell_type": "code",
   "execution_count": 86,
   "id": "fcb3c453",
   "metadata": {},
   "outputs": [],
   "source": [
    "#now predicting values using our saved model\n",
    "\n",
    "import pickle\n",
    "import warnings\n",
    "warnings.filterwarnings('ignore')\n",
    "\n",
    "model=pickle.load(open('bigdatamart.pkl','rb'))\n",
    "\n",
    "predtestdf=model.predict(x)"
   ]
  },
  {
   "cell_type": "code",
   "execution_count": 88,
   "id": "544675b5",
   "metadata": {},
   "outputs": [
    {
     "data": {
      "text/html": [
       "<div>\n",
       "<style scoped>\n",
       "    .dataframe tbody tr th:only-of-type {\n",
       "        vertical-align: middle;\n",
       "    }\n",
       "\n",
       "    .dataframe tbody tr th {\n",
       "        vertical-align: top;\n",
       "    }\n",
       "\n",
       "    .dataframe thead th {\n",
       "        text-align: right;\n",
       "    }\n",
       "</style>\n",
       "<table border=\"1\" class=\"dataframe\">\n",
       "  <thead>\n",
       "    <tr style=\"text-align: right;\">\n",
       "      <th></th>\n",
       "      <th>0</th>\n",
       "    </tr>\n",
       "  </thead>\n",
       "  <tbody>\n",
       "    <tr>\n",
       "      <th>0</th>\n",
       "      <td>2420.298405</td>\n",
       "    </tr>\n",
       "    <tr>\n",
       "      <th>1</th>\n",
       "      <td>5519.031180</td>\n",
       "    </tr>\n",
       "    <tr>\n",
       "      <th>2</th>\n",
       "      <td>4688.818074</td>\n",
       "    </tr>\n",
       "    <tr>\n",
       "      <th>3</th>\n",
       "      <td>3018.549762</td>\n",
       "    </tr>\n",
       "    <tr>\n",
       "      <th>4</th>\n",
       "      <td>5619.495870</td>\n",
       "    </tr>\n",
       "    <tr>\n",
       "      <th>...</th>\n",
       "      <td>...</td>\n",
       "    </tr>\n",
       "    <tr>\n",
       "      <th>5676</th>\n",
       "      <td>5030.091312</td>\n",
       "    </tr>\n",
       "    <tr>\n",
       "      <th>5677</th>\n",
       "      <td>5619.495870</td>\n",
       "    </tr>\n",
       "    <tr>\n",
       "      <th>5678</th>\n",
       "      <td>4953.263394</td>\n",
       "    </tr>\n",
       "    <tr>\n",
       "      <th>5679</th>\n",
       "      <td>5519.031180</td>\n",
       "    </tr>\n",
       "    <tr>\n",
       "      <th>5680</th>\n",
       "      <td>5519.031180</td>\n",
       "    </tr>\n",
       "  </tbody>\n",
       "</table>\n",
       "<p>5681 rows × 1 columns</p>\n",
       "</div>"
      ],
      "text/plain": [
       "                0\n",
       "0     2420.298405\n",
       "1     5519.031180\n",
       "2     4688.818074\n",
       "3     3018.549762\n",
       "4     5619.495870\n",
       "...           ...\n",
       "5676  5030.091312\n",
       "5677  5619.495870\n",
       "5678  4953.263394\n",
       "5679  5519.031180\n",
       "5680  5519.031180\n",
       "\n",
       "[5681 rows x 1 columns]"
      ]
     },
     "execution_count": 88,
     "metadata": {},
     "output_type": "execute_result"
    }
   ],
   "source": [
    "pd.DataFrame(predtestdf)"
   ]
  },
  {
   "cell_type": "code",
   "execution_count": null,
   "id": "fe0be4d2",
   "metadata": {},
   "outputs": [],
   "source": []
  }
 ],
 "metadata": {
  "kernelspec": {
   "display_name": "Python 3 (ipykernel)",
   "language": "python",
   "name": "python3"
  },
  "language_info": {
   "codemirror_mode": {
    "name": "ipython",
    "version": 3
   },
   "file_extension": ".py",
   "mimetype": "text/x-python",
   "name": "python",
   "nbconvert_exporter": "python",
   "pygments_lexer": "ipython3",
   "version": "3.9.7"
  }
 },
 "nbformat": 4,
 "nbformat_minor": 5
}
