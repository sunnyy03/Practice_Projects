{
 "cells": [
  {
   "cell_type": "code",
   "execution_count": 2,
   "id": "81a1521b",
   "metadata": {},
   "outputs": [],
   "source": [
    "# Importing required Exceptions which needs to handled\n",
    "from selenium.common.exceptions import StaleElementReferenceException, NoSuchElementException , ElementClickInterceptedException\n",
    "\n",
    "#importing warnings\n",
    "import warnings\n",
    "warnings.filterwarnings('ignore')\n",
    "\n",
    "# Importing selenium webdriver \n",
    "from selenium import webdriver\n",
    "\n",
    "# Importing Libraries\n",
    "import pandas as pd\n",
    "import numpy as np\n",
    "import selenium\n",
    "import time"
   ]
  },
  {
   "cell_type": "code",
   "execution_count": 3,
   "id": "5bfc5bed",
   "metadata": {},
   "outputs": [],
   "source": [
    "driver=webdriver.Chrome(\"chromedriver.exe\")"
   ]
  },
  {
   "cell_type": "code",
   "execution_count": 4,
   "id": "9bab22e6",
   "metadata": {},
   "outputs": [],
   "source": [
    "#loading the website on automated window\n",
    "\n",
    "driver.get(\"https://www.mi.com/in/service/authorized_stores/\")\n",
    "time.sleep(2)"
   ]
  },
  {
   "cell_type": "code",
   "execution_count": 5,
   "id": "2d96d508",
   "metadata": {},
   "outputs": [],
   "source": [
    "#making empty lists\n",
    "store_name    = []\n",
    "store_address = []\n",
    "store_timings = []\n",
    "store_phone   = []"
   ]
  },
  {
   "cell_type": "code",
   "execution_count": 6,
   "id": "a4ad3633",
   "metadata": {},
   "outputs": [],
   "source": [
    "for i in range(50):\n",
    "    \n",
    "    #clicking on the pointer if it's there\n",
    "    try:\n",
    "        driver.find_element(\"xpath\",\"//span[@class='address J_address pointer']\").click()\n",
    "    except NoSuchElementException:\n",
    "        pass\n",
    "    except StaleElementReferenceException:\n",
    "        pass\n",
    "    \n",
    "    \n",
    "    #extracting store name\n",
    "    try:\n",
    "        for i in driver.find_elements(\"xpath\",'//b[@class=\"store-name\"]'):\n",
    "            store_name.append(i.text)\n",
    "    except NoSuchElementException:\n",
    "        store_name.append(np.nan)\n",
    "        \n",
    "        \n",
    "    #extracting store address\n",
    "    try:\n",
    "        for i in driver.find_elements(\"xpath\",'//div[@class=\"content\"]/ul/li/p[2]/span[2]'):\n",
    "            store_address.append(i.text)\n",
    "    except NoSuchElementException:\n",
    "        store_address.append(np.nan)\n",
    "        \n",
    "        \n",
    "    \n",
    "    #extracting store timings\n",
    "\n",
    "    try:\n",
    "        for i in driver.find_elements(\"xpath\",'//div[@class=\"content\"]/ul/li/p[3]/span[2]'):\n",
    "            store_timings.append(i.text)\n",
    "    except NoSuchElementException:\n",
    "        store_timings.append(np.nan)\n",
    "        \n",
    "        \n",
    "    #extracting store's phone number\n",
    "    \n",
    "    try:\n",
    "        for i in driver.find_elements(\"xpath\",'//div[@class=\"content\"]/ul/li/p[4]/span[2]'):\n",
    "            store_phone.append(i.text)\n",
    "    except NoSuchElementException:\n",
    "        store_phone.append(np.nan)\n",
    "        \n",
    "        \n",
    "    #clicking on next page button\n",
    "    \n",
    "    driver.find_element(\"xpath\",\"//a[@class='next']\").click()\n",
    "    time.sleep(1)"
   ]
  },
  {
   "cell_type": "code",
   "execution_count": 7,
   "id": "4bb4e525",
   "metadata": {},
   "outputs": [
    {
     "data": {
      "text/plain": [
       "(400, 400, 400, 400)"
      ]
     },
     "execution_count": 7,
     "metadata": {},
     "output_type": "execute_result"
    }
   ],
   "source": [
    "len(store_name) , len(store_address) , len(store_timings) , len(store_phone)"
   ]
  },
  {
   "cell_type": "code",
   "execution_count": 23,
   "id": "84917923",
   "metadata": {},
   "outputs": [
    {
     "data": {
      "text/plain": [
       "['10:00 AM - 9:30 PM, Monday To Sunday',\n",
       " '10:00 AM - 9:30 PM, Monday To Sunday',\n",
       " '10:00 - 21:30, Monday To Sunday',\n",
       " '10:00 - 21:30, Monday To Sunday',\n",
       " '10:00 - 21:30, Monday To Sunday']"
      ]
     },
     "execution_count": 23,
     "metadata": {},
     "output_type": "execute_result"
    }
   ],
   "source": [
    "store_timings[:5]   #checking store_timings list"
   ]
  },
  {
   "cell_type": "code",
   "execution_count": 24,
   "id": "1b63458f",
   "metadata": {},
   "outputs": [],
   "source": [
    "store_timings = [i[:i.index(',')] for i in store_timings]    #removing everything except the timings from the list elements"
   ]
  },
  {
   "cell_type": "code",
   "execution_count": 25,
   "id": "cbdf46f2",
   "metadata": {},
   "outputs": [
    {
     "data": {
      "text/html": [
       "<div>\n",
       "<style scoped>\n",
       "    .dataframe tbody tr th:only-of-type {\n",
       "        vertical-align: middle;\n",
       "    }\n",
       "\n",
       "    .dataframe tbody tr th {\n",
       "        vertical-align: top;\n",
       "    }\n",
       "\n",
       "    .dataframe thead th {\n",
       "        text-align: right;\n",
       "    }\n",
       "</style>\n",
       "<table border=\"1\" class=\"dataframe\">\n",
       "  <thead>\n",
       "    <tr style=\"text-align: right;\">\n",
       "      <th></th>\n",
       "      <th>Store Name</th>\n",
       "      <th>Store Address</th>\n",
       "      <th>Store Timings</th>\n",
       "      <th>Mobile</th>\n",
       "    </tr>\n",
       "  </thead>\n",
       "  <tbody>\n",
       "    <tr>\n",
       "      <th>0</th>\n",
       "      <td>S.R.E.Enterprises Tumkur</td>\n",
       "      <td>Opp govt pu collage- Pavagada road 572132</td>\n",
       "      <td>10:00 AM - 9:30 PM</td>\n",
       "      <td>9972285143</td>\n",
       "    </tr>\n",
       "    <tr>\n",
       "      <th>1</th>\n",
       "      <td>MI STORE - ALWAL Hyderabad</td>\n",
       "      <td>Shop No. 1-11-96- Near Alwal Bus Stop- Golnaka...</td>\n",
       "      <td>10:00 AM - 9:30 PM</td>\n",
       "      <td>9849838168</td>\n",
       "    </tr>\n",
       "    <tr>\n",
       "      <th>2</th>\n",
       "      <td>Mi Store JASFER EXPO Tiruninravur</td>\n",
       "      <td>#132- PERIYAPALAYAM HIGH ROAD-THIRUNINRAVUR</td>\n",
       "      <td>10:00 - 21:30</td>\n",
       "      <td>9941186161</td>\n",
       "    </tr>\n",
       "    <tr>\n",
       "      <th>3</th>\n",
       "      <td>Padmasri Cellulars - TPT (Xiaomi) - Mi Store R...</td>\n",
       "      <td>6/399/2, RS Road, Rajampet-516115</td>\n",
       "      <td>10:00 - 21:30</td>\n",
       "      <td>9866267267</td>\n",
       "    </tr>\n",
       "    <tr>\n",
       "      <th>4</th>\n",
       "      <td>Sri Laxmi MyZone - AP (Xiaomi) - Mi Store KASI...</td>\n",
       "      <td>Opp ICIC Bank - -K T Road- Kasibugga - 532222</td>\n",
       "      <td>10:00 - 21:30</td>\n",
       "      <td>8106107000</td>\n",
       "    </tr>\n",
       "    <tr>\n",
       "      <th>...</th>\n",
       "      <td>...</td>\n",
       "      <td>...</td>\n",
       "      <td>...</td>\n",
       "      <td>...</td>\n",
       "    </tr>\n",
       "    <tr>\n",
       "      <th>395</th>\n",
       "      <td>S.V.G Communications - AP - New Mi Store CHEEP...</td>\n",
       "      <td>Door No - 14-210- 14-211- Cheepurupalli (V)- C...</td>\n",
       "      <td>10:00 - 21:30</td>\n",
       "      <td>7989693939</td>\n",
       "    </tr>\n",
       "    <tr>\n",
       "      <th>396</th>\n",
       "      <td>Raju Cell Point and Electronics - AP - New Mi ...</td>\n",
       "      <td>D.no-3-13-raju shoping complex-opp shiridi sai...</td>\n",
       "      <td>10:00 - 21:30</td>\n",
       "      <td>9848004156</td>\n",
       "    </tr>\n",
       "    <tr>\n",
       "      <th>397</th>\n",
       "      <td>New Sri Aruna Cell Point - AP - New Mi Store K...</td>\n",
       "      <td>Shop No:G5- PML Complex- Vizianagaram Road- Ko...</td>\n",
       "      <td>10:00 - 21:30</td>\n",
       "      <td>7981545939</td>\n",
       "    </tr>\n",
       "    <tr>\n",
       "      <th>398</th>\n",
       "      <td>Mahadev Communications - AP - New Mi Store VIN...</td>\n",
       "      <td># 29-431/1- Lawyer Street- Near Aruna Theatre-...</td>\n",
       "      <td>10:00 - 21:30</td>\n",
       "      <td>9032323204</td>\n",
       "    </tr>\n",
       "    <tr>\n",
       "      <th>399</th>\n",
       "      <td>M.S. Digitals - AP - New Mi Store Nandyal</td>\n",
       "      <td>Shop No - 5-6- D.No:2/418-C5- NK Road- Nandyal...</td>\n",
       "      <td>10:00 - 21:30</td>\n",
       "      <td>9704222319</td>\n",
       "    </tr>\n",
       "  </tbody>\n",
       "</table>\n",
       "<p>400 rows × 4 columns</p>\n",
       "</div>"
      ],
      "text/plain": [
       "                                            Store Name  \\\n",
       "0                             S.R.E.Enterprises Tumkur   \n",
       "1                           MI STORE - ALWAL Hyderabad   \n",
       "2                    Mi Store JASFER EXPO Tiruninravur   \n",
       "3    Padmasri Cellulars - TPT (Xiaomi) - Mi Store R...   \n",
       "4    Sri Laxmi MyZone - AP (Xiaomi) - Mi Store KASI...   \n",
       "..                                                 ...   \n",
       "395  S.V.G Communications - AP - New Mi Store CHEEP...   \n",
       "396  Raju Cell Point and Electronics - AP - New Mi ...   \n",
       "397  New Sri Aruna Cell Point - AP - New Mi Store K...   \n",
       "398  Mahadev Communications - AP - New Mi Store VIN...   \n",
       "399          M.S. Digitals - AP - New Mi Store Nandyal   \n",
       "\n",
       "                                         Store Address       Store Timings  \\\n",
       "0            Opp govt pu collage- Pavagada road 572132  10:00 AM - 9:30 PM   \n",
       "1    Shop No. 1-11-96- Near Alwal Bus Stop- Golnaka...  10:00 AM - 9:30 PM   \n",
       "2          #132- PERIYAPALAYAM HIGH ROAD-THIRUNINRAVUR       10:00 - 21:30   \n",
       "3                    6/399/2, RS Road, Rajampet-516115       10:00 - 21:30   \n",
       "4        Opp ICIC Bank - -K T Road- Kasibugga - 532222       10:00 - 21:30   \n",
       "..                                                 ...                 ...   \n",
       "395  Door No - 14-210- 14-211- Cheepurupalli (V)- C...       10:00 - 21:30   \n",
       "396  D.no-3-13-raju shoping complex-opp shiridi sai...       10:00 - 21:30   \n",
       "397  Shop No:G5- PML Complex- Vizianagaram Road- Ko...       10:00 - 21:30   \n",
       "398  # 29-431/1- Lawyer Street- Near Aruna Theatre-...       10:00 - 21:30   \n",
       "399  Shop No - 5-6- D.No:2/418-C5- NK Road- Nandyal...       10:00 - 21:30   \n",
       "\n",
       "         Mobile  \n",
       "0    9972285143  \n",
       "1    9849838168  \n",
       "2    9941186161  \n",
       "3    9866267267  \n",
       "4    8106107000  \n",
       "..          ...  \n",
       "395  7989693939  \n",
       "396  9848004156  \n",
       "397  7981545939  \n",
       "398  9032323204  \n",
       "399  9704222319  \n",
       "\n",
       "[400 rows x 4 columns]"
      ]
     },
     "execution_count": 25,
     "metadata": {},
     "output_type": "execute_result"
    }
   ],
   "source": [
    "#forming a dataframe for the extracted data\n",
    "\n",
    "scraped_data = pd.DataFrame({\"Store Name\":store_name,\"Store Address\":store_address,\"Store Timings\":store_timings,\"Mobile\":store_phone})\n",
    "scraped_data"
   ]
  },
  {
   "cell_type": "code",
   "execution_count": 71,
   "id": "68c3bc12",
   "metadata": {},
   "outputs": [],
   "source": [
    "#storing the scraped data in a csv format\n",
    "\n",
    "scraped_data.to_csv(\"MI_store_details.csv\",index=False)"
   ]
  },
  {
   "cell_type": "code",
   "execution_count": 72,
   "id": "4a00c187",
   "metadata": {},
   "outputs": [],
   "source": [
    "#closing the driver\n",
    "driver.close()"
   ]
  },
  {
   "cell_type": "code",
   "execution_count": null,
   "id": "375080d0",
   "metadata": {},
   "outputs": [],
   "source": []
  }
 ],
 "metadata": {
  "kernelspec": {
   "display_name": "Python 3 (ipykernel)",
   "language": "python",
   "name": "python3"
  },
  "language_info": {
   "codemirror_mode": {
    "name": "ipython",
    "version": 3
   },
   "file_extension": ".py",
   "mimetype": "text/x-python",
   "name": "python",
   "nbconvert_exporter": "python",
   "pygments_lexer": "ipython3",
   "version": "3.9.13"
  }
 },
 "nbformat": 4,
 "nbformat_minor": 5
}
